{
 "cells": [
  {
   "cell_type": "markdown",
   "metadata": {
    "id": "jN7tT2jvuYxo"
   },
   "source": [
    "# Lesson 4 Notebook: BERT Endeavors\n",
    "\n",
    "**Description:** After some setup for our standard IMDB movie classification task we will explore BERT (obtained from the [Huggingface Transformer library](https://huggingface.co/docs/transformers/index)) and apply it to text classification.\n",
    "\n",
    "<a id = 'returnToTop'></a>\n",
    "\n",
    "## Notebook Contents\n",
    "  * 1. [Setup](#setup)\n",
    "  * 2. [Data Acquisition](#dataAcquisition)  \n",
    "  * 3. [BERT Basics](#bertBasics)\n",
    "    * 3.1 [Tokenization](#tokenization)\n",
    "    * 3.2 [Model Structure & Output](#modelOutput)\n",
    "    * 3.3 [Context Based Embeddings with BERT](#contextualEmbeddings)\n",
    "  * 4. [Text Classification with BERT (using the Pooler Output)](#BERTClassification)\n",
    "    * 4.1 [Classification Model Setup](#modelSetup)\n",
    "    * 4.2 [Model Training](#modelTraining)\n",
    "    * 4.3 [Class Exercise](#classExercise)\n",
    "\n",
    "  [![Open In Colab](https://colab.research.google.com/assets/colab-badge.svg)](https://colab.research.google.com/github/datasci-w266/2025-summer-main/blob/master/materials/lesson_notebooks/lesson_4_BERT.ipynb)"
   ]
  },
  {
   "cell_type": "markdown",
   "metadata": {
    "id": "knuH9pWDuYxs"
   },
   "source": [
    "[Return to Top](#returnToTop)  \n",
    "<a id = 'setup'></a>\n",
    "\n",
    "## 1. Setup\n",
    "\n",
    "This notebook requires the Huggingface transformers package and a dataset that you must download and then store locally."
   ]
  },
  {
   "cell_type": "code",
   "execution_count": null,
   "metadata": {
    "colab": {
     "base_uri": "https://localhost:8080/"
    },
    "id": "bbeFE53buYxu",
    "outputId": "8173d1ad-4026-4875-e169-4107558f210b"
   },
   "outputs": [
    {
     "name": "stdout",
     "output_type": "stream",
     "text": [
      "\u001b[?25l   \u001b[90m━━━━━━━━━━━━━━━━━━━━━━━━━━━━━━━━━━━━━━━━\u001b[0m \u001b[32m0.0/480.6 kB\u001b[0m \u001b[31m?\u001b[0m eta \u001b[36m-:--:--\u001b[0m\r",
      "\u001b[2K   \u001b[91m━━━━━━━━━━━━━━━━━━━━━━━━━━━━━━━━━━━━━━━\u001b[0m\u001b[90m╺\u001b[0m \u001b[32m471.0/480.6 kB\u001b[0m \u001b[31m20.4 MB/s\u001b[0m eta \u001b[36m0:00:01\u001b[0m\r",
      "\u001b[2K   \u001b[90m━━━━━━━━━━━━━━━━━━━━━━━━━━━━━━━━━━━━━━━━\u001b[0m \u001b[32m480.6/480.6 kB\u001b[0m \u001b[31m10.5 MB/s\u001b[0m eta \u001b[36m0:00:00\u001b[0m\n",
      "\u001b[2K   \u001b[90m━━━━━━━━━━━━━━━━━━━━━━━━━━━━━━━━━━━━━━━━\u001b[0m \u001b[32m116.3/116.3 kB\u001b[0m \u001b[31m5.4 MB/s\u001b[0m eta \u001b[36m0:00:00\u001b[0m\n",
      "\u001b[2K   \u001b[90m━━━━━━━━━━━━━━━━━━━━━━━━━━━━━━━━━━━━━━━━\u001b[0m \u001b[32m179.3/179.3 kB\u001b[0m \u001b[31m8.1 MB/s\u001b[0m eta \u001b[36m0:00:00\u001b[0m\n",
      "\u001b[2K   \u001b[90m━━━━━━━━━━━━━━━━━━━━━━━━━━━━━━━━━━━━━━━━\u001b[0m \u001b[32m143.5/143.5 kB\u001b[0m \u001b[31m7.9 MB/s\u001b[0m eta \u001b[36m0:00:00\u001b[0m\n",
      "\u001b[2K   \u001b[90m━━━━━━━━━━━━━━━━━━━━━━━━━━━━━━━━━━━━━━━━\u001b[0m \u001b[32m194.8/194.8 kB\u001b[0m \u001b[31m13.6 MB/s\u001b[0m eta \u001b[36m0:00:00\u001b[0m\n",
      "\u001b[?25h\u001b[31mERROR: pip's dependency resolver does not currently take into account all the packages that are installed. This behaviour is the source of the following dependency conflicts.\n",
      "gcsfs 2024.10.0 requires fsspec==2024.10.0, but you have fsspec 2024.9.0 which is incompatible.\u001b[0m\u001b[31m\n",
      "\u001b[2K   \u001b[90m━━━━━━━━━━━━━━━━━━━━━━━━━━━━━━━━━━━━━━━━\u001b[0m \u001b[32m84.0/84.0 kB\u001b[0m \u001b[31m5.5 MB/s\u001b[0m eta \u001b[36m0:00:00\u001b[0m\n",
      "\u001b[?25h"
     ]
    }
   ],
   "source": [
    "!pip install -q transformers\n",
    "!pip install -q torchinfo\n",
    "!pip install -U -q datasets fsspec huggingface_hub # Hugging Face's dataset library\n",
    "!pip install -q datasets\n",
    "!pip install -q evaluate"
   ]
  },
  {
   "cell_type": "markdown",
   "metadata": {
    "id": "UEuJaUNnuYxw"
   },
   "source": [
    "Ready to do the imports."
   ]
  },
  {
   "cell_type": "code",
   "execution_count": null,
   "metadata": {
    "id": "tB-wHngguYxx"
   },
   "outputs": [],
   "source": [
    "import numpy as np\n",
    "\n",
    "import transformers\n",
    "import evaluate\n",
    "\n",
    "from datasets import load_dataset\n",
    "from torchinfo import summary"
   ]
  },
  {
   "cell_type": "markdown",
   "metadata": {
    "id": "RW0-oUC9P5B8"
   },
   "source": [
    "For the Transformer library we need to import the **tokenizer**, the pre-trained **model**, and a **trainer** class plus **trainer arguments** to do the fine-tuning:"
   ]
  },
  {
   "cell_type": "code",
   "execution_count": null,
   "metadata": {
    "id": "Zn-icS7sP5pj"
   },
   "outputs": [],
   "source": [
    "from transformers import BertTokenizer, BertModel, BertForSequenceClassification\n",
    "from transformers import TrainingArguments, Trainer"
   ]
  },
  {
   "cell_type": "markdown",
   "metadata": {
    "id": "z_Bw3EB5Vwye"
   },
   "source": [
    "A small function calculating the cosine similarity may also come in handy:"
   ]
  },
  {
   "cell_type": "code",
   "execution_count": null,
   "metadata": {
    "id": "g3nNnV2_Vw_L"
   },
   "outputs": [],
   "source": [
    "def cosine_similarities(vecs):\n",
    "    for v_1 in vecs:\n",
    "        similarities = ''\n",
    "        for v_2 in vecs:\n",
    "            similarities += ('\\t' + str(np.dot(v_1, v_2)/np.sqrt(np.dot(v_1, v_1) * np.dot(v_2, v_2)))[:4])\n",
    "        print(similarities)"
   ]
  },
  {
   "cell_type": "markdown",
   "metadata": {
    "id": "nVV7cXFjuYx4"
   },
   "source": [
    "[Return to Top](#returnToTop)  \n",
    "<a id = 'dataAcquisition'></a>\n",
    "\n",
    "## 2. Data Acquisition\n",
    "\n",
    "We will use the IMDB dataset delivered as part of the Huggingface datasets library, and split into training and test sets. For expedience, we will limit ourselves in terms of train and test examples."
   ]
  },
  {
   "cell_type": "code",
   "execution_count": null,
   "metadata": {
    "colab": {
     "base_uri": "https://localhost:8080/",
     "height": 241,
     "referenced_widgets": [
      "12313f84a9c6432ea0e1e09daa2305fb",
      "71f88da0184a498592b1912dfd31fcf1",
      "c7ee5ce6c73b4934a61a9eba00ccbeb5",
      "18b86e2a29aa41d2ad288a7f50cc0d41",
      "409ad4d6ce5847b591438f3867e4e57b",
      "f9b5aef28dbf437b8d9d808bd531c421",
      "3b2374dff7214ee18343f00514239572",
      "1b2ac0cd48994fbf84f9a76779c7e2b9",
      "52497a8e1fbe4251a4afd00e50d4083d",
      "b68944ea290749c5876304477f2eb3d2",
      "14d2b5ff2cd04d93ac309d98b4bc8e68",
      "007024d4a527450f9e9f8dae9070f7c1",
      "b17722c715364805ba160cf2b31bea2b",
      "ede59d4548304c29878eca5b32f6404e",
      "a11377dfad9d42879c4792841a3ddef2",
      "54ae4add86154551a2df6d92fcd05e5c",
      "b915a963908449d5ac93f56781002704",
      "846f9f902f88471d93ae293369ece01d",
      "108570339a7b47959c1ae3f383ecf9f0",
      "ae45f7795a0b460684ff3fddc3abdb81",
      "4134756d85f34013af39bc0b1b050f5e",
      "e7ceb5edc3f749d096dac8f05ce60182",
      "237b7a3956614fa589167f2ad54fc0fc",
      "27d99b89c6b84db2a667a1aa8448a273",
      "09db103bdf22496a842c497834af3ba5",
      "9c18e6ecb23946e2b48f66e339c85356",
      "7744331a2c0e4aec870ef3abc47a4409",
      "6d96542937684e08ae688636e291dc09",
      "e70dd6789c0b43e28afe728648b40b30",
      "89788d765d814bdb82b9ff464d5b69fb",
      "3ed69460da534524a5d89fae8808085f",
      "3b5d9108419341349bb69bb1a9881af7",
      "fff7b58af4be49b69fdf3424a53162d8",
      "55ad217f4e5f4e55a750ad38a65d4296",
      "6293642583d94c3d9f0f86d35a5d741c",
      "a29aa416e734498bb41ca2ff984a1077",
      "7b61d9ee225a401ebecf5080e262fcf2",
      "2d911cf0750a4efbb0037b49c0d9572b",
      "c9a10d100a1b4339af1f5d08a001c73c",
      "024901c34cdb46609d2db8ddfb30ce59",
      "f896d56f60f64cc89c914065c5d6d276",
      "25b56c742687477aafd31d9e8fe3c7c9",
      "b0a26f612e02496bbf2f1b1242b66b4d",
      "313a10e651ea46bebbb958368b27aa2d",
      "02ffe2ad2ab6459f9ae60b111d32a32b",
      "0ddfc9a709784eab980d71229ef1247e",
      "2f3c6df3f3b749009ab52aca52b3cdb3",
      "2395226be2764c269f18189e3e7ca95e",
      "e2756e010e9243918e5039e6f2dfadfb",
      "da51968ff7d34bdf9ea97055c41f29e2",
      "8b1ed9d978af444a92efec1525e7f469",
      "4a7f065ecf5140768c2bea5eaed50404",
      "ed34527704fe482c9cab756db2e67948",
      "63611ff419f847f0b48bacdf10a77b4f",
      "afbd65cb2ea84673a1f2ce781d58fa02",
      "3cace54dcf224b3998ee8f531aa4ac88",
      "926c69c837b6407b8f2629a7df50348c",
      "cc96d3d83f914b9d8794f01d95a46f20",
      "7df5f9252b2741a4a534a1e73529f41b",
      "9d769ebaa53a427faedcd37e6b33c10e",
      "0e9e1e126573440a923c88beaa6072ba",
      "aa5395b208334192aebefebe9a4e35c2",
      "b4a0c98ebdf3417ebd92cc24b243efed",
      "29b6b0337b0b449187d52324f49156bc",
      "5554872807c640158beaed6947b8ed9a",
      "12b1fec3c63545748e8a7abcfc4471cc",
      "b9c70867be9c4e378cdbab562607d320",
      "2514750d625e429a9844f344c31e3145",
      "12af42580d1c41b795198d622ab40688",
      "d25bb5650d5b4f7e95062eee5b56dbc2",
      "a27c9ff8d00b45c1b84e297e3d1f79d7",
      "7a96a0d6aec3465badfd1fb365625b28",
      "28c0fff62f0c4f93900bf0ab0642f00b",
      "8dbd82fe03f6480c9bcf3e81cdc65d6f",
      "72b11eb88a124521ab214223ec741129",
      "c96ef7f3b95a4ddeb096cb119029cce4",
      "76e1fb69dd8f465db42c834b74b6f532"
     ]
    },
    "id": "DEsvBbocuYx4",
    "outputId": "034feb43-68c8-4fb7-aebf-6f39e04ae086"
   },
   "outputs": [
    {
     "data": {
      "application/vnd.jupyter.widget-view+json": {
       "model_id": "12313f84a9c6432ea0e1e09daa2305fb",
       "version_major": 2,
       "version_minor": 0
      },
      "text/plain": [
       "README.md:   0%|          | 0.00/7.81k [00:00<?, ?B/s]"
      ]
     },
     "metadata": {},
     "output_type": "display_data"
    },
    {
     "data": {
      "application/vnd.jupyter.widget-view+json": {
       "model_id": "007024d4a527450f9e9f8dae9070f7c1",
       "version_major": 2,
       "version_minor": 0
      },
      "text/plain": [
       "train-00000-of-00001.parquet:   0%|          | 0.00/21.0M [00:00<?, ?B/s]"
      ]
     },
     "metadata": {},
     "output_type": "display_data"
    },
    {
     "data": {
      "application/vnd.jupyter.widget-view+json": {
       "model_id": "237b7a3956614fa589167f2ad54fc0fc",
       "version_major": 2,
       "version_minor": 0
      },
      "text/plain": [
       "test-00000-of-00001.parquet:   0%|          | 0.00/20.5M [00:00<?, ?B/s]"
      ]
     },
     "metadata": {},
     "output_type": "display_data"
    },
    {
     "data": {
      "application/vnd.jupyter.widget-view+json": {
       "model_id": "55ad217f4e5f4e55a750ad38a65d4296",
       "version_major": 2,
       "version_minor": 0
      },
      "text/plain": [
       "unsupervised-00000-of-00001.parquet:   0%|          | 0.00/42.0M [00:00<?, ?B/s]"
      ]
     },
     "metadata": {},
     "output_type": "display_data"
    },
    {
     "data": {
      "application/vnd.jupyter.widget-view+json": {
       "model_id": "02ffe2ad2ab6459f9ae60b111d32a32b",
       "version_major": 2,
       "version_minor": 0
      },
      "text/plain": [
       "Generating train split:   0%|          | 0/25000 [00:00<?, ? examples/s]"
      ]
     },
     "metadata": {},
     "output_type": "display_data"
    },
    {
     "data": {
      "application/vnd.jupyter.widget-view+json": {
       "model_id": "3cace54dcf224b3998ee8f531aa4ac88",
       "version_major": 2,
       "version_minor": 0
      },
      "text/plain": [
       "Generating test split:   0%|          | 0/25000 [00:00<?, ? examples/s]"
      ]
     },
     "metadata": {},
     "output_type": "display_data"
    },
    {
     "data": {
      "application/vnd.jupyter.widget-view+json": {
       "model_id": "b9c70867be9c4e378cdbab562607d320",
       "version_major": 2,
       "version_minor": 0
      },
      "text/plain": [
       "Generating unsupervised split:   0%|          | 0/50000 [00:00<?, ? examples/s]"
      ]
     },
     "metadata": {},
     "output_type": "display_data"
    }
   ],
   "source": [
    "imdb_dataset = load_dataset(\"imdb\")"
   ]
  },
  {
   "cell_type": "code",
   "execution_count": null,
   "metadata": {
    "colab": {
     "base_uri": "https://localhost:8080/"
    },
    "id": "hVXmgm7YuYx4",
    "outputId": "cf2fd501-3b8a-4ebb-a1c9-696114a0f6c4"
   },
   "outputs": [
    {
     "data": {
      "text/plain": [
       "DatasetDict({\n",
       "    train: Dataset({\n",
       "        features: ['text', 'label'],\n",
       "        num_rows: 25000\n",
       "    })\n",
       "    test: Dataset({\n",
       "        features: ['text', 'label'],\n",
       "        num_rows: 25000\n",
       "    })\n",
       "    unsupervised: Dataset({\n",
       "        features: ['text', 'label'],\n",
       "        num_rows: 50000\n",
       "    })\n",
       "})"
      ]
     },
     "execution_count": 6,
     "metadata": {},
     "output_type": "execute_result"
    }
   ],
   "source": [
    "# Look at what's in the dataset\n",
    "imdb_dataset"
   ]
  },
  {
   "cell_type": "code",
   "execution_count": null,
   "metadata": {
    "colab": {
     "base_uri": "https://localhost:8080/"
    },
    "collapsed": true,
    "id": "bz2tFw9VuYx4",
    "outputId": "23859075-f749-41b7-9a44-318e6b4bce53"
   },
   "outputs": [
    {
     "name": "stdout",
     "output_type": "stream",
     "text": [
      "I rented I AM CURIOUS-YELLOW from my video store because of all the controversy that surrounded it when it was first released in 1967. I also heard that at first it was seized by U.S. customs if it ever tried to enter this country, therefore being a fan of films considered \"controversial\" I really had to see this for myself.<br /><br />The plot is centered around a young Swedish drama student named Lena who wants to learn everything she can about life. In particular she wants to focus her attentions to making some sort of documentary on what the average Swede thought about certain political issues such as the Vietnam War and race issues in the United States. In between asking politicians and ordinary denizens of Stockholm about their opinions on politics, she has sex with her drama teacher, classmates, and married men.<br /><br />What kills me about I AM CURIOUS-YELLOW is that 40 years ago, this was considered pornographic. Really, the sex and nudity scenes are few and far between, even then it's not shot like some cheaply made porno. While my countrymen mind find it shocking, in reality sex and nudity are a major staple in Swedish cinema. Even Ingmar Bergman, arguably their answer to good old boy John Ford, had sex scenes in his films.<br /><br />I do commend the filmmakers for the fact that any sex shown in the film is shown for artistic purposes rather than just to shock people and make money to be shown in pornographic theaters in America. I AM CURIOUS-YELLOW is a good film for anyone wanting to study the meat and potatoes (no pun intended) of Swedish cinema. But really, this film doesn't have much of a plot.\n",
      "0\n",
      "\n",
      "\"I Am Curious: Yellow\" is a risible and pretentious steaming pile. It doesn't matter what one's political views are because this film can hardly be taken seriously on any level. As for the claim that frontal male nudity is an automatic NC-17, that isn't true. I've seen R-rated films with male nudity. Granted, they only offer some fleeting views, but where are the R-rated films with gaping vulvas and flapping labia? Nowhere, because they don't exist. The same goes for those crappy cable shows: schlongs swinging in the breeze but not a clitoris in sight. And those pretentious indie movies like The Brown Bunny, in which we're treated to the site of Vincent Gallo's throbbing johnson, but not a trace of pink visible on Chloe Sevigny. Before crying (or implying) \"double-standard\" in matters of nudity, the mentally obtuse should take into account one unavoidably obvious anatomical difference between men and women: there are no genitals on display when actresses appears nude, and the same cannot be said for a man. In fact, you generally won't see female genitals in an American film in anything short of porn or explicit erotica. This alleged double-standard is less a double standard than an admittedly depressing ability to come to terms culturally with the insides of women's bodies.\n",
      "0\n",
      "\n",
      "If only to avoid making this type of film in the future. This film is interesting as an experiment but tells no cogent story.<br /><br />One might feel virtuous for sitting thru it because it touches on so many IMPORTANT issues but it does so without any discernable motive. The viewer comes away with no new perspectives (unless one comes up with one while one's mind wanders, as it will invariably do during this pointless film).<br /><br />One might better spend one's time staring out a window at a tree growing.<br /><br />\n",
      "0\n",
      "\n",
      "This film was probably inspired by Godard's Masculin, féminin and I urge you to see that film instead.<br /><br />The film has two strong elements and those are, (1) the realistic acting (2) the impressive, undeservedly good, photo. Apart from that, what strikes me most is the endless stream of silliness. Lena Nyman has to be most annoying actress in the world. She acts so stupid and with all the nudity in this film,...it's unattractive. Comparing to Godard's film, intellectuality has been replaced with stupidity. Without going too far on this subject, I would say that follows from the difference in ideals between the French and the Swedish society.<br /><br />A movie of its time, and place. 2/10.\n",
      "0\n",
      "\n"
     ]
    }
   ],
   "source": [
    "# Look at the first few examples\n",
    "for i in range(4):\n",
    "  print(imdb_dataset['train']['text'][i])\n",
    "  print(imdb_dataset['train']['label'][i])\n",
    "  print()"
   ]
  },
  {
   "cell_type": "code",
   "execution_count": null,
   "metadata": {
    "colab": {
     "base_uri": "https://localhost:8080/"
    },
    "id": "1fD5Ah2muYx5",
    "outputId": "36945302-6ec0-48fa-8658-790b6268d88a"
   },
   "outputs": [
    {
     "data": {
      "text/plain": [
       "['neg', 'pos']"
      ]
     },
     "execution_count": 8,
     "metadata": {},
     "output_type": "execute_result"
    }
   ],
   "source": [
    "# Look at the label names\n",
    "imdb_dataset['train'].features['label'].names"
   ]
  },
  {
   "cell_type": "markdown",
   "metadata": {
    "id": "JyUVciGOQ72E"
   },
   "source": [
    "[Return to Top](#returnToTop)  \n",
    "<a id = 'bertBasics'></a>\n",
    "## 3. BERT Basics\n",
    "\n",
    "We now need to settle on the pre-trained BERT model we want to use. We will leverage **'bert-base-cased'**.\n",
    "\n",
    "We need to load the model and corresponding tokenizer. Let's start with the tokenizer."
   ]
  },
  {
   "cell_type": "code",
   "execution_count": null,
   "metadata": {
    "colab": {
     "base_uri": "https://localhost:8080/",
     "height": 145,
     "referenced_widgets": [
      "a10b6749d61d48dd94587930df2fffcf",
      "2808e298ebad4458a51cb0e463daa121",
      "1bd9a2b334864f87ac66ab8da307b491",
      "8cf11c3b782a48bd87efeec744f8e145",
      "f5e935c298dc438591c9c0a21c095dfd",
      "c654037253e443feb73085005871f7e9",
      "81da0520933e4825835a313f9fd12e4b",
      "43872af618644087b1b084c0ad67497e",
      "5fe51a13cb6f4e6eaa2ceae004c4c805",
      "50efdb4bbb4f40c8a4cd879b606f6cbb",
      "45c14e4a40cf494fb769b03291f95af0",
      "96a6588b852042b88012a7c4aef9e76c",
      "f1ee6cad79e54c6290310558309129af",
      "d26d2069399f45149e93a5b6698f11c1",
      "ef0b1ebd57634a41b48f00047bfee7ea",
      "5d5dd70325e84571ae026c3dc469b54a",
      "3a1f83bbe3af4be8814dcbc511551c95",
      "627b91f17045400dafcd6905768c2c4d",
      "5b61efaf27c84953aa9ac47b653643d4",
      "ac96123bfbd94c59b99858c56cbc955c",
      "94c1b9da11544e6cabb28c30d38bab6d",
      "1c600060247a4e1b9f7b4c6b8637d370",
      "488be4bcaedd49709ca128351eecb061",
      "bb1c22bf04fa4485b52b729cc89fad44",
      "7366ae39eb2c433191f8df17e444311c",
      "0c5864364d8f46d688062ecea9a826ce",
      "ea4ef1d8b5ff4115a3f8de18c45d6908",
      "75afb97cdee24151b8e1c428e204dd3d",
      "54da151a0b094f9b9d051dfed0e175de",
      "c44dc08373de435780ced2a500a93d2e",
      "86f887a3567e4226a91c6aa86094f71a",
      "99726c61f166412b8c90953d42d73905",
      "0e0787f8db444562b06bd2961ca7cbc5",
      "ee5eef8bd9de4b56aebd9a0114376bb8",
      "67cf2592eb514f9692d20f9adac12b64",
      "1c321bd4836046e7ba5e77941826b261",
      "dd188187148e484aabce72b2dd353e13",
      "d18493eee7024436849d221a5e5d1ffe",
      "ca23284270da49199e2e9af246ff15ef",
      "00b012cd2e2d44ad9ea75509a7aa28ac",
      "18034ed5392d450ab44f1f292f1d2300",
      "dcc1ec5aec72425e9434e2efa7a4e4b2",
      "3505fcc815584219bdf2c88201f3274a",
      "ac6109d66f5f406387b7da5e9b89f6d2"
     ]
    },
    "id": "6VvVL8deRhtY",
    "outputId": "beab886c-07b7-46a1-9972-b5472506e140"
   },
   "outputs": [
    {
     "data": {
      "application/vnd.jupyter.widget-view+json": {
       "model_id": "a10b6749d61d48dd94587930df2fffcf",
       "version_major": 2,
       "version_minor": 0
      },
      "text/plain": [
       "tokenizer_config.json:   0%|          | 0.00/49.0 [00:00<?, ?B/s]"
      ]
     },
     "metadata": {},
     "output_type": "display_data"
    },
    {
     "data": {
      "application/vnd.jupyter.widget-view+json": {
       "model_id": "96a6588b852042b88012a7c4aef9e76c",
       "version_major": 2,
       "version_minor": 0
      },
      "text/plain": [
       "vocab.txt:   0%|          | 0.00/213k [00:00<?, ?B/s]"
      ]
     },
     "metadata": {},
     "output_type": "display_data"
    },
    {
     "data": {
      "application/vnd.jupyter.widget-view+json": {
       "model_id": "488be4bcaedd49709ca128351eecb061",
       "version_major": 2,
       "version_minor": 0
      },
      "text/plain": [
       "tokenizer.json:   0%|          | 0.00/436k [00:00<?, ?B/s]"
      ]
     },
     "metadata": {},
     "output_type": "display_data"
    },
    {
     "data": {
      "application/vnd.jupyter.widget-view+json": {
       "model_id": "ee5eef8bd9de4b56aebd9a0114376bb8",
       "version_major": 2,
       "version_minor": 0
      },
      "text/plain": [
       "config.json:   0%|          | 0.00/570 [00:00<?, ?B/s]"
      ]
     },
     "metadata": {},
     "output_type": "display_data"
    }
   ],
   "source": [
    "checkpoint = 'bert-base-cased'\n",
    "bert_tokenizer = BertTokenizer.from_pretrained(checkpoint)"
   ]
  },
  {
   "cell_type": "markdown",
   "metadata": {
    "id": "gGwBMcXDR235"
   },
   "source": [
    "[Return to Top](#returnToTop)  \n",
    "<a id = 'tokenization'></a>\n",
    "\n",
    "### 3.1 Tokenization\n",
    "\n",
    "Tokenization with BERT is interesting. To minimize the number of unknown words, BERT (like most pre-trained transformer models) uses a **subword** model for tokenization. We will see what that means in a second.\n",
    "\n",
    "Let's start with something simple:"
   ]
  },
  {
   "cell_type": "code",
   "execution_count": null,
   "metadata": {
    "colab": {
     "base_uri": "https://localhost:8080/"
    },
    "id": "2CZ5FbncSYtN",
    "outputId": "f41c3eb5-b756-4bf9-c0b4-38e75ed3d6a9"
   },
   "outputs": [
    {
     "data": {
      "text/plain": [
       "['This', 'is', 'great', '!']"
      ]
     },
     "execution_count": 10,
     "metadata": {},
     "output_type": "execute_result"
    }
   ],
   "source": [
    "bert_tokenizer.tokenize('This is great!')"
   ]
  },
  {
   "cell_type": "markdown",
   "metadata": {
    "id": "1Egd6BXhScvv"
   },
   "source": [
    "Ok, that is as expected. What about:"
   ]
  },
  {
   "cell_type": "code",
   "execution_count": null,
   "metadata": {
    "colab": {
     "base_uri": "https://localhost:8080/"
    },
    "id": "JWZlCdaiSdQy",
    "outputId": "6952aeb0-b6f2-4109-e624-674d38f1c83b"
   },
   "outputs": [
    {
     "data": {
      "text/plain": [
       "['This', 'tree', 'is', '125', '##3', 'years', 'old', '.']"
      ]
     },
     "execution_count": 11,
     "metadata": {},
     "output_type": "execute_result"
    }
   ],
   "source": [
    "bert_tokenizer.tokenize('This tree is 1253 years old.')"
   ]
  },
  {
   "cell_type": "markdown",
   "metadata": {
    "id": "U6ropVVNSn4p"
   },
   "source": [
    "or"
   ]
  },
  {
   "cell_type": "code",
   "execution_count": null,
   "metadata": {
    "colab": {
     "base_uri": "https://localhost:8080/"
    },
    "id": "m8yW5TB8SoCN",
    "outputId": "b770eda7-aef2-4039-be35-fffc70edd84d"
   },
   "outputs": [
    {
     "data": {
      "text/plain": [
       "['P', '##ne', '##um', '##onia', 'can', 'be', 'very', 'serious', '.']"
      ]
     },
     "execution_count": 12,
     "metadata": {},
     "output_type": "execute_result"
    }
   ],
   "source": [
    "bert_tokenizer.tokenize('Pneumonia can be very serious.')"
   ]
  },
  {
   "cell_type": "markdown",
   "metadata": {
    "id": "apDHuWYCSxGb"
   },
   "source": [
    "Ouch! Many more complex terms are not in BERT's vocabulary and are split up.\n",
    "\n",
    "**Question:** in what type of NLP problems can this lead to complications?\n",
    "\n",
    "Next, how do we generate the BERT input with its tokenizer? Fortunately, by now Huggingface's tokenizer implementation makes this rather straightforward:"
   ]
  },
  {
   "cell_type": "code",
   "execution_count": null,
   "metadata": {
    "colab": {
     "base_uri": "https://localhost:8080/"
    },
    "id": "RbwyQg5uRhwU",
    "outputId": "74e457c2-ec5b-41c7-bf25-2213051beda2"
   },
   "outputs": [
    {
     "data": {
      "text/plain": [
       "{'input_ids': [[101, 1188, 1110, 1632, 106, 102]], 'token_type_ids': [[0, 0, 0, 0, 0, 0]], 'attention_mask': [[1, 1, 1, 1, 1, 1]]}"
      ]
     },
     "execution_count": 13,
     "metadata": {},
     "output_type": "execute_result"
    }
   ],
   "source": [
    "bert_tokenizer(['This is great!'])"
   ]
  },
  {
   "cell_type": "markdown",
   "metadata": {
    "id": "5PWKc757TXvs"
   },
   "source": [
    "To make sure we do this correctly though we may want to specify that we want to have the inputs for TensorFlow (vs. PyTorch), and we may want to do some padding:"
   ]
  },
  {
   "cell_type": "code",
   "execution_count": null,
   "metadata": {
    "colab": {
     "base_uri": "https://localhost:8080/"
    },
    "id": "KGJVehAZRhy7",
    "outputId": "28953980-7eaa-4b0d-ad03-cec5be33c8ee"
   },
   "outputs": [
    {
     "data": {
      "text/plain": [
       "{'input_ids': tensor([[ 101, 1188, 1110, 1632,  106,  102,    0,    0,    0,    0],\n",
       "        [ 101, 1188, 1110, 6434,  106,  102,    0,    0,    0,    0]]), 'token_type_ids': tensor([[0, 0, 0, 0, 0, 0, 0, 0, 0, 0],\n",
       "        [0, 0, 0, 0, 0, 0, 0, 0, 0, 0]]), 'attention_mask': tensor([[1, 1, 1, 1, 1, 1, 0, 0, 0, 0],\n",
       "        [1, 1, 1, 1, 1, 1, 0, 0, 0, 0]])}"
      ]
     },
     "execution_count": 14,
     "metadata": {},
     "output_type": "execute_result"
    }
   ],
   "source": [
    "bert_input = bert_tokenizer.batch_encode_plus(\n",
    "    ['This is great!', 'This is terrible!'],\n",
    "    max_length=10,\n",
    "    truncation=True,\n",
    "    padding='max_length',\n",
    "    return_tensors='pt'\n",
    ")\n",
    "\n",
    "bert_input"
   ]
  },
  {
   "cell_type": "markdown",
   "metadata": {
    "id": "uflk2zNpmdzA"
   },
   "source": [
    "What do we notice? Look at shapes and values. Does everything make sense?\n",
    "\n",
    "**Question**: What is the input_id of the CLS token? What is the input_id of the SEP token?\n",
    "\n",
    "We'll use the tokenizer to preprocess our input text. We can define a function that takes each movie review and turns it into the inputs needed for the BERT model. Then we'll map that function onto our training and validation datasets.\n",
    "\n",
    "We'll restrict the number of examples we use during the live session, so that the training goes more quickly, but you can try using the full dataset on your own."
   ]
  },
  {
   "cell_type": "code",
   "execution_count": null,
   "metadata": {
    "id": "AByosWXkuxP-"
   },
   "outputs": [],
   "source": [
    "max_length = 128\n",
    "\n",
    "def preprocess_imdb(data):\n",
    "    review_text = data['text']\n",
    "\n",
    "    encoded = bert_tokenizer.batch_encode_plus(\n",
    "            review_text,\n",
    "            max_length=max_length,\n",
    "            padding='max_length',\n",
    "            truncation=True,\n",
    "            return_attention_mask=True,\n",
    "            return_token_type_ids=True,\n",
    "            return_tensors=\"pt\"\n",
    "        )\n",
    "\n",
    "    return encoded"
   ]
  },
  {
   "cell_type": "code",
   "execution_count": null,
   "metadata": {
    "colab": {
     "base_uri": "https://localhost:8080/",
     "height": 81,
     "referenced_widgets": [
      "8a20b35a87124bfbb28714451173d708",
      "6e5b3d63365f4fcbba120c7d638fc8bf",
      "9ff18d30f5ae4c7796e20978fd29ee8e",
      "f49e0f60324446cbb342ebfb400c5008",
      "f06ea6ce264749409bfdb708a5265b2f",
      "e16edea0c2d34ca6b9f7f9331b736c71",
      "2cd9d66823db4df1a0eae0344a6c3810",
      "ee53427fb64644ad8b42f61dbe4fe0d8",
      "ac1932ed37f74b7f88da1b7a3ca304c8",
      "12044173e45c4521bb776e4ad4b6f364",
      "1417d3025b204f6da888eec482d7f5cb",
      "6f70a181a9e34a1e8897c18edff38939",
      "f141fbba41c848e3bff87421c57258e3",
      "49ea611db09f47e4b43d67bfdc5af2f3",
      "62a5e255270e45f3997229cc79fc21ee",
      "745e3074435a47da829fb57e6c61b924",
      "0de7c179fbb44b9083e6eb46696c4487",
      "087fdec751144f16a34482c0f685a856",
      "d70b7623e4f84facb61391c1ecef744f",
      "c74475f2afd3411e81ed87eb469b355e",
      "df87029d68ee4fa0a9850b96bb2b2868",
      "4f3920fe55554f02b895ce3d28b6ff25"
     ]
    },
    "id": "xXbblWM9vI9Z",
    "outputId": "e79ab36d-9f18-4ab4-86a6-61d7b3829c38"
   },
   "outputs": [
    {
     "data": {
      "application/vnd.jupyter.widget-view+json": {
       "model_id": "8a20b35a87124bfbb28714451173d708",
       "version_major": 2,
       "version_minor": 0
      },
      "text/plain": [
       "Map:   0%|          | 0/5000 [00:00<?, ? examples/s]"
      ]
     },
     "metadata": {},
     "output_type": "display_data"
    },
    {
     "data": {
      "application/vnd.jupyter.widget-view+json": {
       "model_id": "6f70a181a9e34a1e8897c18edff38939",
       "version_major": 2,
       "version_minor": 0
      },
      "text/plain": [
       "Map:   0%|          | 0/500 [00:00<?, ? examples/s]"
      ]
     },
     "metadata": {},
     "output_type": "display_data"
    }
   ],
   "source": [
    "num_train = 5000  # There are 25,000 available; we'll use less in the live session\n",
    "num_dev = 500  # There are another 25,000 in the \"test\" split, which we'll use for validation, since the remaining split doesn't have labels\n",
    "\n",
    "imdb_train_dataset = imdb_dataset['train'].shuffle().select(range(num_train)).map(preprocess_imdb, batched=True)\n",
    "imdb_dev_dataset = imdb_dataset['test'].shuffle().select(range(num_dev)).map(preprocess_imdb, batched=True)"
   ]
  },
  {
   "cell_type": "code",
   "execution_count": null,
   "metadata": {
    "colab": {
     "base_uri": "https://localhost:8080/"
    },
    "id": "_L_5X9K-Yr24",
    "outputId": "8e34010b-5cda-469b-d04d-7fc6f627090f"
   },
   "outputs": [
    {
     "data": {
      "text/plain": [
       "Dataset({\n",
       "    features: ['text', 'label', 'input_ids', 'token_type_ids', 'attention_mask'],\n",
       "    num_rows: 5000\n",
       "})"
      ]
     },
     "execution_count": 17,
     "metadata": {},
     "output_type": "execute_result"
    }
   ],
   "source": [
    "imdb_train_dataset"
   ]
  },
  {
   "cell_type": "markdown",
   "metadata": {
    "id": "mBzUOfaWTwoa"
   },
   "source": [
    "[Return to Top](#returnToTop)  \n",
    "<a id = 'modelOutput'></a>\n",
    "\n",
    "### 3.2 Model Structure & Output\n",
    "\n",
    "Where we have familiarized ourselves with the tokenization, we can now turn to the model and its output.\n",
    "\n",
    "Let's start by using the basic BertModel class. This class loads only the pre-trained part of the model that we'll use, up until the last hidden layer. We don't want the output layers used in pre-training, since we won't be doing those tasks (i.e. masked token prediction or next sentence prediction).\n",
    "\n",
    "We can look at the model's internal weight matrices, to see what's in the pre-trained layers we've loaded. These are named, and they should be familiar, based on our knowledge of the BERT model architecture."
   ]
  },
  {
   "cell_type": "code",
   "execution_count": null,
   "metadata": {
    "colab": {
     "base_uri": "https://localhost:8080/",
     "height": 49,
     "referenced_widgets": [
      "c54336d3afe24e8dbecd398f26b028c2",
      "4644680ad39c461cb10d342848355d42",
      "853967d7f7fc4fd49855a712f66ba164",
      "02ad0b65163c4a46a8d9d3d3948d0785",
      "b867d114a9264866b00e22b148a0dd86",
      "8e22d9c75e604f1688185fa39e961f41",
      "c3f10df2b6f04de698caaadd64d3ed85",
      "f412765964234b89a27cfd66fe999886",
      "f5ac5c4aa21f4c0884d4b4a45ff4f08c",
      "bb62c3cdf41c47738cf74670bc4ba1dc",
      "18b4a1cc5da04bc99ca362edc1121b31"
     ]
    },
    "id": "78onR63vkomz",
    "outputId": "051a3c52-ee04-4108-cece-05dc7a0c367d"
   },
   "outputs": [
    {
     "data": {
      "application/vnd.jupyter.widget-view+json": {
       "model_id": "c54336d3afe24e8dbecd398f26b028c2",
       "version_major": 2,
       "version_minor": 0
      },
      "text/plain": [
       "model.safetensors:   0%|          | 0.00/436M [00:00<?, ?B/s]"
      ]
     },
     "metadata": {},
     "output_type": "display_data"
    }
   ],
   "source": [
    "bert_model = BertModel.from_pretrained(checkpoint)"
   ]
  },
  {
   "cell_type": "code",
   "execution_count": null,
   "metadata": {
    "colab": {
     "base_uri": "https://localhost:8080/"
    },
    "id": "GFc8_mlAbVMx",
    "outputId": "224e5c0b-585b-4f01-f955-95336580d69b"
   },
   "outputs": [
    {
     "name": "stdout",
     "output_type": "stream",
     "text": [
      "embeddings.word_embeddings.weight\n",
      "embeddings.position_embeddings.weight\n",
      "embeddings.token_type_embeddings.weight\n",
      "embeddings.LayerNorm.weight\n",
      "embeddings.LayerNorm.bias\n",
      "encoder.layer.0.attention.self.query.weight\n",
      "encoder.layer.0.attention.self.query.bias\n",
      "encoder.layer.0.attention.self.key.weight\n",
      "encoder.layer.0.attention.self.key.bias\n",
      "encoder.layer.0.attention.self.value.weight\n",
      "encoder.layer.0.attention.self.value.bias\n",
      "encoder.layer.0.attention.output.dense.weight\n",
      "encoder.layer.0.attention.output.dense.bias\n",
      "encoder.layer.0.attention.output.LayerNorm.weight\n",
      "encoder.layer.0.attention.output.LayerNorm.bias\n",
      "encoder.layer.0.intermediate.dense.weight\n",
      "encoder.layer.0.intermediate.dense.bias\n",
      "encoder.layer.0.output.dense.weight\n",
      "encoder.layer.0.output.dense.bias\n",
      "encoder.layer.0.output.LayerNorm.weight\n",
      "encoder.layer.0.output.LayerNorm.bias\n",
      "encoder.layer.1.attention.self.query.weight\n",
      "encoder.layer.1.attention.self.query.bias\n",
      "encoder.layer.1.attention.self.key.weight\n",
      "encoder.layer.1.attention.self.key.bias\n",
      "encoder.layer.1.attention.self.value.weight\n",
      "encoder.layer.1.attention.self.value.bias\n",
      "encoder.layer.1.attention.output.dense.weight\n",
      "encoder.layer.1.attention.output.dense.bias\n",
      "encoder.layer.1.attention.output.LayerNorm.weight\n",
      "encoder.layer.1.attention.output.LayerNorm.bias\n",
      "encoder.layer.1.intermediate.dense.weight\n",
      "encoder.layer.1.intermediate.dense.bias\n",
      "encoder.layer.1.output.dense.weight\n",
      "encoder.layer.1.output.dense.bias\n",
      "encoder.layer.1.output.LayerNorm.weight\n",
      "encoder.layer.1.output.LayerNorm.bias\n",
      "encoder.layer.2.attention.self.query.weight\n",
      "encoder.layer.2.attention.self.query.bias\n",
      "encoder.layer.2.attention.self.key.weight\n",
      "encoder.layer.2.attention.self.key.bias\n",
      "encoder.layer.2.attention.self.value.weight\n",
      "encoder.layer.2.attention.self.value.bias\n",
      "encoder.layer.2.attention.output.dense.weight\n",
      "encoder.layer.2.attention.output.dense.bias\n",
      "encoder.layer.2.attention.output.LayerNorm.weight\n",
      "encoder.layer.2.attention.output.LayerNorm.bias\n",
      "encoder.layer.2.intermediate.dense.weight\n",
      "encoder.layer.2.intermediate.dense.bias\n",
      "encoder.layer.2.output.dense.weight\n",
      "encoder.layer.2.output.dense.bias\n",
      "encoder.layer.2.output.LayerNorm.weight\n",
      "encoder.layer.2.output.LayerNorm.bias\n",
      "encoder.layer.3.attention.self.query.weight\n",
      "encoder.layer.3.attention.self.query.bias\n",
      "encoder.layer.3.attention.self.key.weight\n",
      "encoder.layer.3.attention.self.key.bias\n",
      "encoder.layer.3.attention.self.value.weight\n",
      "encoder.layer.3.attention.self.value.bias\n",
      "encoder.layer.3.attention.output.dense.weight\n",
      "encoder.layer.3.attention.output.dense.bias\n",
      "encoder.layer.3.attention.output.LayerNorm.weight\n",
      "encoder.layer.3.attention.output.LayerNorm.bias\n",
      "encoder.layer.3.intermediate.dense.weight\n",
      "encoder.layer.3.intermediate.dense.bias\n",
      "encoder.layer.3.output.dense.weight\n",
      "encoder.layer.3.output.dense.bias\n",
      "encoder.layer.3.output.LayerNorm.weight\n",
      "encoder.layer.3.output.LayerNorm.bias\n",
      "encoder.layer.4.attention.self.query.weight\n",
      "encoder.layer.4.attention.self.query.bias\n",
      "encoder.layer.4.attention.self.key.weight\n",
      "encoder.layer.4.attention.self.key.bias\n",
      "encoder.layer.4.attention.self.value.weight\n",
      "encoder.layer.4.attention.self.value.bias\n",
      "encoder.layer.4.attention.output.dense.weight\n",
      "encoder.layer.4.attention.output.dense.bias\n",
      "encoder.layer.4.attention.output.LayerNorm.weight\n",
      "encoder.layer.4.attention.output.LayerNorm.bias\n",
      "encoder.layer.4.intermediate.dense.weight\n",
      "encoder.layer.4.intermediate.dense.bias\n",
      "encoder.layer.4.output.dense.weight\n",
      "encoder.layer.4.output.dense.bias\n",
      "encoder.layer.4.output.LayerNorm.weight\n",
      "encoder.layer.4.output.LayerNorm.bias\n",
      "encoder.layer.5.attention.self.query.weight\n",
      "encoder.layer.5.attention.self.query.bias\n",
      "encoder.layer.5.attention.self.key.weight\n",
      "encoder.layer.5.attention.self.key.bias\n",
      "encoder.layer.5.attention.self.value.weight\n",
      "encoder.layer.5.attention.self.value.bias\n",
      "encoder.layer.5.attention.output.dense.weight\n",
      "encoder.layer.5.attention.output.dense.bias\n",
      "encoder.layer.5.attention.output.LayerNorm.weight\n",
      "encoder.layer.5.attention.output.LayerNorm.bias\n",
      "encoder.layer.5.intermediate.dense.weight\n",
      "encoder.layer.5.intermediate.dense.bias\n",
      "encoder.layer.5.output.dense.weight\n",
      "encoder.layer.5.output.dense.bias\n",
      "encoder.layer.5.output.LayerNorm.weight\n",
      "encoder.layer.5.output.LayerNorm.bias\n",
      "encoder.layer.6.attention.self.query.weight\n",
      "encoder.layer.6.attention.self.query.bias\n",
      "encoder.layer.6.attention.self.key.weight\n",
      "encoder.layer.6.attention.self.key.bias\n",
      "encoder.layer.6.attention.self.value.weight\n",
      "encoder.layer.6.attention.self.value.bias\n",
      "encoder.layer.6.attention.output.dense.weight\n",
      "encoder.layer.6.attention.output.dense.bias\n",
      "encoder.layer.6.attention.output.LayerNorm.weight\n",
      "encoder.layer.6.attention.output.LayerNorm.bias\n",
      "encoder.layer.6.intermediate.dense.weight\n",
      "encoder.layer.6.intermediate.dense.bias\n",
      "encoder.layer.6.output.dense.weight\n",
      "encoder.layer.6.output.dense.bias\n",
      "encoder.layer.6.output.LayerNorm.weight\n",
      "encoder.layer.6.output.LayerNorm.bias\n",
      "encoder.layer.7.attention.self.query.weight\n",
      "encoder.layer.7.attention.self.query.bias\n",
      "encoder.layer.7.attention.self.key.weight\n",
      "encoder.layer.7.attention.self.key.bias\n",
      "encoder.layer.7.attention.self.value.weight\n",
      "encoder.layer.7.attention.self.value.bias\n",
      "encoder.layer.7.attention.output.dense.weight\n",
      "encoder.layer.7.attention.output.dense.bias\n",
      "encoder.layer.7.attention.output.LayerNorm.weight\n",
      "encoder.layer.7.attention.output.LayerNorm.bias\n",
      "encoder.layer.7.intermediate.dense.weight\n",
      "encoder.layer.7.intermediate.dense.bias\n",
      "encoder.layer.7.output.dense.weight\n",
      "encoder.layer.7.output.dense.bias\n",
      "encoder.layer.7.output.LayerNorm.weight\n",
      "encoder.layer.7.output.LayerNorm.bias\n",
      "encoder.layer.8.attention.self.query.weight\n",
      "encoder.layer.8.attention.self.query.bias\n",
      "encoder.layer.8.attention.self.key.weight\n",
      "encoder.layer.8.attention.self.key.bias\n",
      "encoder.layer.8.attention.self.value.weight\n",
      "encoder.layer.8.attention.self.value.bias\n",
      "encoder.layer.8.attention.output.dense.weight\n",
      "encoder.layer.8.attention.output.dense.bias\n",
      "encoder.layer.8.attention.output.LayerNorm.weight\n",
      "encoder.layer.8.attention.output.LayerNorm.bias\n",
      "encoder.layer.8.intermediate.dense.weight\n",
      "encoder.layer.8.intermediate.dense.bias\n",
      "encoder.layer.8.output.dense.weight\n",
      "encoder.layer.8.output.dense.bias\n",
      "encoder.layer.8.output.LayerNorm.weight\n",
      "encoder.layer.8.output.LayerNorm.bias\n",
      "encoder.layer.9.attention.self.query.weight\n",
      "encoder.layer.9.attention.self.query.bias\n",
      "encoder.layer.9.attention.self.key.weight\n",
      "encoder.layer.9.attention.self.key.bias\n",
      "encoder.layer.9.attention.self.value.weight\n",
      "encoder.layer.9.attention.self.value.bias\n",
      "encoder.layer.9.attention.output.dense.weight\n",
      "encoder.layer.9.attention.output.dense.bias\n",
      "encoder.layer.9.attention.output.LayerNorm.weight\n",
      "encoder.layer.9.attention.output.LayerNorm.bias\n",
      "encoder.layer.9.intermediate.dense.weight\n",
      "encoder.layer.9.intermediate.dense.bias\n",
      "encoder.layer.9.output.dense.weight\n",
      "encoder.layer.9.output.dense.bias\n",
      "encoder.layer.9.output.LayerNorm.weight\n",
      "encoder.layer.9.output.LayerNorm.bias\n",
      "encoder.layer.10.attention.self.query.weight\n",
      "encoder.layer.10.attention.self.query.bias\n",
      "encoder.layer.10.attention.self.key.weight\n",
      "encoder.layer.10.attention.self.key.bias\n",
      "encoder.layer.10.attention.self.value.weight\n",
      "encoder.layer.10.attention.self.value.bias\n",
      "encoder.layer.10.attention.output.dense.weight\n",
      "encoder.layer.10.attention.output.dense.bias\n",
      "encoder.layer.10.attention.output.LayerNorm.weight\n",
      "encoder.layer.10.attention.output.LayerNorm.bias\n",
      "encoder.layer.10.intermediate.dense.weight\n",
      "encoder.layer.10.intermediate.dense.bias\n",
      "encoder.layer.10.output.dense.weight\n",
      "encoder.layer.10.output.dense.bias\n",
      "encoder.layer.10.output.LayerNorm.weight\n",
      "encoder.layer.10.output.LayerNorm.bias\n",
      "encoder.layer.11.attention.self.query.weight\n",
      "encoder.layer.11.attention.self.query.bias\n",
      "encoder.layer.11.attention.self.key.weight\n",
      "encoder.layer.11.attention.self.key.bias\n",
      "encoder.layer.11.attention.self.value.weight\n",
      "encoder.layer.11.attention.self.value.bias\n",
      "encoder.layer.11.attention.output.dense.weight\n",
      "encoder.layer.11.attention.output.dense.bias\n",
      "encoder.layer.11.attention.output.LayerNorm.weight\n",
      "encoder.layer.11.attention.output.LayerNorm.bias\n",
      "encoder.layer.11.intermediate.dense.weight\n",
      "encoder.layer.11.intermediate.dense.bias\n",
      "encoder.layer.11.output.dense.weight\n",
      "encoder.layer.11.output.dense.bias\n",
      "encoder.layer.11.output.LayerNorm.weight\n",
      "encoder.layer.11.output.LayerNorm.bias\n",
      "pooler.dense.weight\n",
      "pooler.dense.bias\n"
     ]
    }
   ],
   "source": [
    "for name, param in bert_model.named_parameters():\n",
    "    print(name)"
   ]
  },
  {
   "cell_type": "markdown",
   "metadata": {
    "id": "vKoR4g4pbZ0y"
   },
   "source": [
    "Now let's turn to BERT's output."
   ]
  },
  {
   "cell_type": "code",
   "execution_count": null,
   "metadata": {
    "colab": {
     "base_uri": "https://localhost:8080/"
    },
    "id": "hqwZzwpmTvfR",
    "outputId": "db0aae8e-44ce-4c98-a9ed-c9a54ab1b018"
   },
   "outputs": [
    {
     "data": {
      "text/plain": [
       "BaseModelOutputWithPoolingAndCrossAttentions(last_hidden_state=tensor([[[ 0.3179,  0.3525,  0.1506,  ..., -0.1706,  0.3517,  0.0125],\n",
       "         [ 0.2948, -0.0997,  0.6395,  ..., -0.0371,  0.2188,  0.3518],\n",
       "         [ 0.1575,  0.6034,  0.7143,  ...,  0.0823,  0.3011,  0.6374],\n",
       "         ...,\n",
       "         [-0.0841,  0.2192,  0.3046,  ..., -0.0895,  0.3235,  0.2655],\n",
       "         [ 0.2485, -0.0316,  0.3258,  ..., -0.1088,  0.4849,  0.0566],\n",
       "         [ 0.2249, -0.0716,  0.2036,  ...,  0.0480,  0.4485,  0.1516]],\n",
       "\n",
       "        [[ 0.3317,  0.3834,  0.0829,  ..., -0.2209,  0.2429, -0.1369],\n",
       "         [ 0.3239, -0.0473,  0.6687,  ..., -0.0043,  0.3423,  0.3567],\n",
       "         [ 0.2500,  0.7461,  0.3597,  ..., -0.1030,  0.2468,  0.7532],\n",
       "         ...,\n",
       "         [ 0.0742,  0.1487,  0.1221,  ..., -0.1052,  0.1900,  0.2008],\n",
       "         [ 0.2734, -0.1222,  0.1121,  ..., -0.0486,  0.4010,  0.1512],\n",
       "         [ 0.2248, -0.0299, -0.0100,  ...,  0.1512,  0.4156,  0.1596]]],\n",
       "       grad_fn=<NativeLayerNormBackward0>), pooler_output=tensor([[-0.6879,  0.4675,  0.9999,  ...,  1.0000, -0.8793,  0.9928],\n",
       "        [-0.5880,  0.5197,  0.9998,  ...,  1.0000, -0.8190,  0.9936]],\n",
       "       grad_fn=<TanhBackward0>), hidden_states=None, past_key_values=None, attentions=None, cross_attentions=None)"
      ]
     },
     "execution_count": 20,
     "metadata": {},
     "output_type": "execute_result"
    }
   ],
   "source": [
    "bert_output = bert_model(**bert_input)\n",
    "bert_output"
   ]
  },
  {
   "cell_type": "markdown",
   "metadata": {
    "id": "davPp5NrUa0s"
   },
   "source": [
    "Let's analyze this a bit:"
   ]
  },
  {
   "cell_type": "code",
   "execution_count": null,
   "metadata": {
    "colab": {
     "base_uri": "https://localhost:8080/"
    },
    "id": "rkPTVxjyTvht",
    "outputId": "58b6bf3c-4a97-4b5d-dede-87bb634dd601"
   },
   "outputs": [
    {
     "name": "stdout",
     "output_type": "stream",
     "text": [
      "Shape of first BERT output:  torch.Size([2, 10, 768])\n",
      "Shape of second BERT output:  torch.Size([2, 768])\n"
     ]
    }
   ],
   "source": [
    "print('Shape of first BERT output: ', bert_output[0].shape)\n",
    "print('Shape of second BERT output: ', bert_output[1].shape)"
   ]
  },
  {
   "cell_type": "markdown",
   "metadata": {
    "id": "rz2FwAP7Uq_D"
   },
   "source": [
    "What does that mean? Are the dimensions correct? Why are there 2 outputs? Let's discuss in class. You can (and should!) also go to https://huggingface.co/docs/transformers/model_doc/bert#transformers.TFBertModel and read the documentation. **REALLY(!)**\n",
    " critical.\n",
    "\n",
    "[Return to Top](#returnToTop)  \n",
    "<a id = 'contextualEmbeddings'></a>\n",
    "\n",
    "### 3.3 Context-based Embeddings with BERT\n",
    "\n",
    "We can use this version of the model if we want to access the contextualized embeddings that come from that last hidden layer of the model. The first output of the model provides the full sequence of token embeddings. The second output is basically the CLS token embedding (after one more dense layer transformation).\n",
    "\n",
    "Let's look at the BERT contextualized embeddings for the word \"bank\" when it appears in a few contexts:"
   ]
  },
  {
   "cell_type": "code",
   "execution_count": null,
   "metadata": {
    "colab": {
     "base_uri": "https://localhost:8080/"
    },
    "id": "RuMWhXa8Tvj0",
    "outputId": "fc6667d6-65d8-4ffc-d384-ea464507ea04"
   },
   "outputs": [
    {
     "data": {
      "text/plain": [
       "{'input_ids': tensor([[ 101,  146, 1444, 1106, 2498, 1139, 1948, 1106, 1103, 3085, 2052,  102,\n",
       "            0],\n",
       "        [ 101,  146, 1209, 1444, 1106, 2498, 1139, 1948, 1106, 1103, 3085, 4911,\n",
       "          102],\n",
       "        [ 101,  146, 1125, 1106, 3085, 1154,  170, 1885,  102,    0,    0,    0,\n",
       "            0],\n",
       "        [ 101, 1109, 3085, 1587, 1200, 1108, 1304, 3505,  102,    0,    0,    0,\n",
       "            0]]), 'token_type_ids': tensor([[0, 0, 0, 0, 0, 0, 0, 0, 0, 0, 0, 0, 0],\n",
       "        [0, 0, 0, 0, 0, 0, 0, 0, 0, 0, 0, 0, 0],\n",
       "        [0, 0, 0, 0, 0, 0, 0, 0, 0, 0, 0, 0, 0],\n",
       "        [0, 0, 0, 0, 0, 0, 0, 0, 0, 0, 0, 0, 0]]), 'attention_mask': tensor([[1, 1, 1, 1, 1, 1, 1, 1, 1, 1, 1, 1, 0],\n",
       "        [1, 1, 1, 1, 1, 1, 1, 1, 1, 1, 1, 1, 1],\n",
       "        [1, 1, 1, 1, 1, 1, 1, 1, 1, 0, 0, 0, 0],\n",
       "        [1, 1, 1, 1, 1, 1, 1, 1, 1, 0, 0, 0, 0]])}"
      ]
     },
     "execution_count": 22,
     "metadata": {},
     "output_type": "execute_result"
    }
   ],
   "source": [
    "bert_bank_inputs = bert_tokenizer([\"I need to bring my money to the bank today\",\n",
    "                                  \"I will need to bring my money to the bank tomorrow\",\n",
    "                                  \"I had to bank into a turn\",\n",
    "                                  \"The bank teller was very nice\" ],\n",
    "                                padding=True,\n",
    "                                return_tensors='pt')\n",
    "\n",
    "bert_bank_inputs"
   ]
  },
  {
   "cell_type": "markdown",
   "metadata": {
    "id": "NFNpT0-MWFVg"
   },
   "source": [
    "Next, we will get the outputs and extract the word vectors for bank in each of these sentences:"
   ]
  },
  {
   "cell_type": "code",
   "execution_count": null,
   "metadata": {
    "id": "yqlgKOLVWEcd"
   },
   "outputs": [],
   "source": [
    "bert_bank_outputs = bert_model(**bert_bank_inputs)\n",
    "\n",
    "bank_1 = bert_bank_outputs[0][0, 9]\n",
    "bank_2 = bert_bank_outputs[0][1, 10]\n",
    "bank_3 = bert_bank_outputs[0][2, 4]\n",
    "bank_4 = bert_bank_outputs[0][3, 2]\n",
    "\n",
    "banks = [\n",
    "    bank_1.detach().numpy(),\n",
    "    bank_2.detach().numpy(),\n",
    "    bank_3.detach().numpy(),\n",
    "    bank_4.detach().numpy()\n",
    "]"
   ]
  },
  {
   "cell_type": "markdown",
   "metadata": {
    "id": "CD0ffO0zWE2y"
   },
   "source": [
    "Where are those numbers coming from?\n",
    "\n",
    "Finally, we obtain the cosine similarities between the 4 vectors (from left to right and top to bottom we iterate through our vectors and report the cosine similarity):"
   ]
  },
  {
   "cell_type": "code",
   "execution_count": null,
   "metadata": {
    "colab": {
     "base_uri": "https://localhost:8080/"
    },
    "id": "q853iPjWV-7-",
    "outputId": "f3b7f311-2efd-4a85-fd8e-58b514870e5e"
   },
   "outputs": [
    {
     "name": "stdout",
     "output_type": "stream",
     "text": [
      "\t1.0\t0.99\t0.59\t0.86\n",
      "\t0.99\t1.0\t0.59\t0.87\n",
      "\t0.59\t0.59\t1.0\t0.62\n",
      "\t0.86\t0.87\t0.62\t1.0\n"
     ]
    }
   ],
   "source": [
    "cosine_similarities(banks)"
   ]
  },
  {
   "cell_type": "markdown",
   "metadata": {
    "id": "LaJkBucTXDpY"
   },
   "source": [
    "Does this look right?\n",
    "\n",
    "[Return to Top](#returnToTop)  \n",
    "<a id = 'BERTClassification'></a>\n",
    "\n",
    "# 4. Text Classification with BERT\n",
    "\n",
    "Now we're ready to load and train our classification model.\n",
    "\n",
    "[Return to Top](#returnToTop)  \n",
    "<a id = 'modelSetup'></a>\n",
    "\n",
    "### 4.1 Classification Model Setup\n",
    "\n",
    "In order to use the BERT model on a new classification task, we'll need a new classification layer on top of the pre-trained transformer layers. Huggingface provides a model class for that purpose, called BertForSequenceClassification.\n",
    "\n",
    "This class will load a model with the full architecture for a new text classification task. It starts with the pre-trained BERT model up until the last hidden layer, then it takes the \"pooler\" output from the BERT model and passes that into a new classification layer of the size we need for our task. (The \"pooler\" output is just the CLS token output, passed through another dense layer, before going to the output layer.)\n",
    "\n",
    "The new classification layer has not been pre-trained, so we'll need to train it for our task. By default, Huggingface will give us an output layer with two classes (which fits our binary classification task), though we can specify a different number of classes if we have a multiclass classification task. We will most likely also want to continue updating the weights of at least some of the pre-trained layers, which we can explore later."
   ]
  },
  {
   "cell_type": "code",
   "execution_count": null,
   "metadata": {
    "colab": {
     "base_uri": "https://localhost:8080/"
    },
    "id": "1RShlI4_V_JU",
    "outputId": "d3c92b0f-a811-4c7a-cfa7-d324d71f6b51"
   },
   "outputs": [
    {
     "name": "stderr",
     "output_type": "stream",
     "text": [
      "Some weights of BertForSequenceClassification were not initialized from the model checkpoint at bert-base-cased and are newly initialized: ['classifier.bias', 'classifier.weight']\n",
      "You should probably TRAIN this model on a down-stream task to be able to use it for predictions and inference.\n"
     ]
    }
   ],
   "source": [
    "bert_classification_model = BertForSequenceClassification.from_pretrained(checkpoint)"
   ]
  },
  {
   "cell_type": "markdown",
   "metadata": {
    "id": "mBJISfYHDjh-"
   },
   "source": [
    "This first time through, we'll freeze all of the pre-trained BERT layers to make the fine tuning go much faster. Then later we'll try unfreezing some or all layers and see what works better.\n",
    "\n",
    "We need to keep the final classification layer unfrozen no matter what, because that's a new layer that hasn't been trained at all yet, and needs to be trained for our task.\n",
    "\n",
    "Let's use the named_parameters method to access the names of the weight matrices in the model, and only freeze the pre-trained BERT ones."
   ]
  },
  {
   "cell_type": "code",
   "execution_count": null,
   "metadata": {
    "colab": {
     "base_uri": "https://localhost:8080/"
    },
    "id": "VIptlN7ioqNF",
    "outputId": "1653f635-7215-4679-e4d8-dbe321374360"
   },
   "outputs": [
    {
     "name": "stdout",
     "output_type": "stream",
     "text": [
      "bert.embeddings.word_embeddings.weight\n",
      "bert.embeddings.position_embeddings.weight\n",
      "bert.embeddings.token_type_embeddings.weight\n",
      "bert.embeddings.LayerNorm.weight\n",
      "bert.embeddings.LayerNorm.bias\n",
      "bert.encoder.layer.0.attention.self.query.weight\n",
      "bert.encoder.layer.0.attention.self.query.bias\n",
      "bert.encoder.layer.0.attention.self.key.weight\n",
      "bert.encoder.layer.0.attention.self.key.bias\n",
      "bert.encoder.layer.0.attention.self.value.weight\n",
      "bert.encoder.layer.0.attention.self.value.bias\n",
      "bert.encoder.layer.0.attention.output.dense.weight\n",
      "bert.encoder.layer.0.attention.output.dense.bias\n",
      "bert.encoder.layer.0.attention.output.LayerNorm.weight\n",
      "bert.encoder.layer.0.attention.output.LayerNorm.bias\n",
      "bert.encoder.layer.0.intermediate.dense.weight\n",
      "bert.encoder.layer.0.intermediate.dense.bias\n",
      "bert.encoder.layer.0.output.dense.weight\n",
      "bert.encoder.layer.0.output.dense.bias\n",
      "bert.encoder.layer.0.output.LayerNorm.weight\n",
      "bert.encoder.layer.0.output.LayerNorm.bias\n",
      "bert.encoder.layer.1.attention.self.query.weight\n",
      "bert.encoder.layer.1.attention.self.query.bias\n",
      "bert.encoder.layer.1.attention.self.key.weight\n",
      "bert.encoder.layer.1.attention.self.key.bias\n",
      "bert.encoder.layer.1.attention.self.value.weight\n",
      "bert.encoder.layer.1.attention.self.value.bias\n",
      "bert.encoder.layer.1.attention.output.dense.weight\n",
      "bert.encoder.layer.1.attention.output.dense.bias\n",
      "bert.encoder.layer.1.attention.output.LayerNorm.weight\n",
      "bert.encoder.layer.1.attention.output.LayerNorm.bias\n",
      "bert.encoder.layer.1.intermediate.dense.weight\n",
      "bert.encoder.layer.1.intermediate.dense.bias\n",
      "bert.encoder.layer.1.output.dense.weight\n",
      "bert.encoder.layer.1.output.dense.bias\n",
      "bert.encoder.layer.1.output.LayerNorm.weight\n",
      "bert.encoder.layer.1.output.LayerNorm.bias\n",
      "bert.encoder.layer.2.attention.self.query.weight\n",
      "bert.encoder.layer.2.attention.self.query.bias\n",
      "bert.encoder.layer.2.attention.self.key.weight\n",
      "bert.encoder.layer.2.attention.self.key.bias\n",
      "bert.encoder.layer.2.attention.self.value.weight\n",
      "bert.encoder.layer.2.attention.self.value.bias\n",
      "bert.encoder.layer.2.attention.output.dense.weight\n",
      "bert.encoder.layer.2.attention.output.dense.bias\n",
      "bert.encoder.layer.2.attention.output.LayerNorm.weight\n",
      "bert.encoder.layer.2.attention.output.LayerNorm.bias\n",
      "bert.encoder.layer.2.intermediate.dense.weight\n",
      "bert.encoder.layer.2.intermediate.dense.bias\n",
      "bert.encoder.layer.2.output.dense.weight\n",
      "bert.encoder.layer.2.output.dense.bias\n",
      "bert.encoder.layer.2.output.LayerNorm.weight\n",
      "bert.encoder.layer.2.output.LayerNorm.bias\n",
      "bert.encoder.layer.3.attention.self.query.weight\n",
      "bert.encoder.layer.3.attention.self.query.bias\n",
      "bert.encoder.layer.3.attention.self.key.weight\n",
      "bert.encoder.layer.3.attention.self.key.bias\n",
      "bert.encoder.layer.3.attention.self.value.weight\n",
      "bert.encoder.layer.3.attention.self.value.bias\n",
      "bert.encoder.layer.3.attention.output.dense.weight\n",
      "bert.encoder.layer.3.attention.output.dense.bias\n",
      "bert.encoder.layer.3.attention.output.LayerNorm.weight\n",
      "bert.encoder.layer.3.attention.output.LayerNorm.bias\n",
      "bert.encoder.layer.3.intermediate.dense.weight\n",
      "bert.encoder.layer.3.intermediate.dense.bias\n",
      "bert.encoder.layer.3.output.dense.weight\n",
      "bert.encoder.layer.3.output.dense.bias\n",
      "bert.encoder.layer.3.output.LayerNorm.weight\n",
      "bert.encoder.layer.3.output.LayerNorm.bias\n",
      "bert.encoder.layer.4.attention.self.query.weight\n",
      "bert.encoder.layer.4.attention.self.query.bias\n",
      "bert.encoder.layer.4.attention.self.key.weight\n",
      "bert.encoder.layer.4.attention.self.key.bias\n",
      "bert.encoder.layer.4.attention.self.value.weight\n",
      "bert.encoder.layer.4.attention.self.value.bias\n",
      "bert.encoder.layer.4.attention.output.dense.weight\n",
      "bert.encoder.layer.4.attention.output.dense.bias\n",
      "bert.encoder.layer.4.attention.output.LayerNorm.weight\n",
      "bert.encoder.layer.4.attention.output.LayerNorm.bias\n",
      "bert.encoder.layer.4.intermediate.dense.weight\n",
      "bert.encoder.layer.4.intermediate.dense.bias\n",
      "bert.encoder.layer.4.output.dense.weight\n",
      "bert.encoder.layer.4.output.dense.bias\n",
      "bert.encoder.layer.4.output.LayerNorm.weight\n",
      "bert.encoder.layer.4.output.LayerNorm.bias\n",
      "bert.encoder.layer.5.attention.self.query.weight\n",
      "bert.encoder.layer.5.attention.self.query.bias\n",
      "bert.encoder.layer.5.attention.self.key.weight\n",
      "bert.encoder.layer.5.attention.self.key.bias\n",
      "bert.encoder.layer.5.attention.self.value.weight\n",
      "bert.encoder.layer.5.attention.self.value.bias\n",
      "bert.encoder.layer.5.attention.output.dense.weight\n",
      "bert.encoder.layer.5.attention.output.dense.bias\n",
      "bert.encoder.layer.5.attention.output.LayerNorm.weight\n",
      "bert.encoder.layer.5.attention.output.LayerNorm.bias\n",
      "bert.encoder.layer.5.intermediate.dense.weight\n",
      "bert.encoder.layer.5.intermediate.dense.bias\n",
      "bert.encoder.layer.5.output.dense.weight\n",
      "bert.encoder.layer.5.output.dense.bias\n",
      "bert.encoder.layer.5.output.LayerNorm.weight\n",
      "bert.encoder.layer.5.output.LayerNorm.bias\n",
      "bert.encoder.layer.6.attention.self.query.weight\n",
      "bert.encoder.layer.6.attention.self.query.bias\n",
      "bert.encoder.layer.6.attention.self.key.weight\n",
      "bert.encoder.layer.6.attention.self.key.bias\n",
      "bert.encoder.layer.6.attention.self.value.weight\n",
      "bert.encoder.layer.6.attention.self.value.bias\n",
      "bert.encoder.layer.6.attention.output.dense.weight\n",
      "bert.encoder.layer.6.attention.output.dense.bias\n",
      "bert.encoder.layer.6.attention.output.LayerNorm.weight\n",
      "bert.encoder.layer.6.attention.output.LayerNorm.bias\n",
      "bert.encoder.layer.6.intermediate.dense.weight\n",
      "bert.encoder.layer.6.intermediate.dense.bias\n",
      "bert.encoder.layer.6.output.dense.weight\n",
      "bert.encoder.layer.6.output.dense.bias\n",
      "bert.encoder.layer.6.output.LayerNorm.weight\n",
      "bert.encoder.layer.6.output.LayerNorm.bias\n",
      "bert.encoder.layer.7.attention.self.query.weight\n",
      "bert.encoder.layer.7.attention.self.query.bias\n",
      "bert.encoder.layer.7.attention.self.key.weight\n",
      "bert.encoder.layer.7.attention.self.key.bias\n",
      "bert.encoder.layer.7.attention.self.value.weight\n",
      "bert.encoder.layer.7.attention.self.value.bias\n",
      "bert.encoder.layer.7.attention.output.dense.weight\n",
      "bert.encoder.layer.7.attention.output.dense.bias\n",
      "bert.encoder.layer.7.attention.output.LayerNorm.weight\n",
      "bert.encoder.layer.7.attention.output.LayerNorm.bias\n",
      "bert.encoder.layer.7.intermediate.dense.weight\n",
      "bert.encoder.layer.7.intermediate.dense.bias\n",
      "bert.encoder.layer.7.output.dense.weight\n",
      "bert.encoder.layer.7.output.dense.bias\n",
      "bert.encoder.layer.7.output.LayerNorm.weight\n",
      "bert.encoder.layer.7.output.LayerNorm.bias\n",
      "bert.encoder.layer.8.attention.self.query.weight\n",
      "bert.encoder.layer.8.attention.self.query.bias\n",
      "bert.encoder.layer.8.attention.self.key.weight\n",
      "bert.encoder.layer.8.attention.self.key.bias\n",
      "bert.encoder.layer.8.attention.self.value.weight\n",
      "bert.encoder.layer.8.attention.self.value.bias\n",
      "bert.encoder.layer.8.attention.output.dense.weight\n",
      "bert.encoder.layer.8.attention.output.dense.bias\n",
      "bert.encoder.layer.8.attention.output.LayerNorm.weight\n",
      "bert.encoder.layer.8.attention.output.LayerNorm.bias\n",
      "bert.encoder.layer.8.intermediate.dense.weight\n",
      "bert.encoder.layer.8.intermediate.dense.bias\n",
      "bert.encoder.layer.8.output.dense.weight\n",
      "bert.encoder.layer.8.output.dense.bias\n",
      "bert.encoder.layer.8.output.LayerNorm.weight\n",
      "bert.encoder.layer.8.output.LayerNorm.bias\n",
      "bert.encoder.layer.9.attention.self.query.weight\n",
      "bert.encoder.layer.9.attention.self.query.bias\n",
      "bert.encoder.layer.9.attention.self.key.weight\n",
      "bert.encoder.layer.9.attention.self.key.bias\n",
      "bert.encoder.layer.9.attention.self.value.weight\n",
      "bert.encoder.layer.9.attention.self.value.bias\n",
      "bert.encoder.layer.9.attention.output.dense.weight\n",
      "bert.encoder.layer.9.attention.output.dense.bias\n",
      "bert.encoder.layer.9.attention.output.LayerNorm.weight\n",
      "bert.encoder.layer.9.attention.output.LayerNorm.bias\n",
      "bert.encoder.layer.9.intermediate.dense.weight\n",
      "bert.encoder.layer.9.intermediate.dense.bias\n",
      "bert.encoder.layer.9.output.dense.weight\n",
      "bert.encoder.layer.9.output.dense.bias\n",
      "bert.encoder.layer.9.output.LayerNorm.weight\n",
      "bert.encoder.layer.9.output.LayerNorm.bias\n",
      "bert.encoder.layer.10.attention.self.query.weight\n",
      "bert.encoder.layer.10.attention.self.query.bias\n",
      "bert.encoder.layer.10.attention.self.key.weight\n",
      "bert.encoder.layer.10.attention.self.key.bias\n",
      "bert.encoder.layer.10.attention.self.value.weight\n",
      "bert.encoder.layer.10.attention.self.value.bias\n",
      "bert.encoder.layer.10.attention.output.dense.weight\n",
      "bert.encoder.layer.10.attention.output.dense.bias\n",
      "bert.encoder.layer.10.attention.output.LayerNorm.weight\n",
      "bert.encoder.layer.10.attention.output.LayerNorm.bias\n",
      "bert.encoder.layer.10.intermediate.dense.weight\n",
      "bert.encoder.layer.10.intermediate.dense.bias\n",
      "bert.encoder.layer.10.output.dense.weight\n",
      "bert.encoder.layer.10.output.dense.bias\n",
      "bert.encoder.layer.10.output.LayerNorm.weight\n",
      "bert.encoder.layer.10.output.LayerNorm.bias\n",
      "bert.encoder.layer.11.attention.self.query.weight\n",
      "bert.encoder.layer.11.attention.self.query.bias\n",
      "bert.encoder.layer.11.attention.self.key.weight\n",
      "bert.encoder.layer.11.attention.self.key.bias\n",
      "bert.encoder.layer.11.attention.self.value.weight\n",
      "bert.encoder.layer.11.attention.self.value.bias\n",
      "bert.encoder.layer.11.attention.output.dense.weight\n",
      "bert.encoder.layer.11.attention.output.dense.bias\n",
      "bert.encoder.layer.11.attention.output.LayerNorm.weight\n",
      "bert.encoder.layer.11.attention.output.LayerNorm.bias\n",
      "bert.encoder.layer.11.intermediate.dense.weight\n",
      "bert.encoder.layer.11.intermediate.dense.bias\n",
      "bert.encoder.layer.11.output.dense.weight\n",
      "bert.encoder.layer.11.output.dense.bias\n",
      "bert.encoder.layer.11.output.LayerNorm.weight\n",
      "bert.encoder.layer.11.output.LayerNorm.bias\n",
      "bert.pooler.dense.weight\n",
      "bert.pooler.dense.bias\n",
      "classifier.weight\n",
      "classifier.bias\n"
     ]
    }
   ],
   "source": [
    "for name, param in bert_classification_model.named_parameters():\n",
    "    print(name)"
   ]
  },
  {
   "cell_type": "code",
   "execution_count": null,
   "metadata": {
    "id": "PbFsTmdPuYx6"
   },
   "outputs": [],
   "source": [
    "for name, param in bert_classification_model.named_parameters():\n",
    "    if name.split(\".\")[0] == \"bert\":\n",
    "        param.requires_grad = False"
   ]
  },
  {
   "cell_type": "code",
   "execution_count": null,
   "metadata": {
    "colab": {
     "base_uri": "https://localhost:8080/"
    },
    "id": "2tk0Cs2GnoJZ",
    "outputId": "7f73e946-8214-428d-ff65-99dbbbda45a1"
   },
   "outputs": [
    {
     "data": {
      "text/plain": [
       "=====================================================================================\n",
       "Layer (type:depth-idx)                                       Param #\n",
       "=====================================================================================\n",
       "BertForSequenceClassification                                --\n",
       "├─BertModel: 1-1                                             --\n",
       "│    └─BertEmbeddings: 2-1                                   --\n",
       "│    │    └─Embedding: 3-1                                   (22,268,928)\n",
       "│    │    └─Embedding: 3-2                                   (393,216)\n",
       "│    │    └─Embedding: 3-3                                   (1,536)\n",
       "│    │    └─LayerNorm: 3-4                                   (1,536)\n",
       "│    │    └─Dropout: 3-5                                     --\n",
       "│    └─BertEncoder: 2-2                                      --\n",
       "│    │    └─ModuleList: 3-6                                  (85,054,464)\n",
       "│    └─BertPooler: 2-3                                       --\n",
       "│    │    └─Linear: 3-7                                      (590,592)\n",
       "│    │    └─Tanh: 3-8                                        --\n",
       "├─Dropout: 1-2                                               --\n",
       "├─Linear: 1-3                                                1,538\n",
       "=====================================================================================\n",
       "Total params: 108,311,810\n",
       "Trainable params: 1,538\n",
       "Non-trainable params: 108,310,272\n",
       "====================================================================================="
      ]
     },
     "execution_count": 28,
     "metadata": {},
     "output_type": "execute_result"
    }
   ],
   "source": [
    "# confirm all pre-trained layers are frozen\n",
    "summary(bert_classification_model)"
   ]
  },
  {
   "cell_type": "markdown",
   "metadata": {
    "id": "gsII_FO6pdvg"
   },
   "source": [
    "[Return to Top](#returnToTop)  \n",
    "<a id = 'modelTraining'></a>\n",
    "\n",
    "### 4.2 Model Training\n",
    "\n",
    "To train a Huggingface model, we'll use a Trainer class, and a TrainingArguments class that goes with it.\n",
    "\n",
    "Let's start with the TrainingArguments. This is just a simple config where we specify things like the batch size and number of epochs.\n",
    "\n",
    "We also choose a filepath where we want to save model checkpoints after training. For now, we'll just define a local directory name, which will save the trained model in the Colab notebook's temporary storage.\n",
    "\n",
    "For your assignments and project, you'll probably want to mount your Google Drive and specify a filepath to a directory there, so that the saved model checkpoints persist after the notebook is shut down."
   ]
  },
  {
   "cell_type": "code",
   "execution_count": null,
   "metadata": {
    "id": "75LvcNhFpoM_"
   },
   "outputs": [],
   "source": [
    "batch_size = 16\n",
    "num_epochs = 1\n",
    "\n",
    "training_args = TrainingArguments(\n",
    "    output_dir=\"bert_fine_tuned_imdb\",\n",
    "    per_device_train_batch_size=batch_size,\n",
    "    per_device_eval_batch_size=batch_size,\n",
    "    num_train_epochs=num_epochs,\n",
    "    eval_strategy=\"epoch\",\n",
    "    save_strategy=\"epoch\",\n",
    "    report_to='none'\n",
    ")"
   ]
  },
  {
   "cell_type": "markdown",
   "metadata": {
    "id": "UjlCsBX3r1BZ"
   },
   "source": [
    "In addition to model loss, we'll also want to keep track of a simple but more interpretable metric like validation accuracy, so that we can see how well the model is generalizing.\n",
    "\n",
    "The trainer takes a \"compute_metrics\" argument, which needs to be a function that takes a set of predictions and labels and returns a metric. We can use the accuracy metric from the Huggingface evaluate package, and wrap it in the necessary function like this:"
   ]
  },
  {
   "cell_type": "code",
   "execution_count": null,
   "metadata": {
    "colab": {
     "base_uri": "https://localhost:8080/",
     "height": 49,
     "referenced_widgets": [
      "8c4e06f232c44b45a98bc60564dda074",
      "af061c4a5fbe419a9e9282bdeab3a701",
      "ddc579b10deb40b0b09ad053c1a84fbe",
      "2843a0b0721d423b8eb0f138b45b8236",
      "72d8ed69dfbd4ec3951ff795497f8f3a",
      "b2eea05c3c954c91b6ac55970890996b",
      "5eef07e5ea0944a2803dc0500b1fb19f",
      "2ab205316ef54ce7aa3befe307f0fb23",
      "31a92c18eda0427c9da56cca8ee52a64",
      "ea6bce3b13d04afb9395da917365b4dc",
      "639be156586d472ba099432f3e150370"
     ]
    },
    "id": "JDSKeFugr1Jp",
    "outputId": "8aa0b84d-a6b4-46e0-9d49-9b579d1b5d9a"
   },
   "outputs": [
    {
     "data": {
      "application/vnd.jupyter.widget-view+json": {
       "model_id": "8c4e06f232c44b45a98bc60564dda074",
       "version_major": 2,
       "version_minor": 0
      },
      "text/plain": [
       "Downloading builder script:   0%|          | 0.00/4.20k [00:00<?, ?B/s]"
      ]
     },
     "metadata": {},
     "output_type": "display_data"
    }
   ],
   "source": [
    "metric = evaluate.load('accuracy')\n",
    "\n",
    "def compute_metrics(p):\n",
    "    predictions, labels = p\n",
    "    predictions = np.argmax(predictions, axis=1)\n",
    "    return metric.compute(predictions=predictions, references=labels)"
   ]
  },
  {
   "cell_type": "markdown",
   "metadata": {
    "id": "vYbWrBLArpap"
   },
   "source": [
    "Now we make our Trainer, passing it the model to use, the training arguments, the training and validation data, and our compute_metrics function."
   ]
  },
  {
   "cell_type": "code",
   "execution_count": null,
   "metadata": {
    "id": "pt9QuUSPrpjN"
   },
   "outputs": [],
   "source": [
    "trainer = Trainer(\n",
    "    model=bert_classification_model,\n",
    "    args=training_args,\n",
    "    train_dataset=imdb_train_dataset,\n",
    "    eval_dataset=imdb_dev_dataset,\n",
    "    compute_metrics=compute_metrics\n",
    ")"
   ]
  },
  {
   "cell_type": "markdown",
   "metadata": {
    "id": "KVxfWejquYx6"
   },
   "source": [
    "... and train it!  (This takes a few minutes; we might only be able to train for one epoch in the live session.)"
   ]
  },
  {
   "cell_type": "code",
   "execution_count": null,
   "metadata": {
    "colab": {
     "base_uri": "https://localhost:8080/",
     "height": 142
    },
    "id": "xTQnDuypuYyD",
    "outputId": "34a184dd-3507-4955-847d-6179769c0876"
   },
   "outputs": [
    {
     "data": {
      "text/html": [
       "\n",
       "    <div>\n",
       "      \n",
       "      <progress value='313' max='313' style='width:300px; height:20px; vertical-align: middle;'></progress>\n",
       "      [313/313 00:43, Epoch 1/1]\n",
       "    </div>\n",
       "    <table border=\"1\" class=\"dataframe\">\n",
       "  <thead>\n",
       " <tr style=\"text-align: left;\">\n",
       "      <th>Epoch</th>\n",
       "      <th>Training Loss</th>\n",
       "      <th>Validation Loss</th>\n",
       "      <th>Accuracy</th>\n",
       "    </tr>\n",
       "  </thead>\n",
       "  <tbody>\n",
       "    <tr>\n",
       "      <td>1</td>\n",
       "      <td>No log</td>\n",
       "      <td>0.683773</td>\n",
       "      <td>0.590000</td>\n",
       "    </tr>\n",
       "  </tbody>\n",
       "</table><p>"
      ],
      "text/plain": [
       "<IPython.core.display.HTML object>"
      ]
     },
     "metadata": {},
     "output_type": "display_data"
    },
    {
     "data": {
      "text/plain": [
       "TrainOutput(global_step=313, training_loss=0.6962929625099841, metrics={'train_runtime': 44.9554, 'train_samples_per_second': 111.221, 'train_steps_per_second': 6.962, 'total_flos': 328888819200000.0, 'train_loss': 0.6962929625099841, 'epoch': 1.0})"
      ]
     },
     "execution_count": 32,
     "metadata": {},
     "output_type": "execute_result"
    }
   ],
   "source": [
    "trainer.train()"
   ]
  },
  {
   "cell_type": "markdown",
   "metadata": {
    "id": "MbbrP-Tk4752"
   },
   "source": [
    "How well does it work? Can we do better? In the code above, we trained the extra hidden and classification layers that we added on top of BERT for our task. But we froze the BERT model (set trainable=False) so we're leaving the pre-trained BERT layers as-is and only our dense layer is learning.\n",
    "\n",
    "[Return to Top](#returnToTop)  \n",
    "<a id = 'classExercise'></a>\n",
    "\n",
    "### 4.3 Class Exercise\n",
    "\n",
    "Why didn't that work very well? Most likely it's because we froze all of the pre-trained layers. The way we use BERT for classification tasks, we're relying on the CLS token (and the pooler dense layer after it). Those were pre-trained using the next sentence prediction task (they don't really get trained in the masked language model task, because there's no real token there to mask).\n",
    "\n",
    "People have generally found the next sentence prediction task to not be very useful pretraining for downstream tasks. The architecture is good, but we almost always need to fine-tune at least some of the transformer layers, to teach the CLS token how to capture useful context from the rest of the text (the real tokens) for a classification task.\n",
    "\n",
    "Let's try unfreezing only the topmost transformer block and pooler layer (as well as the classification layer, always), or leaving all of the layers in the entire model unfrozen."
   ]
  },
  {
   "cell_type": "code",
   "execution_count": null,
   "metadata": {
    "colab": {
     "base_uri": "https://localhost:8080/",
     "height": 198
    },
    "id": "PZjhLV4XoEU9",
    "outputId": "e3824b73-7638-4b8b-aaec-a8b599383d58"
   },
   "outputs": [
    {
     "name": "stderr",
     "output_type": "stream",
     "text": [
      "Some weights of BertForSequenceClassification were not initialized from the model checkpoint at bert-base-cased and are newly initialized: ['classifier.bias', 'classifier.weight']\n",
      "You should probably TRAIN this model on a down-stream task to be able to use it for predictions and inference.\n"
     ]
    },
    {
     "data": {
      "text/html": [
       "\n",
       "    <div>\n",
       "      \n",
       "      <progress value='313' max='313' style='width:300px; height:20px; vertical-align: middle;'></progress>\n",
       "      [313/313 00:58, Epoch 1/1]\n",
       "    </div>\n",
       "    <table border=\"1\" class=\"dataframe\">\n",
       "  <thead>\n",
       " <tr style=\"text-align: left;\">\n",
       "      <th>Epoch</th>\n",
       "      <th>Training Loss</th>\n",
       "      <th>Validation Loss</th>\n",
       "      <th>Accuracy</th>\n",
       "    </tr>\n",
       "  </thead>\n",
       "  <tbody>\n",
       "    <tr>\n",
       "      <td>1</td>\n",
       "      <td>No log</td>\n",
       "      <td>0.407664</td>\n",
       "      <td>0.826000</td>\n",
       "    </tr>\n",
       "  </tbody>\n",
       "</table><p>"
      ],
      "text/plain": [
       "<IPython.core.display.HTML object>"
      ]
     },
     "metadata": {},
     "output_type": "display_data"
    },
    {
     "data": {
      "text/plain": [
       "TrainOutput(global_step=313, training_loss=0.5017902995831669, metrics={'train_runtime': 58.9461, 'train_samples_per_second': 84.823, 'train_steps_per_second': 5.31, 'total_flos': 328888819200000.0, 'train_loss': 0.5017902995831669, 'epoch': 1.0})"
      ]
     },
     "execution_count": 33,
     "metadata": {},
     "output_type": "execute_result"
    }
   ],
   "source": [
    "#let's get a fresh instance of the bert_model -- good practice\n",
    "bert_classification_model = BertForSequenceClassification.from_pretrained(checkpoint)\n",
    "\n",
    "#freeze all layers except the last transformer block (\"layer.11\", the pooler layer and the classification layer)\n",
    "for name, param in bert_classification_model.named_parameters():\n",
    "    if not any(x in name for x in [\"layer.11\", \"bert.pooler\", \"classifier\"]):\n",
    "        param.requires_grad = False\n",
    "\n",
    "trainer = Trainer(\n",
    "    model=bert_classification_model,\n",
    "    args=training_args,\n",
    "    train_dataset=imdb_train_dataset,\n",
    "    eval_dataset=imdb_dev_dataset,\n",
    "    compute_metrics=compute_metrics\n",
    ")\n",
    "\n",
    "trainer.train()"
   ]
  },
  {
   "cell_type": "markdown",
   "metadata": {
    "id": "Xp5rgAQRF9ii"
   },
   "source": [
    "Now let's allow all of the layers to be modified as part of fitting the model."
   ]
  },
  {
   "cell_type": "code",
   "execution_count": null,
   "metadata": {
    "colab": {
     "base_uri": "https://localhost:8080/",
     "height": 198
    },
    "id": "eWaiu0ZAtxF8",
    "outputId": "4eafad71-b8eb-4ed2-9442-833460b1480e"
   },
   "outputs": [
    {
     "name": "stderr",
     "output_type": "stream",
     "text": [
      "Some weights of BertForSequenceClassification were not initialized from the model checkpoint at bert-base-cased and are newly initialized: ['classifier.bias', 'classifier.weight']\n",
      "You should probably TRAIN this model on a down-stream task to be able to use it for predictions and inference.\n"
     ]
    },
    {
     "data": {
      "text/html": [
       "\n",
       "    <div>\n",
       "      \n",
       "      <progress value='313' max='313' style='width:300px; height:20px; vertical-align: middle;'></progress>\n",
       "      [313/313 02:20, Epoch 1/1]\n",
       "    </div>\n",
       "    <table border=\"1\" class=\"dataframe\">\n",
       "  <thead>\n",
       " <tr style=\"text-align: left;\">\n",
       "      <th>Epoch</th>\n",
       "      <th>Training Loss</th>\n",
       "      <th>Validation Loss</th>\n",
       "      <th>Accuracy</th>\n",
       "    </tr>\n",
       "  </thead>\n",
       "  <tbody>\n",
       "    <tr>\n",
       "      <td>1</td>\n",
       "      <td>No log</td>\n",
       "      <td>0.327308</td>\n",
       "      <td>0.858000</td>\n",
       "    </tr>\n",
       "  </tbody>\n",
       "</table><p>"
      ],
      "text/plain": [
       "<IPython.core.display.HTML object>"
      ]
     },
     "metadata": {},
     "output_type": "display_data"
    },
    {
     "data": {
      "text/plain": [
       "TrainOutput(global_step=313, training_loss=0.416958744914387, metrics={'train_runtime': 141.232, 'train_samples_per_second': 35.403, 'train_steps_per_second': 2.216, 'total_flos': 328888819200000.0, 'train_loss': 0.416958744914387, 'epoch': 1.0})"
      ]
     },
     "execution_count": 34,
     "metadata": {},
     "output_type": "execute_result"
    }
   ],
   "source": [
    "#let's get a fresh instance of the bert_model -- good practice\n",
    "bert_classification_model = BertForSequenceClassification.from_pretrained(checkpoint)\n",
    "\n",
    "trainer = Trainer(\n",
    "    model=bert_classification_model,\n",
    "    args=training_args,\n",
    "    train_dataset=imdb_train_dataset,\n",
    "    eval_dataset=imdb_dev_dataset,\n",
    "    compute_metrics=compute_metrics\n",
    ")\n",
    "\n",
    "trainer.train()"
   ]
  },
  {
   "cell_type": "markdown",
   "metadata": {
    "id": "94XZuvsJJbs-"
   },
   "source": [
    "What do you think? You'll explore these options more on your own in Assignment 2."
   ]
  }
 ],
 "metadata": {
  "accelerator": "GPU",
  "colab": {
   "gpuType": "T4",
   "provenance": []
  },
  "kernelspec": {
   "display_name": "Python 3 (ipykernel)",
   "language": "python",
   "name": "python3"
  },
  "language_info": {
   "codemirror_mode": {
    "name": "ipython",
    "version": 3
   },
   "file_extension": ".py",
   "mimetype": "text/x-python",
   "name": "python",
   "nbconvert_exporter": "python",
   "pygments_lexer": "ipython3",
   "version": "3.11.5"
  }
 },
 "nbformat": 4,
 "nbformat_minor": 1
}
