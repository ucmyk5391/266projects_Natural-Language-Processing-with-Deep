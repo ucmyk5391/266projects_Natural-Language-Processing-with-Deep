{
  "cells": [
    {
      "cell_type": "markdown",
      "id": "b2c581a3",
      "metadata": {
        "id": "b2c581a3"
      },
      "source": [
        "# Assignment 4: Image Captioning\n",
        "\n",
        "This assignment is somewhat short.  We want you to spend your time on the project instead!\n",
        "\n",
        "This assignment explores models connecting different modalities - exploring a connection between images and text.  By the time you're done with this assignment, you'll have:\n",
        "\n",
        "* investigated a few captioning techniques\n",
        "* worked with CLIP embeddings for images and captions\n",
        "* worked with the BLIP image captioning system\n",
        "\n",
        "[![Open In Colab](https://colab.research.google.com/assets/colab-badge.svg)](https://colab.research.google.com/github/datasci-w266/2025-summer-main/blob/master/assignment/a4/image_captioning.ipynb)\n"
      ]
    },
    {
      "cell_type": "markdown",
      "id": "600d7481",
      "metadata": {
        "id": "600d7481"
      },
      "source": [
        "# Foundational image captioning papers\n",
        "\n",
        "## Show & Tell\n",
        "\n",
        "[Show and Tell: A Neural Image Caption Generator](https://arxiv.org/pdf/1411.4555.pdf) was the first step towards neural image captioning.  Fundamentally it is an encoder-decoder scheme similar to what we've seen in class.  Concretely, it uses the CNN structure of an (at the time) state of the art image classification CNN as the encoder and it uses an LSTM as a decoder.  As in the generation models in class, it continues to generate text until a special \"stop\" token is emitted.  After **reading** the paper, answer the following questions:\n",
        "\n",
        "### Questions (Part A)\n",
        "\n",
        "1.  What parts of the CNN were fine-tuned during the image caption generation training process?\n",
        "2.  What was the biggest concern when deciding how to train the model?\n",
        "3.  How was the encoded image representation input into the decoder?\n",
        "4.  Given we are \"translating\" from an image to a caption (without a length constraint), which evaluation metric did the authors determine was reasonable for a top line metric?\n",
        "5.  What beam width is equivalent to one where you select the highest probability word in each decoding step?\n",
        "\n",
        "\n",
        "## Deep Visual Alignment\n",
        "\n",
        "[Deep Visual-Semantic Alignments for Generating Image Descriptions](https://cs.stanford.edu/people/karpathy/cvpr2015.pdf) is a fun read for which we will ask no questions.  Its critical insights are around understanding an image as a composition of regions, and building upon that understanding to construct both a caption for the whole image, but labels for its consistuent parts.\n",
        "\n",
        "## Show, Attend & Tell\n",
        "\n",
        "[Show, Attend & Tell](https://arxiv.org/pdf/1502.03044.pdf) applies the same \"provide the decoder more context, as directly as possible\" trick we've seen over the course: adding attention.  After **skimming** the paper, answer the following questions:\n",
        "\n",
        "### Questions (Part B)\n",
        "\n",
        "1. What is the model paying attention to?\n",
        "2. What do the figures with highlight shading represent in Figures 2, 3 and 5?\n",
        "\n",
        "# Exploring an MS COCO captioner\n",
        "\n",
        "There are many examples of image captioners ML engineers have built on the MS COCO dataset you explored. [This one](https://replicate.com/rmokady/clip_prefix_caption) uses a (more) modern large language model as its decoder, GPT-2.  \n",
        "\n",
        "* **Explore** the samples and play with using beam search and not.  What do you notice?\n",
        "\n",
        "This is an example from the Show & Tell paper of a low-quality caption (see figure 5).  The GPT-2 model proposes \"the car that person drove to the hospital.\" vs. \"A yellow school bus parked in a parking lot\" from the original paper. ![Misclassified](littlecar.png)"
      ]
    },
    {
      "cell_type": "markdown",
      "id": "958d9ca0",
      "metadata": {
        "id": "958d9ca0"
      },
      "source": [
        "# CLIP Embeddings and Image Classification\n",
        "\n",
        "The [CLIP paper](https://arxiv.org/pdf/2103.00020.pdf)  describes a system that emits encodings that represent both images and text captions. The system learns to match a picture with its caption so the encoding for the image and the encoding for an associated caption should have a very high cosine similarity.  Systems like DALL-E use CLIP embeddings to generate images based on a text description by using the text encoding to get the image encoding and then processing the image encoding to generate the final image.  We're going to use CLIP in the opposite direction.  Namely we're going to use CLIP embeddings to classify images, that is to score a set of captions for an image based on the image's content.\n"
      ]
    },
    {
      "cell_type": "markdown",
      "id": "8f84ea56",
      "metadata": {
        "id": "8f84ea56"
      },
      "source": [
        "We can use the HuggingFace implementation of CLIP to experiment with this multimodal capability. Since we are not fine-tuning it we do not need access to a GPU."
      ]
    },
    {
      "cell_type": "code",
      "execution_count": 1,
      "id": "0b343ffd",
      "metadata": {
        "id": "0b343ffd"
      },
      "outputs": [],
      "source": [
        "!pip install -q transformers"
      ]
    },
    {
      "cell_type": "code",
      "execution_count": 2,
      "id": "m2GGQX43yxle",
      "metadata": {
        "colab": {
          "base_uri": "https://localhost:8080/"
        },
        "id": "m2GGQX43yxle",
        "outputId": "87f2d223-526e-4095-ecf7-ead8a64b2981"
      },
      "outputs": [],
      "source": [
        "!pip install -q diffusers --upgrade"
      ]
    },
    {
      "cell_type": "code",
      "execution_count": 3,
      "id": "q79s6H9xyxlg",
      "metadata": {
        "colab": {
          "base_uri": "https://localhost:8080/"
        },
        "id": "q79s6H9xyxlg",
        "outputId": "11809929-063a-42fa-acfa-f6100234f795"
      },
      "outputs": [],
      "source": [
        "!pip install -q invisible_watermark accelerate safetensors"
      ]
    },
    {
      "cell_type": "code",
      "execution_count": 4,
      "id": "41a16f22",
      "metadata": {
        "id": "41a16f22"
      },
      "outputs": [],
      "source": [
        "import tensorflow as tf\n",
        "from PIL import Image\n",
        "import requests\n",
        "from transformers import CLIPProcessor, TFCLIPModel"
      ]
    },
    {
      "cell_type": "code",
      "execution_count": 5,
      "id": "af441fd4",
      "metadata": {
        "colab": {
          "base_uri": "https://localhost:8080/",
          "height": 382,
          "referenced_widgets": [
            "2f37ac3f24104634b1b0ce0ef205fbae",
            "14c00eb365e1425abda430a397f83f3b",
            "43c71a7e4c244d369896f081af98967a",
            "ca074de097424799aef9e9a342e230da",
            "a23b5f72db3d4951a7ae2e31a76bb9b1",
            "4b9cb4f16195452db91dcd220dac5735",
            "d34f19e3d9fb4bfd828250d3fa1e6516",
            "8023605283c644988286a3b65eea9868",
            "923d1e241cdd46ee985044de32a210c2",
            "46bf147f25394a28b4d9bdec21ac90c1",
            "603f99d7ae334f7da0c87fdbb07cacd1",
            "d9799047e768465694042585471d4024",
            "9201faed310d4e7a8dd93f1925ac8955",
            "7de3e5acd15149e5b8c68dfede9ca912",
            "5c69df89f3f44afa9d4d2b5e84c5e8f8",
            "2f2c3fb776c44ec6bfe15cfca7e462be",
            "aa93d7e80c934249828eabc8546e9f7a",
            "257084d21f154c8a8ba51927675185a2",
            "173ebb187f33447bbd1aad322a044958",
            "ab5f1b342c504baa97ea61f0a93e9b0d",
            "29240340964544b08b6910a362e03afa",
            "6232ca5cd8b1458e8694c80b34157700",
            "b36a0cd42d1d47148a1f3a666d78a813",
            "6452f8011e4341c3bac5f05b79fab95d",
            "725a3890ba8647ffb39f42e4f5295d89",
            "3c49d0e4821b47948658cdacc9f70a27",
            "a0af79117ae34dd7ac98a801db2b83de",
            "5d448c603c9a461b81509dc87a05d388",
            "fc85998f8c4e451fb583dbeb8ff09d78",
            "5674b1bc70734c4fb9edd0d7121eea62",
            "d2c3078a8e3c4a8aa435bc0b2d89beda",
            "82b3b04d6a744320aa10535b672883a6",
            "184a187e023b40b2af904fd8d5411246",
            "e23a8a4a49a8426c9fd464136603cada",
            "2a3050f2af4b4eeaa3ae911a0a6adc2d",
            "a121d3ccb23a405493d828ad4954f75a",
            "db54c407962d4c91a4fb462390dc2aff",
            "e121c451fda8412eb0b587c94c65f420",
            "4214549ddf8a4ade9b11be9d5ef0937b",
            "b91678cb0cf9480585b5921435e7ee1b",
            "fd44a82200104172b9a35c3b1d6767ee",
            "933b064e83574287af4973d153798d32",
            "fcec2bbd8046453cb96367e6b9e065fa",
            "ff1f366fe3884cd8a10576b2492338da",
            "2cfa5bf281fc4413a87ef96f39c37d53",
            "9e75a9ba392f46a0aaf21d1182863ca5",
            "1b457faefe674b96832523928a87f87c",
            "c7e31e0e83c64f3f80663f670429f3fe",
            "7b8b8444cfa24c85b30840e60f00f274",
            "68936522a65640b6bf9fca0a0951e81e",
            "c664fca4b853493084b82d686a774bd1",
            "839ca3fd3f47479ebf9bff7959896ee2",
            "b6a5f76c196b4cb198e2f4cad4c551ee",
            "132c8940d0834d0a815cec79f9057945",
            "190a2112c52144ff9c88be212f8ce282",
            "35cfc3c3ef6e4de2bc3829c718dbd15c",
            "1d25f7edcb8d4c3fb315c43950dcac65",
            "245c3c5f3d934a04bad37647003d6a88",
            "6acf7df2d0af4e5c9018eba00f05b8b4",
            "be31248cef894076b355237903cb5d2f",
            "eafb53a6ca1f4af4b088a38f47d4b6ed",
            "e2a51d29145b476d8524be7b20e8b2b1",
            "e3c3c8484d7847f69976bee5b1a0cf15",
            "d4f3f2a752374facb999fb82da96331f",
            "4700297b70cc4a29b827d383530543a2",
            "7dacaf680cbc4683a3a2c7e9f8340746",
            "e80f57e6fb8340689baf66e35aa0382b",
            "57a1e3d21f074efbb9d18bc8fa832746",
            "f69d7e8de6a847c58cd9408dddc56b1c",
            "66f91e1964a24e308287414a8cf45083",
            "9f5708d3a4154d08869a1edf462ecb4e",
            "e6f087cea7874bf6804b33fe5bf79dab",
            "f4f76ba2c39d4573b07339887b5bb88e",
            "8ea38e3fe1e04310a589690bae99b395",
            "acf997b3d9de47268cccce8c4c3449fc",
            "933050e9131d4ce3bd9eb5c0329fecc0",
            "44f76fb9e1154c1ea20c5cfc8fc56867",
            "f3cdf2f8787c4ff58f93d24008cb45a0",
            "8a9635af4b9640c1908c44f7e5fe54b6",
            "c4e4164e2c7f40d99e33b7a13abe7e3f",
            "9b5828e110ef41daa7fa3fd20ad5c88f",
            "1221e96dceb24f92bcb0c7be2c889c48",
            "e83200dba2144d54ab01d050957e0f09",
            "5f0e898c71bb4e07b118acf2637088f8",
            "7cd384b412b84f4fa1a5d63801908981",
            "82fd573b334f4d5a9eb9fe0a59009ef4",
            "593e88790a08401f915ab28653770c0d",
            "702c7812d55146cca91ee6007244e345"
          ]
        },
        "id": "af441fd4",
        "outputId": "69bd3a13-ae53-4026-fcea-f4194f7b4aa6"
      },
      "outputs": [],
      "source": [
        "model = TFCLIPModel.from_pretrained(\"openai/clip-vit-base-patch32\")\n",
        "processor = CLIPProcessor.from_pretrained(\"openai/clip-vit-base-patch32\")"
      ]
    },
    {
      "cell_type": "markdown",
      "id": "efbe368f",
      "metadata": {
        "id": "efbe368f"
      },
      "source": [
        "Now let's begin our experiment.  We're going to select two images that contain both zebras and cars.  They may contain other things as well.  We're also going to generate a set of captions that we will score.  Specifically, we'll pass the output for the captions through a softmax to give us a probability distribution over the four captions."
      ]
    },
    {
      "cell_type": "code",
      "execution_count": 6,
      "id": "4d2c169c",
      "metadata": {
        "colab": {
          "base_uri": "https://localhost:8080/"
        },
        "id": "4d2c169c",
        "outputId": "6482f8de-f6e1-4fea-fb77-5d4b7a4ba24e"
      },
      "outputs": [],
      "source": [
        "# Example tags: animal = zebra, transport = car\n",
        "\n",
        "urls = [\"http://farm1.staticflickr.com/9/15631288_605abb3096_z.jpg\", #zebras foreground, cars background\n",
        "        \"http://farm4.staticflickr.com/3057/3033996041_11293469b7_z.jpg\"]  #zebra foreground, tiny car background\n",
        "captions = [\"a photo of cars\",\n",
        "            \"a photo of a giraffe\",\n",
        "            \"a photo of zebras in a field\",\n",
        "            \"a photo of some zebras and cars\"]\n",
        "\n",
        "for url in urls:\n",
        "    image = Image.open(requests.get(url, stream=True).raw)\n",
        "\n",
        "    inputs = processor(\n",
        "        text=captions, images=image, return_tensors=\"tf\", padding=True\n",
        "    )\n",
        "\n",
        "    outputs = model(**inputs)\n",
        "    logits_per_image = outputs.logits_per_image  # this is the image-text similarity score\n",
        "    probs = tf.nn.softmax(logits_per_image, axis=1)  # we can take the softmax to get the label probabilities\n",
        "\n",
        "    print()\n",
        "    print(url)\n",
        "    for i, caption in enumerate(captions):\n",
        "        print('%40s - %.4f' % (caption, probs[0, i]))"
      ]
    },
    {
      "cell_type": "markdown",
      "id": "839d1bc4",
      "metadata": {
        "id": "839d1bc4"
      },
      "source": [
        "The CLIP embeddings allow us to associate captions with images.  Specifically, we can build a classifier that assigns probabilities to each of the captions.  We want the highest probability to go to the most descriptive caption out of the four captions for the given image.  Notice here that even though both images contain zebras, one of them features a line of clearly visible cars.  The other image only has one small car off in the distance.  Note that the first image with the cars scores high for the caption of ```a photo of some zebras and cars``` because the zebras and cars are very visible.  The second image scores highest for ```a photo of zebras in a field``` but the small car is less noticed but scores above a zero."
      ]
    },
    {
      "cell_type": "code",
      "execution_count": 7,
      "id": "f19bc8b1",
      "metadata": {
        "colab": {
          "base_uri": "https://localhost:8080/"
        },
        "id": "f19bc8b1",
        "outputId": "45e1580e-3eea-4a82-8a73-6aaa3d26993a"
      },
      "outputs": [],
      "source": [
        "# Example tags: two dogs in bike, human bike tiny dog\n",
        "\n",
        "urls = [\"http://farm1.staticflickr.com/8/10896131_6a184b48cb_z.jpg\",  #2 dogs in bike basket\n",
        "        \"http://farm4.staticflickr.com/3082/2797293301_dd26fd613f_z.jpg\"] #human and bike with tiny dog\n",
        "captions = [\"a photo of a dog\",\n",
        "            \"a photo of some dogs in a basket\",\n",
        "            \"a photo of a bike\",\n",
        "            \"a photo of some dogs with a bike\"]\n",
        "\n",
        "for url in urls:\n",
        "    image = Image.open(requests.get(url, stream=True).raw)\n",
        "\n",
        "    inputs = processor(\n",
        "        text=captions, images=image, return_tensors=\"tf\", padding=True\n",
        "    )\n",
        "\n",
        "    outputs = model(**inputs)\n",
        "    logits_per_image = outputs.logits_per_image  # this is the image-text similarity score\n",
        "    probs = tf.nn.softmax(logits_per_image, axis=1)  # we can take the softmax to get the label probabilities\n",
        "\n",
        "    print()\n",
        "    print(url)\n",
        "    for i, caption in enumerate(captions):\n",
        "        print('%40s - %.4f' % (caption, probs[0, i]))"
      ]
    },
    {
      "cell_type": "markdown",
      "id": "f2359ba6",
      "metadata": {
        "id": "f2359ba6"
      },
      "source": [
        "Again, these two images both contain bicycles and dogs.  The first image is two dogs in a basket on the front of a bike.  While the bike is visible, the two dogs are the focus of the image.  The second image features a person with their bike.  The bike happens to contain a small dog.  We would expect the embeddings to reflect the different emphases of the photos and indeed they do."
      ]
    },
    {
      "cell_type": "code",
      "execution_count": 8,
      "id": "13595ef8",
      "metadata": {
        "colab": {
          "base_uri": "https://localhost:8080/"
        },
        "id": "13595ef8",
        "outputId": "3bf5a82f-5cca-4fac-b651-e5948d00cce9"
      },
      "outputs": [],
      "source": [
        "# Example tags: animal = dog, transport = bike\n",
        "\n",
        "urls = [\"http://farm1.staticflickr.com/124/405495389_d4316b1224_z.jpg\",   #dog foreground and tiny bikes background\n",
        "        \"http://farm8.staticflickr.com/7194/6991675037_3c298541c0_z.jpg\"] #motorbike foreground, many bikes and tiny dog background\n",
        "captions = [\"a photo of a dog\",\n",
        "            \"a photo of a motorbike\",\n",
        "            \"a photo of a plane\",\n",
        "            \"a photo of some bikes\"]\n",
        "\n",
        "for url in urls:\n",
        "    image = Image.open(requests.get(url, stream=True).raw)\n",
        "\n",
        "    inputs = processor(\n",
        "        text=captions, images=image, return_tensors=\"tf\", padding=True\n",
        "    )\n",
        "\n",
        "    outputs = model(**inputs)\n",
        "    logits_per_image = outputs.logits_per_image  # this is the image-text similarity score\n",
        "    probs = tf.nn.softmax(logits_per_image, axis=1)  # we can take the softmax to get the label probabilities\n",
        "\n",
        "    print()\n",
        "    print(url)\n",
        "    for i, caption in enumerate(captions):\n",
        "        print('%40s - %.4f' % (caption, probs[0, i]))"
      ]
    },
    {
      "cell_type": "markdown",
      "id": "9315486e",
      "metadata": {
        "id": "9315486e"
      },
      "source": [
        "For the third example, the first image includes a dog in the foreground and a number of small bikes in the distant background.  You can look at the annotations associated with the image to see where these objects are located. The second image includes a motorbike/motorcycle in the the foreground but a number of bikes and a tiny dog in the background.  Again we're hand crafting these captions to include the items in the image but we want the score for the caption to reflect what's in the foreground of the image.  "
      ]
    },
    {
      "cell_type": "markdown",
      "id": "79e1c0c8",
      "metadata": {
        "id": "79e1c0c8"
      },
      "source": [
        "Now it is your turn.  You will essentially replicate the examples above but you will do it with images **you** select.  First you need to select *two* images for processing. Go to [the COCO Explorer](https://cocodataset.org/#explore), click on two tag icons: an animal (see icon column of animals) and a mode of transportation (see icon column of ), and search. (You pick which; you might have to try a few combinations until you get multiple image results.)\n",
        "\n",
        "Find two different images that each contain your animal and your mode of transportation.  It's okay if they contain other things as well.  If you click on the URL icon above each image, you'll see a link to the annotated image and the original (unlabeled) image. Put the original image link in the code cell below *your image 1 url* and *your image 2 url*, then create four captions that mention only one of the objects each vs both objects together. You can see the captions we created for the three examples above.  The goal is to get probabilities above 0.85 for the caption that best describes the first image and the caption that best describes the second image.\n",
        "\n",
        "As in the examples above, you must find a pair of images with the same two objects tagged in them, but which get different results for which caption has the highest probability according to the CLIP model.\n",
        "\n",
        "Note which object tags you used, and give a brief explanation of what looks different about the two images that you think made them get different CLIP results for the most likely caption.  Enter that explanation in the cell below.  You **do not need to enter it in the answers sheet**.  Just leave it in the notebook that you submit."
      ]
    },
    {
      "cell_type": "code",
      "execution_count": null,
      "id": "4d4f1767",
      "metadata": {
        "colab": {
          "base_uri": "https://localhost:8080/",
          "height": 365
        },
        "id": "4d4f1767",
        "outputId": "e21db049-e6b0-4f66-97fe-b97e6fdf5f4b"
      },
      "outputs": [],
      "source": [
        "# Example tags: animal = ???, transportation = ???\n",
        "\n",
        "### YOUR CODE HERE\n",
        "urls = [\"your image 1 url\",   #\n",
        "        \"your image 2 url\"] #\n",
        "captions = [\"caption 1\",\n",
        "            \"caption 2\",\n",
        "            \"caption 3\",\n",
        "            \"caption 4\"]\n",
        "### END YOUR CODE\n",
        "\n",
        "for url in urls:\n",
        "    image = Image.open(requests.get(url, stream=True).raw)\n",
        "\n",
        "    inputs = processor(\n",
        "        text=captions, images=image, return_tensors=\"tf\", padding=True\n",
        "    )\n",
        "\n",
        "    outputs = model(**inputs)\n",
        "    logits_per_image = outputs.logits_per_image  # this is the image-text similarity score\n",
        "    probs = tf.nn.softmax(logits_per_image, axis=1)  # we can take the softmax to get the label probabilities\n",
        "\n",
        "    print()\n",
        "    print(url)\n",
        "    for i, caption in enumerate(captions):\n",
        "        print('%40s - %.4f' % (caption, probs[0, i]))"
      ]
    },
    {
      "cell_type": "markdown",
      "id": "d88c074e",
      "metadata": {
        "id": "d88c074e"
      },
      "source": [
        "### Questions (Part C)\n",
        "\n",
        "1. What is the animal tag you selected?\n",
        "\n",
        "2. What is the transportation tag you selected?\n",
        "\n",
        "3. What is the probability associated with the most likely caption for image 1?\n",
        "\n",
        "4. What is the probability associated with the most likely caption for image 2?\n",
        "\n",
        "**(Answer 5 below but do NOT enter your sentences in the answers file)**\n",
        "\n",
        "5. Why do you think the differences between your two images are reflected in the 4 captions you produced.  "
      ]
    },
    {
      "cell_type": "markdown",
      "id": "57494c14",
      "metadata": {
        "id": "57494c14"
      },
      "source": [
        "Please answer in two to four sentences right here:\n",
        "\n",
        "*BEGIN Q 5 ANSWER HERE*\n",
        "\n",
        "\n",
        "\n",
        "*END Q 5 ANSWER HERE*\n"
      ]
    },
    {
      "cell_type": "markdown",
      "id": "Og-Wr_UHwzcr",
      "metadata": {
        "id": "Og-Wr_UHwzcr"
      },
      "source": [
        "We used CLIP to evaluate the captions and to select the best caption given a choice from four.  Now let's use a model named [BLIP](https://huggingface.co/docs/transformers/en/model_doc/blip) to generate the caption for an image."
      ]
    },
    {
      "cell_type": "code",
      "execution_count": null,
      "id": "pAs8evZmPcWc",
      "metadata": {
        "id": "pAs8evZmPcWc"
      },
      "outputs": [],
      "source": [
        "!pip install -q invisible_watermark transformers accelerate safetensors"
      ]
    },
    {
      "cell_type": "code",
      "execution_count": 9,
      "id": "ZFLVe238MDOe",
      "metadata": {
        "id": "ZFLVe238MDOe"
      },
      "outputs": [],
      "source": [
        "\n",
        "from transformers import AutoProcessor, TFBlipForConditionalGeneration"
      ]
    },
    {
      "cell_type": "code",
      "execution_count": 10,
      "id": "ChMoBaBzMDOe",
      "metadata": {
        "colab": {
          "base_uri": "https://localhost:8080/",
          "height": 332,
          "referenced_widgets": [
            "72946791b17b4526aff83c2ab099e5d9",
            "3ad66a2b9efd439fa884d3965f54657c",
            "a351cefcad4f4f6a8ff2fc988aed1537",
            "585ba3f7afc84ebc9dc669dffdaf6060",
            "6ca5a24bbe8c4f40851759992e51387c",
            "7d276c5618ca4c3889acc1162306cfba",
            "925405f3c5a54433afbd6bd5d91ee39d",
            "afef95b1fc0e45aaa834029ec18a3329",
            "d9e3b0ce55f64454b397a1ef5c09e665",
            "5e0482486b104ce786c2264b6efb85a4",
            "b4fb8437dc9e482ebb521d97c34b6176",
            "64d387f255814684bd11d2573d052f04",
            "0c9c6298ce1b435eab623cf6b2a6939a",
            "5ee2705b25644e9aa1d302cec774edb2",
            "059b7b912bb248b6bec835804ac318cf",
            "568dbcaad7c443368edf4e39183476ff",
            "13d11b5d58bb4089bd2c2c9145ea5761",
            "6408d11b089c441699ac38458c5c2bf2",
            "da20759b5fe8428fb3afebc2bc4e5b6b",
            "2c5e33b8172c4d0d926e815776cfdf49",
            "f48cb240ab174dbc882b5395123ca8aa",
            "383d80a5cf26471699ed60a13e01798f",
            "727377b4b39a48aeb026476acdd2f083",
            "18953c7b86af4ad8a80b2eac4eeb0ec5",
            "86703130f82e4c3986679e7c45ae14d7",
            "ce548b8d0b014fed90682756ef87e5e4",
            "161e7ae262894d5f8f6920e330bf6f73",
            "8952ccaac8b74217976aee30973ec753",
            "81a5a5a650b2473eba309832d44ffa56",
            "308afc9d1f3e406dac81b9ce771ba4d2",
            "c4eca3f4a3e1408192aa48fb84545894",
            "19cf6381930b496391009be2e2a54291",
            "679c2be0be344206b337f251e1149ac8",
            "160ea9011dfb4e118d145c0c6200892c",
            "8859430228d745acb0bed4e14f69ee87",
            "dab012a3fb4a4d7a880adac8d9b800f1",
            "3bff8df111c746729a43c4a8806b112f",
            "02046abfbbca43fd8c180e2159cb2f2d",
            "f42e4bfaefae4206857148cffc1a2916",
            "a4255db1de5e4643a526385daff70b53",
            "1b33ddcaf41c4252afc84910d9c84307",
            "47fafab3c5a84af883845996ea0c329a",
            "0a7d4a4f33974ee6980cbc0e44170dae",
            "a3933c79ce744831a35e9bc5b7ee6d69",
            "5e4dbbc2d46942b581281a1a38b0d308",
            "413be1341c6a41b1b595fb847d25a03a",
            "336b17c4f25141f592b6f59628e84b22",
            "f86a92c776f9491f9ddd420245aff367",
            "88418c570cdb415dba078617d8296926",
            "a166d956ed444cc8beda4d11da23bc61",
            "43fcf05f669b49dd931729165c5e9e9e",
            "a051d8a9a6c64bdd8886200f3526666b",
            "d1287e5442d54a4baba3a884be386c0f",
            "c332f51b82c64a27b65806a7832e2110",
            "3c8371b4685844b5b2b3fa5cdb6db837",
            "c26b865f9ef4406bbabfbbf735f4419b",
            "79802129afdc4b3fb00f2733ed49c5e2",
            "c4b19e2c6a4945adb64760ba83bf7249",
            "1835d06539044d018d8e82fc077ecb27",
            "908304397f13425e84d0dab59ddb9b4f",
            "3961865d023e4161ad871d14e2a54ed6",
            "b1f68ddea3244d83b8ea4b2488005ff3",
            "6c2c05f91e244d449b6e835cdab6db53",
            "fd6a879db2bf4b98ab9e7abecf0884b1",
            "224b4b867b85498abe549f721cc21cff",
            "460e30b188e946138701955edaf74079",
            "827e0366593b426385777fd6be3e13fe",
            "92a6ebe5ec2643e8a868852a59034e22",
            "204f4396a25f4b418e1414798de73a88",
            "e297567309bf4940976f286facb4ae61",
            "f3db534c967440e5ab84cf7e6f756fb8",
            "c4cc4ba0563948c28f30ee52d8adf56b",
            "73df9dc4a20a4c8db1c3c8dcb41aca87",
            "9ccdc8c917ec42429894104b5b969ea1",
            "d7ddd72bbb514a6c81227e8dea204b0a",
            "a41483cd0efd476f9edc0e5048843f02",
            "69894f41cf14494ba8a48851a0e41342"
          ]
        },
        "id": "ChMoBaBzMDOe",
        "outputId": "7bd16fdf-fc2c-4939-8634-c4f173b92f65"
      },
      "outputs": [],
      "source": [
        "bl_processor = AutoProcessor.from_pretrained(\"Salesforce/blip-image-captioning-base\")\n",
        "\n",
        "bl_model = TFBlipForConditionalGeneration.from_pretrained(\"Salesforce/blip-image-captioning-base\")\n"
      ]
    },
    {
      "cell_type": "markdown",
      "id": "2lIkQGQVMDOf",
      "metadata": {
        "id": "2lIkQGQVMDOf"
      },
      "source": [
        "Now let's begin our experiment.  We're going re-use the two images you used in the previous CLIP exercise. Your images contain both the animal and the type of transporation you selected.  They may contain other things as well.  We're also going to generate a caption for each one that we will score.  Specifically, we'll pass the output for the captions through a softmax to give us a probability distribution over the four captions."
      ]
    },
    {
      "cell_type": "markdown",
      "id": "0Apht0MwdRGT",
      "metadata": {
        "id": "0Apht0MwdRGT"
      },
      "source": [
        "First, let's generate a caption for your first image, the one in C3.  Paste the image URL into the spot below."
      ]
    },
    {
      "cell_type": "code",
      "execution_count": 11,
      "id": "4b2fvKEKNO4B",
      "metadata": {
        "colab": {
          "base_uri": "https://localhost:8080/"
        },
        "id": "4b2fvKEKNO4B",
        "outputId": "e78b6775-c94b-445e-f6e4-5d3227a5debb"
      },
      "outputs": [],
      "source": [
        "#image one URL\n",
        "\n",
        "### YOUR CODE HERE\n",
        "url = \"YOUR IMAGE 1 URL HERE\"\n",
        "### END YOUR CODE\n",
        "\n",
        "image = Image.open(requests.get(url, stream=True).raw)\n",
        "\n",
        "text = \"A picture of\"\n",
        "\n",
        "inputs = bl_processor(images=image, text=text, return_tensors=\"tf\")\n",
        "\n",
        "#outputs = bl_model(**inputs)\n",
        "outputs = bl_model.generate(**inputs, max_new_tokens=25)\n",
        "\n",
        "print(bl_processor.decode(outputs[0], skip_special_tokens=True))\n"
      ]
    },
    {
      "cell_type": "markdown",
      "id": "dvju_LGnd2OL",
      "metadata": {
        "id": "dvju_LGnd2OL"
      },
      "source": [
        "Next, let's generate a caption for your second image, the one in C4.  Paste the image URL into the spot below."
      ]
    },
    {
      "cell_type": "code",
      "execution_count": 12,
      "id": "usMrEeHgUAle",
      "metadata": {
        "colab": {
          "base_uri": "https://localhost:8080/"
        },
        "id": "usMrEeHgUAle",
        "outputId": "a9d19e61-5a77-44ad-ab2c-0a11dc939655"
      },
      "outputs": [],
      "source": [
        "#image two URL\n",
        "\n",
        "### YOUR CODE HERE\n",
        "url = \"YOUR IMAGE 2 URL HERE\"\n",
        "### END YOUR CODE\n",
        "\n",
        "image = Image.open(requests.get(url, stream=True).raw)\n",
        "\n",
        "text = \"A picture of\"\n",
        "\n",
        "inputs = bl_processor(images=image, text=text, return_tensors=\"tf\")\n",
        "\n",
        "#outputs = bl_model(**inputs)\n",
        "outputs = bl_model.generate(**inputs, max_new_tokens=25)\n",
        "\n",
        "print(bl_processor.decode(outputs[0], skip_special_tokens=True))"
      ]
    },
    {
      "cell_type": "markdown",
      "id": "c-qHFJBO09tT",
      "metadata": {
        "id": "c-qHFJBO09tT"
      },
      "source": [
        "Now lets see how the captions you just generated work as describing your images.  We're going to use CLIP to evaluate the captions you just generated.  Fill out the cell below by copying the URLs for the images you selected with the animal and the transportation. Now copy the BLIP caption for your first image and past it in to caption #1.  Copy the the BLIP caption for your second image and past it in to caption #3. Now take the highest scoring caption for image #1 from question 3c and paste that caption into slot 2.  Then take the highest scoring caption for image #2 from question 4c and paste that caption into slot 4. Now rerun CLIP and look at the scores.  "
      ]
    },
    {
      "cell_type": "code",
      "execution_count": null,
      "id": "_r21tYUNyQP5",
      "metadata": {
        "id": "_r21tYUNyQP5"
      },
      "outputs": [],
      "source": [
        "# Example tags from section C: animal = ???, transportation = ???\n",
        "\n",
        "### YOUR CODE HERE\n",
        "urls = [\"your image 1 url\",   #\n",
        "        \"your image 2 url\"] #\n",
        "captions = [\"caption 1\",\n",
        "            \"caption 2\",\n",
        "            \"caption 3\",\n",
        "            \"caption 4\"]\n",
        "### END YOUR CODE\n",
        "            #\n",
        "for url in urls:\n",
        "    image = Image.open(requests.get(url, stream=True).raw)\n",
        "\n",
        "    inputs = processor(\n",
        "        text=captions, images=image, return_tensors=\"tf\", padding=True\n",
        "    )\n",
        "\n",
        "    outputs = model(**inputs)\n",
        "    logits_per_image = outputs.logits_per_image  # this is the image-text similarity score\n",
        "    probs = tf.nn.softmax(logits_per_image, axis=1)  # we can take the softmax to get the label probabilities\n",
        "\n",
        "    print()\n",
        "    print(url)\n",
        "    for i, caption in enumerate(captions):\n",
        "        print('%40s - %.4f' % (caption, probs[0, i]))\n"
      ]
    },
    {
      "cell_type": "markdown",
      "id": "VZ7kNcPnHLQJ",
      "metadata": {
        "id": "VZ7kNcPnHLQJ"
      },
      "source": [
        "### Questions (Part D)\n",
        "\n",
        "1. Does the BLIP caption win or do other captions win for image #1?\n",
        "\n",
        "2. Does the BLIP caption win or do other captions win for image #2?\n",
        "\n",
        "3. What is the probability associated with the most likely caption for image #1?\n",
        "\n",
        "4. What is the probability associated with the most likely caption for image# 2?\n",
        "\n",
        "**(Answer 5 below but do NOT enter your sentences in the answers file)**\n",
        "\n",
        "5. Why do you think the winning caption scored higher than the 3 others?  "
      ]
    },
    {
      "cell_type": "markdown",
      "id": "gL7gQsoXfa2L",
      "metadata": {
        "id": "gL7gQsoXfa2L"
      },
      "source": [
        "Please answer Q 5 in two to four sentences right here:\n",
        "\n",
        "BEGIN Q 5 ANSWER HERE\n",
        "\n",
        "END Q 5 ANSWER HERE"
      ]
    },
    {
      "cell_type": "markdown",
      "id": "12026669",
      "metadata": {
        "id": "12026669"
      },
      "source": [
        "## Yay, you're done with your 266 homework.  Now focus on your project!"
      ]
    }
  ],
  "metadata": {
    "colab": {
      "provenance": []
    },
    "kernelspec": {
      "display_name": "Python 3 (ipykernel)",
      "language": "python",
      "name": "python3"
    },
    "language_info": {
      "codemirror_mode": {
        "name": "ipython",
        "version": 3
      },
      "file_extension": ".py",
      "mimetype": "text/x-python",
      "name": "python",
      "nbconvert_exporter": "python",
      "pygments_lexer": "ipython3",
      "version": "3.11.5"
    }
  },
  "nbformat": 4,
  "nbformat_minor": 5
}
