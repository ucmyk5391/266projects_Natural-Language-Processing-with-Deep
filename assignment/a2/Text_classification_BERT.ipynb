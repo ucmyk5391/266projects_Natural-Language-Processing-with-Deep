{
  "cells": [
    {
      "cell_type": "markdown",
      "metadata": {
        "id": "n7BzBd-N9mS1"
      },
      "source": [
        "# Assignment 2: Text Classification with BERT\n",
        "\n",
        "**Description:** This assignment notebook builds on the material from the\n",
        "[lesson 4 notebook](https://github.com/datasci-w266/2025-summer-main/blob/master/materials/lesson_notebooks/lesson_4_BERT.ipynb), in which we fine-tuned a BERT model for the IMDB movie reviews sentiment classification task. In that notebook, we used the bert-base-cased model and applied traditional fine-tuning, with a brief class exercise at the end to try unfreezing different numbers of layers. In this assignment, we'll start with that exercise, and ask you to explore unfreezing more specific layers yourself. Then you'll search for and try different pre-trained BERT-style models.\n",
        "\n",
        "This notebook should be run on a Google Colab leveraging a GPU. By default, when you open the notebook in Colab it will try to use a GPU. Please note that you the GPU is reuqired for Section 3 but not for Sections 1 and 2.\n",
        "Since colab is providing free access to a GPU they place constraints on that access.  Therefore you might want to turn off the GPU access (Edit -> Notebook Settings) until you get to section 3.  Total runtime of the entire notebook (with solutions and a Colab GPU) should be about 1h with the majority of that time being in Section 3. If Colab tells you that you have reached your GPU limit, wait up to 24 hours and you should be able to access a GPU again.\n",
        "\n",
        "\n",
        "[![Open In Colab](https://colab.research.google.com/assets/colab-badge.svg)](https://colab.research.google.com/github/datasci-w266/2025-summer-main/blob/master/assignment/a2/Text_classification_BERT.ipynb)\n",
        "\n",
        "The overall assignment structure is as follows:\n",
        "\n",
        "\n",
        "0. Setup\n",
        "  \n",
        "  0.1 Libraries and Helper Functions\n",
        "\n",
        "  0.2 Data Acquisition\n",
        "\n",
        "  0.3. Data Preparation\n",
        "\n",
        "\n",
        "1. Classification with BERT\n",
        "\n",
        "  1.1. BERT Basics\n",
        "\n",
        "  1.2 CLS-Token-based Classification\n",
        "\n",
        "  1.3 Averaging of BERT Outputs\n",
        "\n",
        "  1.4. Adding a CNN on top of BERT\n",
        "\n",
        "\n",
        "\n",
        "**INSTRUCTIONS:**:\n",
        "\n",
        "* Questions are always indicated as **QUESTION**, so you can search for this string to make sure you answered all of the questions. You are expected to fill out, run, and submit this notebook, as well as to answer the questions in the **answers** file as you did in a1.  Please do **not** remove the output from your notebooks when you submit them as we'll look at the output as well as your code for grading purposes.  We cannot award points if the output cells are empty.\n",
        "\n",
        "* **### YOUR CODE HERE** indicates that you are supposed to write code.\n",
        "\n",
        "* If you want to, you can run all of the cells in section 0 in bulk. This is setup work and no questions are in there. At the end of section 0 we will state all of the relevant variables that were defined and created in section 1.\n",
        "\n",
        "* Finally, unless otherwise indicated your validation accuracy will be 0.65 or higher if you have correctly implemented the model.\n",
        "\n"
      ]
    },
    {
      "cell_type": "markdown",
      "metadata": {
        "id": "so-yur1S9mS4"
      },
      "source": [
        "## 0. Setup\n",
        "\n",
        "### 0.1. Libraries and Helper Functions\n",
        "\n",
        "This notebook requires the Hugging Face datasets and other prerequisites that you must download.  "
      ]
    },
    {
      "cell_type": "code",
      "execution_count": 1,
      "metadata": {
        "colab": {
          "base_uri": "https://localhost:8080/"
        },
        "id": "8uQnMctL9mS5",
        "outputId": "566ab636-a40b-4a2b-e87e-15b86b6a9fc6"
      },
      "outputs": [],
      "source": [
        "!pip install -q transformers\n",
        "!pip install -q torchinfo\n",
        "!pip install -U -q datasets fsspec huggingface_hub # Hugging Face's dataset library\n",
        "!pip install -q evaluate"
      ]
    },
    {
      "cell_type": "markdown",
      "metadata": {
        "id": "ZFFBvPMR9mS8"
      },
      "source": [
        "Now we are ready to do the imports."
      ]
    },
    {
      "cell_type": "code",
      "execution_count": 2,
      "metadata": {
        "id": "Q8b9aykE9mS8"
      },
      "outputs": [],
      "source": [
        "#@title Imports\n",
        "\n",
        "import numpy as np\n",
        "\n",
        "import transformers\n",
        "import evaluate\n",
        "\n",
        "from datasets import load_dataset\n",
        "from torchinfo import summary\n",
        "\n",
        "from transformers import AutoTokenizer, AutoModel, AutoModelForSequenceClassification\n",
        "from transformers import TrainingArguments, Trainer"
      ]
    },
    {
      "cell_type": "markdown",
      "metadata": {
        "id": "YIL1eUtV9mTC"
      },
      "source": [
        "### 0.2 Data Acquisition\n",
        "\n",
        "\n",
        "We will use the IMDB dataset delivered as part of the TensorFlow-datasets library, and split into training and test sets. For expedience, we will limit ourselves in terms of train and test examples."
      ]
    },
    {
      "cell_type": "code",
      "execution_count": 3,
      "metadata": {
        "colab": {
          "base_uri": "https://localhost:8080/",
          "height": 241,
          "referenced_widgets": [
            "885d862d8f7d4771bd3433d79c28ec50",
            "40330414ea3445dc89b21ab9ac7b4bfe",
            "7afbf2ebe1f248efbed046e39a413198",
            "d3ed9a794c9b4f25975fa3ef0d7ed6f0",
            "7af921fbb654414dbff55518d87ecc51",
            "22bb05604e0e43569a09f44d910847d0",
            "dbbfcaade6554012887bb9cb17a54167",
            "d32e85dc7cfb46b7a01a298e07c6b838",
            "8498a007fdc5498f9993750e2d24db30",
            "2f8ce8cf8a194c25ba0a09fd62dc20c0",
            "c99c2f0309a440839efe48cd1eb15bf0",
            "f7d2cd240429435baeddc36a85ea4d85",
            "2ebe58913fe14486b38ca655080d782c",
            "4b6cec5822b34aabb6d8b5439a26f141",
            "1fd9cc8657194b7088dd72afb723be1c",
            "b485e87f936a47308915fa933901f8f3",
            "c950501ab5354861bb117049f8d11d38",
            "9f821339354544a2bcc5f47dfcde8db0",
            "a54daf206f5745d985c1ec1261fb6c59",
            "614a51ee03314d2f830f4a2bfba1ec58",
            "79aaf5842fca4799bad1eb42e4dd3e1e",
            "e2b51c693ca845ccb8d36ade45d83a74",
            "e71bf3d214e1483b8c8ba599d3c6ccee",
            "de3b4406dbcd478c923ca3d04044d45f",
            "66c6b98b86e94893b0c17b3b405fb3ec",
            "b78059c2d1374278a91e5f27e1f5a381",
            "3e0db81f45bc4bfc8f8f2a5fbf0d2404",
            "3bfb884e965e4f4aa5c9b67c1f2bb8c9",
            "401d4055853e47328709f7bb9c1bdeba",
            "2cf22b6e5f344725983da2b3f0218e5d",
            "d184bdea3f584288aca52589e8437eb4",
            "3cac0a34de424c398a5c0ce5d655e2a0",
            "542278049ec34511a4b3f6dcab592909",
            "ca321b60b857464a9349995ee1b70a7d",
            "8cbbe7266bee48cca9f79b0ea8848a07",
            "917227ae81c7447aaa912f3f0ad94d74",
            "c7b6e12daebd4ea8a98060e9143e4fae",
            "83e57e67f241436390694f3b0c06032b",
            "3934d12f4ad142c2af737910ab9d9421",
            "c1aa52a09c4941ef909913df5a06d207",
            "3cc6f93942ac4b21b2129b883ff24fca",
            "450aaf42e7a944e5bed8f034b790d859",
            "be305bb3313a4c43a7003729e98b9f58",
            "9edcc2752ef4426ea529bd8c062dbbc2",
            "2eae49341c254ba2a1bb69c87c7dc0d1",
            "ff8c0763d87e4cbbad1a30b95547a761",
            "e820371d0c8f4f36ba1ec476d57adeff",
            "d13a44ca8a1b4e078478ccdd79439934",
            "f4ea70f9cdaa44c49c968386315a52fc",
            "4d7ef534f6b14aacab222d19266633ff",
            "ee389eb141a242d19a090dac404c101b",
            "923cf7bf21524df8a00ae2db30c32b22",
            "389715ffc57f4604871c0051a63d400d",
            "69ce714e3c554027b977cea040d641fc",
            "a40c9ee6580749afb910804a9d5250ae",
            "1339ce00f6c04757a5014c7cea64fc32",
            "5a0da2de350c4deeba460fd2d03e0ef3",
            "062db89cd30d4c039458240834438bd0",
            "12e0795a8df54998bc08303c6e62ce61",
            "2c9522823a224bab8ab6d936f33ecc6f",
            "f4c45e9e86fc49bba2ea71d7ef6994bb",
            "c748e3229aab402b8ba599a1a5ed6df5",
            "72735dbc895841dca3b92d2666fea460",
            "e702064c37f14ca49b051a5a03f9ff5a",
            "58e0ec343f92432b9c7bab80ce31eb37",
            "d89a860729b64e1ab3e461f53c0625da",
            "ee76759dfd134b2c9f5243aa9904dea0",
            "573d8abd7a574a8face361a642557f7a",
            "89541c1d6a364e06b75c80751417e8cb",
            "9cad3c0d87ea45aab42c380fae336cfb",
            "caa72352aa9945a2bfb0d9c23408a856",
            "4652efe75ebb41749ffbf40e7aeace6e",
            "aeb6464988bd49369e373171b504ab09",
            "d25ea35f4e0e43a5a2094439a5f2c3ed",
            "1414b2e662fd4a149d51a5462d7ae479",
            "8f12acc1455947a1bb1a8c5958d62e8c",
            "49393ff5902b49c195172eac814573a7"
          ]
        },
        "id": "uwOF0qYb9mTC",
        "outputId": "575bd392-6e0a-4106-85e9-e3102e09a3c6"
      },
      "outputs": [],
      "source": [
        "imdb_dataset = load_dataset(\"imdb\")\n",
        "\n",
        "imdb_train_dataset = imdb_dataset['train'].shuffle()\n",
        "imdb_dev_dataset = imdb_dataset['test'].shuffle().select(range(5000))"
      ]
    },
    {
      "cell_type": "markdown",
      "metadata": {
        "id": "mPHFtgGkHNOQ"
      },
      "source": [
        "It is always highly recommended to look at the data. What do the records look like? Are they clean or do they contain a lot of cruft (potential noise)?"
      ]
    },
    {
      "cell_type": "code",
      "execution_count": 4,
      "metadata": {
        "colab": {
          "base_uri": "https://localhost:8080/"
        },
        "id": "wvmWKdVQ9mTC",
        "outputId": "98461917-cf00-42cc-ce17-8d9362b6411a"
      },
      "outputs": [],
      "source": [
        "imdb_train_dataset"
      ]
    },
    {
      "cell_type": "code",
      "execution_count": 5,
      "metadata": {
        "colab": {
          "base_uri": "https://localhost:8080/"
        },
        "id": "BzEnCspD9mTD",
        "outputId": "77313560-7f49-49bb-e2ac-37548cef7efa"
      },
      "outputs": [],
      "source": [
        "for i in range(4):\n",
        "  print(imdb_train_dataset['text'][i])\n",
        "  print(imdb_train_dataset['label'][i])\n",
        "  print()"
      ]
    },
    {
      "cell_type": "code",
      "execution_count": 6,
      "metadata": {
        "colab": {
          "base_uri": "https://localhost:8080/"
        },
        "id": "94gU6o4H-vtB",
        "outputId": "77249f26-25bf-43ee-bd4b-217489f5e00c"
      },
      "outputs": [],
      "source": [
        "imdb_train_dataset.features['label'].names"
      ]
    },
    {
      "cell_type": "markdown",
      "metadata": {
        "id": "CplHsqSDMKCa"
      },
      "source": [
        "For convenience, in this assignment we will define a sequence length and truncate all records at that length. For records that are shorter than our defined sequence length we will add padding characters to insure that our input shapes are consistent across all records."
      ]
    },
    {
      "cell_type": "code",
      "execution_count": 7,
      "metadata": {
        "id": "Zxu9U3qXMKTW"
      },
      "outputs": [],
      "source": [
        "MAX_SEQUENCE_LENGTH = 100"
      ]
    },
    {
      "cell_type": "markdown",
      "metadata": {
        "id": "1bHwj4vu9mTD"
      },
      "source": [
        "## 0.3. Data Preparation\n",
        "\n",
        "We will need to tokenize the text into vocab_ids to pass into a BERT model. To do so, we'll need to use the specific tokenizer that goes with the model we're using. In this notebook, we will try several different BERT-style models. Let's\n",
        "first write a function that will take the text from our dataset and a tokenizer, and encode the text using that tokenizer. Then we'll apply the function to our dataset for each tokenizer and model."
      ]
    },
    {
      "cell_type": "code",
      "execution_count": 8,
      "metadata": {
        "id": "G1wstKkJBVeb"
      },
      "outputs": [],
      "source": [
        "def preprocess_imdb(data, tokenizer):\n",
        "    review_text = data['text']\n",
        "\n",
        "    encoded = tokenizer.batch_encode_plus(\n",
        "            review_text,\n",
        "            max_length=MAX_SEQUENCE_LENGTH,\n",
        "            padding='max_length',\n",
        "            truncation=True,\n",
        "            return_attention_mask=True,\n",
        "            return_token_type_ids=True,\n",
        "            return_tensors=\"pt\"\n",
        "        )\n",
        "\n",
        "    return encoded"
      ]
    },
    {
      "cell_type": "markdown",
      "metadata": {
        "id": "4BGRT1g6a0T6"
      },
      "source": [
        "\n",
        "## 1. BERT-based Classification Models\n",
        "\n",
        "Now we turn to classification with BERT. We will perform classifications with various models that are based on pre-trained BERT models.  If you turn off GPU access while coding and debugging the setup steps, make sure you change the Notebook settings so you can access a GPU when you're ready to train the models.\n",
        "\n",
        "\n",
        "### 1.1. Basics\n",
        "\n",
        "Let us first explore some basics of BERT. We'll start by loading the first pretrained BERT model and tokenizer that we'll use ('bert-base-cased').\n",
        "\n",
        "To explore just the pre-trained portion of the model, we'll use the AutoModel class (equivalent to BertModel, but works for any architecture including BERT). This class gives us the pre-trained model layers up until the last hidden layer (but not any output layer)."
      ]
    },
    {
      "cell_type": "code",
      "execution_count": 9,
      "metadata": {
        "colab": {
          "base_uri": "https://localhost:8080/",
          "height": 233,
          "referenced_widgets": [
            "e7c8483b5a084c688e0cab5ce4156531",
            "3add127a1ac64943ad7042ad53be7db3",
            "857b1fdeb0fd45f282dd0629c6f73446",
            "2180087e2b1e4a2ab8eec81a3bce359c",
            "a8fea835c9fa4a39980fd6f60785a05e",
            "545f3d0cd2a54505bc654cb7fc3261fd",
            "3007218b84bd4ec98cea72f9c703c3e7",
            "e9b64a31ec9a4d26932eca9e1b85b487",
            "0efe0f6db77345eaac7558d5f1d8cf3b",
            "21f540b76af24aaa9b3fd9ac75bb77ed",
            "7c3687afda314a9cae3d0eb24ac7e812",
            "e2882ea609e94414873547866c5c73a6",
            "3452937b9a2d416a80fe3fed37abd65b",
            "8389aade76ef46acbdab74660630e43d",
            "790c53464f8b459aac3d387478cb7ccc",
            "e958657dfd904db0a57d86e0c1a89192",
            "0329e3f7987d4dbc8814ad73263500e0",
            "60a864e8b33e42f2be2cfd1a20335893",
            "bec0fa4b748347fcb59ed39deab34628",
            "d310af193169435089435376ae20b31f",
            "49130ce96dc247df9775e863a5fafa6d",
            "6ab52a44c5374ba38e336ba7cca1a1e5",
            "0c9ae084979b4af59899d7fa59e75421",
            "af1fb3bb711c4394a7a7d35d0bde40a0",
            "b970cc43ece04424b0d7e5cf1855d360",
            "c374c24b7fe84a3e9300a86ec02f8cde",
            "c8cdd1bdd3184c28bda61971c70a41cb",
            "495006b70c8d45f5b95b499f452bd3cd",
            "3b67921e01874898b21f53b0a3818136",
            "77cece6469f04287808ee1c722a1424a",
            "9dcc0b658d454b159d0417cf020025bf",
            "756ef5cc132644f3bcd262de0724e4d4",
            "3c216b7f626e44119239aafa2ab95727",
            "93987725d412448db768641fc4009f91",
            "ebd91c1a1bc34eddbefaf0122b462b87",
            "fb985fa2c49e43619410e4a4cb7f9794",
            "c54824ae3ccb4ced986c5892fd27d9df",
            "847b2271503b40289fe2797a950dc6fe",
            "76c43a82392443ee85a558f3a2dc6f01",
            "a10ac36bcc7f47e197ca83a5bb6df238",
            "8e40ee9cb06749f4af6bef58b3bad928",
            "d41b333df93c48f28f8845301c2b0285",
            "d36c651d1025486b9abf468c64785a16",
            "d315f248ef0e4e80917c824bd159bb52",
            "e5d799cf84df4606992ac27bbdd56f8b",
            "44da295151a74220b73e418911ae72d3",
            "f88416b5142d425c882aff45c293a282",
            "59fe3a5a87884eadb085d543093363e3",
            "00b5a88b8f8d4a53969049c5942ef443",
            "8ae228e8caa44204b1fcef87fab4532e",
            "d17b07c71a074e52a64b96febdf9f55a",
            "d40c242a4b8949fbb85b940bb39b5b47",
            "c8a9b18dad1a474cbc896e41be75a5f6",
            "32efa14f85b94a3aa98e8ee4a57ce5c9",
            "90f006b98b5642708ce8005efa2a7dfc"
          ]
        },
        "id": "dj9IybD-BtWk",
        "outputId": "591c5fc4-06e7-478e-af7e-0ac783fd091e"
      },
      "outputs": [],
      "source": [
        "bert_tokenizer = AutoTokenizer.from_pretrained('bert-base-cased')\n",
        "bert_model = AutoModel.from_pretrained('bert-base-cased')"
      ]
    },
    {
      "cell_type": "markdown",
      "metadata": {
        "id": "OU-H_JP7K8Tj"
      },
      "source": [
        "Let's look at a couple of example sentences:"
      ]
    },
    {
      "cell_type": "code",
      "execution_count": 10,
      "metadata": {
        "id": "aM3UggLagPn4"
      },
      "outputs": [],
      "source": [
        "test_input = ['this bank is closed on Sunday', 'the steepest bank of the river is dangerous']"
      ]
    },
    {
      "cell_type": "markdown",
      "metadata": {
        "id": "YWaNDy5UbmGU"
      },
      "source": [
        "Apply the BERT tokenizer to tokenize them:"
      ]
    },
    {
      "cell_type": "code",
      "execution_count": 11,
      "metadata": {
        "colab": {
          "base_uri": "https://localhost:8080/"
        },
        "id": "nmoptRz0bq1o",
        "outputId": "2ffc2f64-4b54-4566-c586-a6b87c3d7ce6"
      },
      "outputs": [],
      "source": [
        "tokenized_input = bert_tokenizer(test_input,\n",
        "                                 max_length=12,\n",
        "                                 truncation=True,\n",
        "                                 padding='max_length',\n",
        "                                 return_tensors='pt')\n",
        "\n",
        "tokenized_input"
      ]
    },
    {
      "cell_type": "markdown",
      "metadata": {
        "id": "q8WYd810dQwh"
      },
      "source": [
        " **QUESTION:**\n",
        "\n",
        " 1.a  Why do the attention_masks have 4 and 1 zeros, respectively?  Choose the correct one and enter it in the answers file.\n",
        "\n",
        "  *  For the first example the last four tokens belong to a different segment. For the second one it is only the last token.\n",
        "\n",
        "  *  For the first example 4 positions are padded while for the second one it is only one."
      ]
    },
    {
      "cell_type": "code",
      "execution_count": 12,
      "metadata": {
        "id": "4hpNQPvBehMc"
      },
      "outputs": [],
      "source": [
        "### YOUR CODE HERE\n",
        "\n",
        "# bert_output = ...\n",
        "\n",
        "\n",
        "### END YOUR CODE"
      ]
    },
    {
      "cell_type": "markdown",
      "metadata": {
        "id": "XVNsqd6QRepy"
      },
      "source": [
        " **QUESTION:**\n",
        "\n",
        " 1.b How many outputs are there?\n",
        "\n",
        " Enter your code below."
      ]
    },
    {
      "cell_type": "code",
      "execution_count": 13,
      "metadata": {
        "colab": {
          "base_uri": "https://localhost:8080/"
        },
        "id": "qAfOnO9zov-y",
        "outputId": "3f3e7fb1-ed69-4082-ce61-21a3189a16e5"
      },
      "outputs": [],
      "source": [
        "### YOUR CODE HERE\n",
        "\n",
        "#b. -> print it out\n",
        "\n",
        "\n",
        "\n",
        "### END YOUR CODE"
      ]
    },
    {
      "cell_type": "markdown",
      "metadata": {
        "id": "DYM-7tMItaal"
      },
      "source": [
        "**QUESTION:**\n",
        "\n",
        "1.c Which output do we need to use to get token-level embeddings?\n",
        "\n",
        "the first\n",
        "\n",
        "the second\n",
        "\n",
        "Put your answer in the answers file.\n",
        "\n"
      ]
    },
    {
      "cell_type": "markdown",
      "metadata": {
        "id": "7EYXhams6Bs6"
      },
      "source": [
        "**QUESTION:**\n",
        "\n",
        " 1.d In the tokenized input, which input_id number (i.e. the vocabulary id) corresponds to 'bank' in the two sentences? ('bert_tokenizer.tokenize()' may come in handy.. and don't forget the CLS token! )\n",
        "\n",
        "\n",
        "**QUESTION:**\n",
        "\n",
        " 1.e In the array of tokens, which position index number corresponds to 'bank' in the first sentence? ('bert_tokenizer.tokenize()' may come in handy.. and don't forget the CLS token! )"
      ]
    },
    {
      "cell_type": "code",
      "execution_count": 14,
      "metadata": {
        "colab": {
          "base_uri": "https://localhost:8080/"
        },
        "id": "9X-bPMr56Bs6",
        "outputId": "477643af-d150-4ba4-c98d-ddc97e716beb"
      },
      "outputs": [],
      "source": [
        "### YOUR CODE HERE\n",
        "\n",
        "#d/e. -> Look at tokens generated by the bert tokenizer for the first example\n",
        "\n",
        "\n",
        "### END YOUR CODE"
      ]
    },
    {
      "cell_type": "markdown",
      "metadata": {
        "id": "fmC3H1-96Bs6"
      },
      "source": [
        "**QUESTION:**\n",
        "\n",
        "1.f Which array position index number corresponds to 'bank' in the second sentence?"
      ]
    },
    {
      "cell_type": "code",
      "execution_count": 15,
      "metadata": {
        "colab": {
          "base_uri": "https://localhost:8080/"
        },
        "id": "OiJrrKo26Bs6",
        "outputId": "b155f9bd-4684-493a-a9d6-2d871f65f1a7"
      },
      "outputs": [],
      "source": [
        "### YOUR CODE HERE\n",
        "\n",
        "#f. -> Look at tokenization for the second example\n",
        "\n",
        "\n",
        "### END YOUR CODE"
      ]
    },
    {
      "cell_type": "markdown",
      "metadata": {
        "id": "Nd-Q-3MA6Bs6"
      },
      "source": [
        "**QUESTION:**\n",
        "\n",
        " 1.g What is the cosine similarity between the BERT embeddings for the two occurences of 'bank' in the two sentences?"
      ]
    },
    {
      "cell_type": "code",
      "execution_count": 16,
      "metadata": {
        "colab": {
          "base_uri": "https://localhost:8080/"
        },
        "id": "xVIt83S26Bs6",
        "outputId": "cc063032-7b7c-41fa-fb7d-6ca5953b4978"
      },
      "outputs": [],
      "source": [
        "### YOUR CODE HERE\n",
        "\n",
        "#g.  -> get the vectors and calculate cosine similarity between the two 'bank' BERT embedddings\n",
        "\n",
        "\n",
        "\n",
        "\n",
        "### END YOUR CODE"
      ]
    },
    {
      "cell_type": "markdown",
      "metadata": {
        "id": "7a2zCWHP6Bs6"
      },
      "source": [
        "**QUESTION:**\n",
        "\n",
        "1.h How does this relate to the cosine similarity of 'this' (in sentence 1) and the first 'the' (in sentence 2). Compute their cosine similarity.\n"
      ]
    },
    {
      "cell_type": "code",
      "execution_count": 17,
      "metadata": {
        "colab": {
          "base_uri": "https://localhost:8080/"
        },
        "id": "TnEWs6St6Bs6",
        "outputId": "49c06e84-5e5f-476c-e9b3-e99fc5886021"
      },
      "outputs": [],
      "source": [
        "### YOUR CODE HERE\n",
        "\n",
        "#h.  -> get the vectors and calculate cosine similarity\n",
        "\n",
        "\n",
        "### END YOUR CODE"
      ]
    },
    {
      "cell_type": "markdown",
      "metadata": {
        "id": "KBOvsTBwm_Vi"
      },
      "source": [
        "### 2. Testing Different Pre-Trained BERT Models\n",
        "\n",
        "In the live session we discussed classification with the `bert-base-cased` model, using the Huggingface class BertForSequenceClassification, which comes with a new output layer for our task that we need to train on our dataset.\n",
        "\n",
        "We're going to try different pre-trained models now. Like in the lesson 4 notebook, we'll want to fine-tune each model on our IMDB reviews dataset and compare them with a metric like the validation accuracy. We'll use the model class AutoModelForSequenceClassification, which is equivalent to BertForSequenceClassification, but works for other similar architectures too.\n",
        "\n",
        "Let's write the code we'll need as a function that takes the model and tokenizer as arguments, along with the raw train and dev data. The function will need to tokenize the inputs using the provided tokenizer, so that we can repeat the same code for different pre-trained models. Then the function should create the training args and trainer class, and call trainer.train().\n",
        "\n",
        "The other hyperparameters you'll need are provided in the function definition, including batch_size and num_epochs. You should use the default values provided for those. Use the function provided below for compute_metrics.\n",
        "\n",
        "For now, keep all layers of the pre-trained models you load unfrozen."
      ]
    },
    {
      "cell_type": "code",
      "execution_count": 18,
      "metadata": {
        "colab": {
          "base_uri": "https://localhost:8080/",
          "height": 49,
          "referenced_widgets": [
            "32c299c5f75947b1aa72fbd104c864af",
            "a050ccbb2abd4318adae6336cc682167",
            "0412f6c3fb5742a3af053215d626ca8f",
            "c08d5a13760d43af9aaa362811ad26e7",
            "63d30bc6efbd4895bacaf2a74561d9de",
            "f1c31b9085bc4076a83a5e717f681b6c",
            "9c8a028bc2b84bf4b9ec43e5b1a00b9f",
            "24ef535c3f0c4a98a7965e4aa962f8a1",
            "9a318a2f1a2744f6b307adcc09ffab79",
            "3eff496843014d688dfcced40d846737",
            "c051079d1b1f48f5a21a84563e1e8da8"
          ]
        },
        "id": "cTSG8Nuwz2Hm",
        "outputId": "a23efbc1-c528-4ff0-e7eb-4cf5d8bd8767"
      },
      "outputs": [],
      "source": [
        "metric = evaluate.load('accuracy')\n",
        "\n",
        "def compute_metrics(p):\n",
        "    predictions, labels = p\n",
        "    predictions = np.argmax(predictions, axis=1)\n",
        "    return metric.compute(predictions=predictions, references=labels)"
      ]
    },
    {
      "cell_type": "code",
      "execution_count": 19,
      "metadata": {
        "id": "OkSlB7ZzKb7v"
      },
      "outputs": [],
      "source": [
        "def fine_tune_classification_model(classification_model,\n",
        "                                   tokenizer,\n",
        "                                   train_data,\n",
        "                                   dev_data,\n",
        "                                   batch_size = 16,\n",
        "                                   num_epochs = 2):\n",
        "    \"\"\"\n",
        "    Preprocess the data using the given tokenizer (we've give you the code for that part).\n",
        "    Create the training arguments and trainer for the given model and data (write your code for that).\n",
        "    Then train it.\n",
        "    \"\"\"\n",
        "\n",
        "    preprocessed_train_data = train_data.map(preprocess_imdb, batched=True, fn_kwargs={'tokenizer': tokenizer})\n",
        "    preprocessed_dev_data = dev_data.map(preprocess_imdb, batched=True, fn_kwargs={'tokenizer': tokenizer})\n",
        "\n",
        "    ### YOUR CODE HERE\n",
        "\n",
        "    # training_args = ...\n",
        "    # trainer = ...\n",
        "\n",
        "\n",
        "\n",
        "    ### END YOUR CODE\n",
        "\n",
        "    trainer.train()"
      ]
    },
    {
      "cell_type": "markdown",
      "metadata": {
        "id": "KkolanVUpoXR"
      },
      "source": [
        "Let's try BERT-base-case first, the same model that was used in the lesson 4 notebook."
      ]
    },
    {
      "cell_type": "code",
      "execution_count": 20,
      "metadata": {
        "colab": {
          "base_uri": "https://localhost:8080/",
          "height": 258,
          "referenced_widgets": [
            "e434e50c41f24c63880348ea7cc5ab82",
            "d5e89677805840559b06d7d22c479693",
            "328d2c8941bd4a689afb236d179f8d9b",
            "2809d9df8c8a427291e6d2ec100accd4",
            "d3b47ee9afd3407b8466f5952148c342",
            "e94e2ffbf5ec4f8987b12e29c31a7f60",
            "3d58f6a05d3340d58e1860e9cfa5d313",
            "578983a7b23a4ffa910b174606c7468b",
            "68babc50c1864bcaa24fffdcc4ec65d7",
            "4c384eea6b6947ea9c498d41826c6fdb",
            "953c6f1fe0a448189810620a7eaf6d96",
            "91aa8d878cb447e19eda43df895bc7dd",
            "6c8935eb75bd43ec81f8231f75c8d0dd",
            "e4b6f720e7a84a8688a704fd21e69939",
            "d697bde47a3143348cc9a58a275ee8be",
            "7fc9702d29df4fd986c6f64afe2314a9",
            "50b8d2bb4041415ea7cb26dbc0b2c383",
            "9c99cdf11f6d4bc4a5c4d88e28605161",
            "35ce070e56e5425daddd97171b1db68a",
            "639915009dc346d1be13a610e2aeaa46",
            "0ef34d9faa7f43e69ff3d7e36c8ca9e5",
            "29e4a8e7b1a14d3eb3241de9e61e915c"
          ]
        },
        "id": "uC1ovEW5pmGy",
        "outputId": "569e4fe4-e849-45ef-8e16-5be960653b12"
      },
      "outputs": [],
      "source": [
        "\"\"\"\n",
        "Show the output from training BERT-base-cased on the IMDB movie reviews dataset.\n",
        "\"\"\"\n",
        "\n",
        "model_checkpoint_name = \"bert-base-cased\"\n",
        "bert_tokenizer = AutoTokenizer.from_pretrained(model_checkpoint_name)\n",
        "bert_classification_model = AutoModelForSequenceClassification.from_pretrained(model_checkpoint_name)\n",
        "\n",
        "fine_tune_classification_model(bert_classification_model, bert_tokenizer, imdb_train_dataset, imdb_dev_dataset)"
      ]
    },
    {
      "cell_type": "markdown",
      "metadata": {
        "id": "KcK2PyPNoNc2"
      },
      "source": [
        "Often, one of the first choices you have is what pre-trained model you'll want to use. There are quite a few options, especially because other researchers and practitioners fine-tune their own versions of existing models and sometimes make theirs available for others to continue building on.\n",
        "\n",
        "You can search through models available on [Huggingface at this website](https://huggingface.co/models?pipeline_tag=text-classification&sort=trending). Some models were made by Huggingface or other large companies/organizations; other models may have been uploaded by individual users. Notice the search tags on the left, we've already clicked the tag for \"Text Classification\" in the link above. You should see various versions of BERT-style models.\n",
        "\n",
        "For our IMDB classification, we might want to try a model that has been trained on another dataset related to sentiment or emotions. We also want to find models that have a complete model card with documentation about the model architecture and how it was trained, and potentially a link to an associated research paper, and/or a good number of downloads and likes.\n",
        "\n",
        "Take a look at this model: [cardiffnlp/twitter-roberta-base-sentiment](https://huggingface.co/cardiffnlp/twitter-roberta-base-sentiment). It's a RoBERTa model (similar to BERT with slightly different pre-training, often popular for classification tasks), that has already been fine-tuned on the TweetEval benchmark set of tasks for sentiment analysis.\n",
        "\n",
        "The model card indicates that there is an updated version of this model now available. Follow the link to the latest version of the model, and look at that most recent model's card to answer the following questions. Then load that most recent model to train on our task."
      ]
    },
    {
      "cell_type": "markdown",
      "metadata": {
        "id": "m-Exxp4UqAMV"
      },
      "source": [
        "**QUESTION:**\n",
        "\n",
        " 2.a What is the model checkpoint name for the most recent version of this Twitter Roberta-base sentiment analysis model? (Copy and paste the model checkpoint name into the answers file. It should be the full name that you put inside the quotes to load the file below.)\n",
        "\n",
        " **QUESTION:**\n",
        "\n",
        " 2.b Approximately how many tweets was this latest model trained on? (Put the answer in the answers file. You can use the abbreviation for millions like in the model card, e.g. a number like 12M or 85M.)\n",
        "\n",
        " **QUESTION:**\n",
        "\n",
        " 2.c What is the title of the published reference paper for this most recent model? (Copy the full title of the paper and paste it into the answers file.)"
      ]
    },
    {
      "cell_type": "code",
      "execution_count": 21,
      "metadata": {
        "colab": {
          "base_uri": "https://localhost:8080/",
          "height": 539,
          "referenced_widgets": [
            "a8101bc7516c491e82f5475fc4124214",
            "8b25a77f4f454d9eae8f420d60995357",
            "2ecf0c727b694b8a93c6ee4e4b02952f",
            "b5c5313927b446fe9d4bcb39e2580d9c",
            "1997f8237168445eb678d69e4e3c0a15",
            "4923f38b942043b39c649c3dbe376892",
            "f3128ca024e64ba093f49303470048df",
            "cf529f5ed8cf41e7ae144098f8029c1e",
            "15684f72fb3f41f0b4bc6d9a1d627b61",
            "0fe988e3bee84e9195e544cf3e23b59a",
            "4f79bce587e841e2a551702dbb4893a3",
            "a440035f81354cceaec586069d14c751",
            "07e47619409d439198d838325d5c9441",
            "c4a5c948b34549ca91305492e3eed893",
            "6794fa7f17a34451b1547475ac6b44a3",
            "b93d0708f0694f2e8e135ca21d614e3e",
            "0c20dc46f3414db4b76a7632ee87ff78",
            "34c460a70c9c4d06b381c765445104b7",
            "8207007b51fa495daf80316398401930",
            "217d6fccf809460daa1fd85ee41f723c",
            "704086699cad42fe89db584414604425",
            "71ab00a60045408a85e1b05760caef6f",
            "11dda066103d4d428c9baae8415e19b5",
            "63b960e160234b8dbb03fe778202d132",
            "6ab5b546d0b146b58cb8c6ea3ed26f81",
            "2adbc8fabd9f485daa6498ccfb2178d1",
            "8407e0b124414b6da182fd65563192b9",
            "c3b30dac624c4ddb8f4a9d8ce74b4a97",
            "9a5b27a1f85e4229998ee0af66090670",
            "d1c37dccb34448fa95b2ceaf770c1b64",
            "6780b3d1cf2c4b4386322683647f9427",
            "2d05feb3ed6d4775a8a5476eebd692e7",
            "0efba9bbf55b428ebcc93dfff65454c6",
            "33d2b34d0b0e4cf99e8ecd8caa5b0ce8",
            "8ab54511e5c749dc970c15ddebc59252",
            "b2bf5505d20d4c8b87214b4f2248c299",
            "f31604a04bdc4f8883fce7dfc93bd759",
            "fab7f09e9cc341bd9a5223b22a03c5c9",
            "102eb82ff8ef42fd8073f016e3478e12",
            "15eeeeb73118401da55b6db4c62a9930",
            "a8e25590732543a98f9cbacb2524ab53",
            "6a5c29f0aba941bf96d087b83ff1da6e",
            "70b1308247e54a25a2a6975a1892f63f",
            "2ec3a7cb52bb41b3b503110a3df8fe1c",
            "7665121024fc435f9c7d1cf82adaa43c",
            "9dffb89cd0214cb0aedd13e169aebd88",
            "1228ad1f56ca46deae57386e71606355",
            "5bc5f3fadb9c4d479f99f5073154c8a4",
            "a242239a649d445889dde796f1e49849",
            "814faf4402404ce9b35aece735ca7db1",
            "90cdb799256b41748b90347af8785ce7",
            "b737b6e34a94457298527bf6032505c0",
            "494a75e7ca0c47af811fc926c847ed99",
            "3821efc297554b12b93f82d97ef1bdb0",
            "904f3894f6d94d21b5d61a21ff9b25d3",
            "455fdd274c8d438c812972f3d95c48fe",
            "934a02eecf964ed699506be941854c92",
            "c68d5f8c7af74d64b1ee2553ee0629b3",
            "fed4ee015dd1411eb069f3ce79ef7b56",
            "87461e8c067e4930aba502f7f583d428",
            "32de6b24c05a4821b3f592d811b7d8f3",
            "74f3b81f077244ca9e305da0cbc7ca08",
            "96002994da244433999089af3ab3c016",
            "f5ccc9a7f48d43ceb982410d02a667f6",
            "463382b64c264f8d93d49da1d51cf7f3",
            "0639021d33d048fcb8e2fa82a616e429",
            "d5d7c31e8c984fa8b74c65d3742fe71b",
            "90e213661106441085675b1b967767d0",
            "178a050bb8084ba189d9821549d79b1d",
            "c1600058e93846eba94d5b0d9f834121",
            "7ab6fe4b92a74a3f80867600389abd30",
            "2b220f834db14d62851f4a64d5c4e19c",
            "f741e4c3a53d4bfd8743c04c84092a75",
            "5c9a2efdbad645509fa6c6e2e22e71bc",
            "daf17258f28c418ba944d0e321870f35",
            "4d1ec5bd9c0c4813970650aaf138e7e5",
            "2bf08881f6db477595b88e21792b261f",
            "120757b0e10e4daa852150920880a153",
            "a70a70d523f64843b19e40903f0a77f9",
            "554276e142e749848332e79134f981ef",
            "0990639ea6e449838fb4a15c1a478bd9",
            "4d1e85998c6a4bf98879999137d5b116",
            "4ce3438a38f841f49605b7015ff20a31",
            "4dadeb11c315431ca871d47204e8607b",
            "c780b151346b47f2b13db87567d7daee",
            "913ac205b89b4388bff9d8acde1643dc",
            "182445ea1f524c2ab03992337cb63545",
            "f9890e7875914de8822490e362b6eba1"
          ]
        },
        "id": "p9VO4fPfTsQV",
        "outputId": "9cc1f866-fc4b-4614-f86c-c370633438bc"
      },
      "outputs": [],
      "source": [
        "\"\"\"\n",
        "Show the output from training the most recent Twitter RoBERTa sentiment model on the IMDB movie reviews dataset.\n",
        "Insert the model checkpoint name for the latest version of that model below.\n",
        "\"\"\"\n",
        "\n",
        "### YOUR CODE HERE\n",
        "\n",
        "# model_checkpoint_name = ...\n",
        "\n",
        "\n",
        "### END YOUR CODE\n",
        "\n",
        "\n",
        "bert_tokenizer = AutoTokenizer.from_pretrained(model_checkpoint_name)\n",
        "bert_classification_model = AutoModelForSequenceClassification.from_pretrained(model_checkpoint_name)\n",
        "\n",
        "fine_tune_classification_model(bert_classification_model, bert_tokenizer, imdb_train_dataset, imdb_dev_dataset)"
      ]
    },
    {
      "cell_type": "markdown",
      "metadata": {
        "id": "LLjgxylMnC0x"
      },
      "source": [
        "**QUESTION:**\n",
        "\n",
        "2.d What is the final validation accuracy that you observed for the Twitter RoBERTa sentiment-trained model after training for 2 epochs? (Copy and paste the decimal value for the final validation accuracy, e.g. a number like 0.567 or 0.876. Use up to 5 significant digits, though fewer is fine if the output shown in the notebook only has 3 or 4. Put the answer in the answers file; it should match the value shown in your output in this notebook.)\n",
        "\n",
        "**QUESTION:**\n",
        "\n",
        "2.e Did the Twitter RoBERTa sentiment-trained model do better or worse or the same as the BERT-base?\n",
        "\n",
        "\n",
        "**(Answer 2.f below but do NOT enter your sentences in the answers file)**\n",
        "\n",
        "**QUESTION:**\n",
        "\n",
        "2.f Why do you think that happened? (Put your two to three sentence answer in the cell below.)"
      ]
    },
    {
      "cell_type": "markdown",
      "metadata": {
        "id": "NrzZGZyFsz6K"
      },
      "source": [
        "Please answer 2.f in two to three sentences right here:\n",
        "\n",
        "** BEGIN Q 2.f ANSWER HERE **\n",
        "\n",
        "\n",
        "\n",
        "\n",
        "** END Q 2.f ANSWER HERE. **\n"
      ]
    },
    {
      "cell_type": "markdown",
      "metadata": {
        "id": "3cMVEBuxro4j"
      },
      "source": [
        "### 3. Unfreezing Different Pre-Trained Layers\n",
        "\n",
        "In the lesson 4 notebook, we tested freezing most or all of the pre-trained BERT model layers. We used the .named_parameters() method, looking at the specific names of each set of model parameters.\n",
        "\n",
        "As in the lesson notebook, we will always want to make sure we keep the classification layer parameters unfrozen, since those need to be trained for our specific task. We will also keep the pooler layer unfrozen, since it's next closest to the classification layer and was only pre-trained in standard BERT models with the next sentence prediction task.\n",
        "\n",
        "For the remaining layers, what happens if we unfreeze lower transformer blocks and keep higher transformer blocks frozen (the opposite of what we did in the lesson notebook)? What if we instead try unfreezing specific types of layers within each transformer block, e.g. all of the self attention layers, or all of the dense layers?\n",
        "\n",
        "Let's modify our fine-tuning function, to add an argument for the layers that we want to train. We'll make that argument a list of strings, and we'll set the default to just unfreeze the classification layer. You'll need to write the code to compare those strings to the names of the model parameters (after loading the specified model) and freeze all parameters that don't match (as in the lesson 4 notebook)."
      ]
    },
    {
      "cell_type": "code",
      "execution_count": 22,
      "metadata": {
        "colab": {
          "base_uri": "https://localhost:8080/"
        },
        "id": "vNwvUHJvbjFy",
        "outputId": "42f3b522-d8b1-43e5-c818-3e66a2282a26"
      },
      "outputs": [],
      "source": [
        "# Refresh your memory on what the parameter names look like\n",
        "for name, param in bert_classification_model.named_parameters():\n",
        "    print(name)"
      ]
    },
    {
      "cell_type": "code",
      "execution_count": 23,
      "metadata": {
        "id": "SRlDR1jaaBEj"
      },
      "outputs": [],
      "source": [
        "def fine_tune_classif_model_freeze_layers(classification_model,\n",
        "                                          tokenizer,\n",
        "                                          train_data,\n",
        "                                          dev_data,\n",
        "                                          layers_to_train = [\"classifier.\"],\n",
        "                                          max_sequence_length=MAX_SEQUENCE_LENGTH,\n",
        "                                          batch_size = 16,\n",
        "                                          num_epochs = 2):\n",
        "    \"\"\"\n",
        "    Freeze any parameters inside the given model that have a name containing one of the\n",
        "    strings in the \"layers_to_freeze\" list.\n",
        "    Then specify the training arguments and trainer for the given model and data.\n",
        "    Then train it.\n",
        "    \"\"\"\n",
        "\n",
        "    preprocessed_train_data = train_data.map(preprocess_imdb, batched=True, fn_kwargs={'tokenizer': tokenizer})\n",
        "    preprocessed_dev_data = dev_data.map(preprocess_imdb, batched=True, fn_kwargs={'tokenizer': tokenizer})\n",
        "\n",
        "    ### YOUR CODE HERE\n",
        "\n",
        "\n",
        "\n",
        "\n",
        "    ### END YOUR CODE\n",
        "\n",
        "    trainer.train()"
      ]
    },
    {
      "cell_type": "markdown",
      "metadata": {
        "id": "xcLrgI49tBde"
      },
      "source": [
        "We'll go back to using bert-base-cased for this part. First, try freezing the parameters in transformer layers 1-11 (including all parameters with \"layer.#\" in the name). That means you're leaving unfrozen the initial embedding layers, the first transformer layer (numbered 0), and the classification layer.\n",
        "\n",
        "Unfreezing the bottom transformer layer(s) rather than the top one(s) is uncommon, but it's always good to try to understand why. Since we're learning, we'll try doing it this way and see what happens. We've given you the code for this exercise, so that the way to specify layers_to_freeze is clear."
      ]
    },
    {
      "cell_type": "code",
      "execution_count": 24,
      "metadata": {
        "colab": {
          "base_uri": "https://localhost:8080/",
          "height": 226,
          "referenced_widgets": [
            "1748cdd2bddf45149b504c66e9c0f184",
            "085dc091ff2544328fab16f1ab532c57",
            "526d6a5873414da79040b207b35e4ef4",
            "3849da440f6e4ed096a27d7fd0b24e90",
            "97bd7d3cfc324eaeac50da91799378ef",
            "913f81e3bb484198a0b60da35bae83f2",
            "32279880aa5847bf8edd6a1094fccdef",
            "ed77b188071647fd83c8e68af57577d0",
            "42ba24bd0cb04ea2871120828430724c",
            "df1461a7265947dab3e65d4d33cab4be",
            "96b774f03c944d7098fa3db02c360b10"
          ]
        },
        "id": "AtS29uRbk4Os",
        "outputId": "121da7a8-9cf5-49a9-999d-5083e5056969"
      },
      "outputs": [],
      "source": [
        "\"\"\"\n",
        "Show the output from training a BERT-base-cased classification model, when unfreezing\n",
        "only the parameters in the embedding layers, first transformer layer (layer 0), and classifier layer.\n",
        "\"\"\"\n",
        "\n",
        "model_checkpoint_name = \"bert-base-cased\"\n",
        "\n",
        "bert_tokenizer = AutoTokenizer.from_pretrained(model_checkpoint_name)\n",
        "bert_classification_model = AutoModelForSequenceClassification.from_pretrained(model_checkpoint_name)\n",
        "\n",
        "layers_to_train = [\"embeddings.\", \"layer.0.\", \"classifier.\"]\n",
        "\n",
        "fine_tune_classif_model_freeze_layers(\n",
        "    bert_classification_model,\n",
        "    bert_tokenizer,\n",
        "    imdb_train_dataset,\n",
        "    imdb_dev_dataset,\n",
        "    layers_to_train\n",
        ")"
      ]
    },
    {
      "cell_type": "markdown",
      "metadata": {
        "id": "NiWb3y9anNlG"
      },
      "source": [
        " **QUESTION:**\n",
        "\n",
        "3.a What is the final validation accuracy that you observed for this lowest level unfrozen version of the BERT classification model after training for 2 epochs? (Copy and paste the decimal value into the answers file, as instructed in 2.b)\n",
        "\n",
        "\n"
      ]
    },
    {
      "cell_type": "markdown",
      "metadata": {
        "id": "9CgRacR2cyku"
      },
      "source": [
        "Now try two more versions, this time choosing which layers to train yourself. Instead of focusing on the number of the transformer block (layer.#), focus on the type of layer within each block (the stuff that comes after layer.# in the name).\n",
        "\n",
        "Keep the pooler and classification layers unfrozen in all model versions. Your options to also train include the initial embedding layers and the different components within the transformer blocks (e.g. self attention matrices, dense layers, layer norms).\n",
        "\n",
        "Try to find one combination that does better than the version you just ran above (higher validation accuracy after 2 epochs), without much more overfitting (training_loss / eval_loss > 0.7). Also try to find one version that overfits a lot more after 2 epochs (training_loss / eval_loss < 0.5)."
      ]
    },
    {
      "cell_type": "code",
      "execution_count": 25,
      "metadata": {
        "colab": {
          "base_uri": "https://localhost:8080/",
          "height": 194
        },
        "id": "UC5rFV2ocyqd",
        "outputId": "3e6ff016-ecee-40f1-ecb2-644be8008d81"
      },
      "outputs": [],
      "source": [
        "\"\"\"\n",
        "Show the output from training a particular model on the IMDB movie reviews dataset.\n",
        "Choose layers to train that lead the model to perform better than the one in question 3.a, without overfitting much more.\n",
        "\"\"\"\n",
        "\n",
        "model_checkpoint_name = \"bert-base-cased\"\n",
        "\n",
        "bert_tokenizer = AutoTokenizer.from_pretrained(model_checkpoint_name)\n",
        "bert_classification_model = AutoModelForSequenceClassification.from_pretrained(model_checkpoint_name)\n",
        "\n",
        "### YOUR CODE HERE\n",
        "\n",
        "# layers_to_train = [...]    #ANY STRINGS THAT MATCH SOME LAYERS ARE OK\n",
        "\n",
        "\n",
        "### END YOUR CODE\n",
        "\n",
        "\n",
        "fine_tune_classif_model_freeze_layers(\n",
        "    bert_classification_model,\n",
        "    bert_tokenizer,\n",
        "    imdb_train_dataset,\n",
        "    imdb_dev_dataset,\n",
        "    layers_to_train\n",
        ")"
      ]
    },
    {
      "cell_type": "markdown",
      "metadata": {
        "id": "E0F7EnTzcy1r"
      },
      "source": [
        " **QUESTION:**\n",
        "\n",
        "3.b What is the final training loss that you observed for this better performing version of the BERT classification model after training for 2 epochs? (Copy and paste the decimal value into the answers file, as instructed in 2.b)\n",
        "\n",
        "3.c What is the final validation loss that you observed for this better performing version of the BERT classification model after training for 2 epochs? (Copy and paste the decimal value into the answers file, as instructed in 2.b)\n",
        "\n",
        "3.d What is the ratio of your final training loss/final validation loss? For this better version the ratio must be greater than 0.7.\n",
        "\n",
        "3.e What is the final validation accuracy that you observed for this better performing version of the BERT classification model after training for 2 epochs? (Copy and paste the decimal value into the answers file, as instructed in 2.b)"
      ]
    },
    {
      "cell_type": "code",
      "execution_count": 26,
      "metadata": {
        "colab": {
          "base_uri": "https://localhost:8080/",
          "height": 194
        },
        "id": "4GR6YpCZesdi",
        "outputId": "1ff56782-cce7-4ed6-9137-7abdbb62e1e7"
      },
      "outputs": [],
      "source": [
        "\"\"\"\n",
        "Show the output from training a particular model on the IMDB movie reviews dataset.\n",
        "Choose layers to train that lead the model to overfit.\n",
        "\"\"\"\n",
        "\n",
        "model_checkpoint_name = \"bert-base-cased\"\n",
        "\n",
        "bert_tokenizer = AutoTokenizer.from_pretrained(model_checkpoint_name)\n",
        "bert_classification_model = AutoModelForSequenceClassification.from_pretrained(model_checkpoint_name)\n",
        "\n",
        "### YOUR CODE HERE\n",
        "\n",
        "# layers_to_train = [...]\n",
        "\n",
        "\n",
        "### END YOUR CODE\n",
        "\n",
        "\n",
        "fine_tune_classif_model_freeze_layers(\n",
        "    bert_classification_model,\n",
        "    bert_tokenizer,\n",
        "    imdb_train_dataset,\n",
        "    imdb_dev_dataset,\n",
        "    layers_to_train\n",
        ")"
      ]
    },
    {
      "cell_type": "markdown",
      "metadata": {
        "id": "pkZ3k_s3gEAa"
      },
      "source": [
        " **QUESTION:**\n",
        "\n",
        "3.f What is the final training loss that you observed for this overfitting version of the BERT classification model after training for 2 epochs? (Copy and paste the decimal value into the answers file, as instructed in 2.b)\n",
        "\n",
        "3.g What is the final validation loss that you observed for this overfitting version of the BERT classification model after training for 2 epochs? (Copy and paste the decimal value into the answers file, as instructed in 2.b)\n",
        "\n",
        "3.h What is the ratio of your final training loss/final validation loss? For this overfitting version the ratio must be less than 0.5.\n",
        "\n",
        "3.i What is the final validation accuracy that you observed for this overfitting version of the BERT classification model after training for 2 epochs? (Copy and paste the decimal value into the answers file, as instructed in 2.b)"
      ]
    },
    {
      "cell_type": "markdown",
      "metadata": {
        "id": "_Y3e9X8bvhZf"
      },
      "source": [
        "## Congratulations... You are done!"
      ]
    }
  ],
  "metadata": {
    "accelerator": "GPU",
    "colab": {
      "gpuType": "T4",
      "provenance": []
    },
    "kernelspec": {
      "display_name": "Python 3 (ipykernel)",
      "language": "python",
      "name": "python3"
    },
    "language_info": {
      "codemirror_mode": {
        "name": "ipython",
        "version": 3
      },
      "file_extension": ".py",
      "mimetype": "text/x-python",
      "name": "python",
      "nbconvert_exporter": "python",
      "pygments_lexer": "ipython3",
      "version": "3.11.5"
    }
  },
  "nbformat": 4,
  "nbformat_minor": 1
}
