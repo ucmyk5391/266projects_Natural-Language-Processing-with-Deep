{
  "cells": [
    {
      "cell_type": "markdown",
      "metadata": {
        "id": "d3FHyR2vMlnM"
      },
      "source": [
        "# Assignment 2: Text Classification with Convolutional Neural Networks\n",
        "\n",
        "**Description:** This assignment covers various neural network architectures and components, largely used in the context of classification. You will compare Deep Averaging Networks, Convolutional Neural Networks, and BERT-based models. In part two, you should be able to develop an intuition for:\n",
        "\n",
        "\n",
        "*   The effects of fine-tuning word vectors and over fitting the model\n",
        "*   How various hyperparameters can help or hurt overfitting\n",
        "\n",
        "\n",
        "\n",
        "\n",
        "The assignment notebook closely follows the lesson notebooks. We will use the IMDB dataset and will leverage some of the models, or part of the code, for our current investigation.\n",
        "\n",
        "This notebook uses the Keras 3 functional API.  Make sure the correct versions get loaded.\n",
        "\n",
        "\n"
      ]
    },
    {
      "cell_type": "markdown",
      "metadata": {
        "id": "6OdhZqv_c2rk"
      },
      "source": [
        "## IMPORTANT NOTE:\n",
        "Because of the environment built in to Colab, the software we're importing causes an error to be thrown the first time you run the cells in the Setup section.  As soon as you hit the error, you have to go to the Runtime menu and select 'Restart Session'.  Once the session is restarted you must rerun the cells in Setup and you will not run in to the error."
      ]
    },
    {
      "cell_type": "markdown",
      "metadata": {
        "id": "CbGE4KImdDAp"
      },
      "source": [
        "<a id = 'returnToTop'></a>\n",
        "\n",
        "## Notebook Contents\n",
        "  * 1. [Setup](#setup)\n",
        "  * 2. [Creation of the Dataset](#creationOfDataset)  \n",
        "  * 3. [Modeling](#modeling)\n",
        "    * 3.1 [Fix Convolutional Neural Net (CNN) Over Fitting](#modelCNN)\n",
        "\n",
        "\n",
        "  \n",
        "  \n",
        "  [![Open In Colab](https://colab.research.google.com/assets/colab-badge.svg)](https://colab.research.google.com/github/datasci-w266/2025-summer-main/blob/master/assignment/a2/Text_classification_CNN.ipynb)"
      ]
    },
    {
      "cell_type": "markdown",
      "metadata": {
        "id": "FEK-bUc2MlnO"
      },
      "source": [
        "[Return to Top](#returnToTop)  \n",
        "<a id = 'setup'></a>\n",
        "## 1. Setup\n",
        "\n",
        "This notebook requires the tensorflow dataset and other prerequisites that you must download and then store locally in your Colab environment.\n"
      ]
    },
    {
      "cell_type": "code",
      "execution_count": 1,
      "metadata": {
        "id": "N4gdz81fMlnP"
      },
      "outputs": [],
      "source": [
        "!pip install gensim --quiet"
      ]
    },
    {
      "cell_type": "code",
      "execution_count": 2,
      "metadata": {
        "id": "dOSnMqiYMlnP"
      },
      "outputs": [],
      "source": [
        "!pip install tensorflow-datasets --quiet"
      ]
    },
    {
      "cell_type": "code",
      "execution_count": 3,
      "metadata": {
        "id": "pu8MIPByMlnP"
      },
      "outputs": [],
      "source": [
        "!pip install -U tensorflow-text --quiet"
      ]
    },
    {
      "cell_type": "code",
      "execution_count": 4,
      "metadata": {
        "id": "SbN0SnpZMlnQ"
      },
      "outputs": [],
      "source": [
        "!pip install pydot --quiet"
      ]
    },
    {
      "cell_type": "markdown",
      "metadata": {
        "id": "c3fGCI9BMlnQ"
      },
      "source": [
        "Ready to do the imports."
      ]
    },
    {
      "cell_type": "code",
      "execution_count": 5,
      "metadata": {
        "id": "ju4oXKFYMlnQ"
      },
      "outputs": [],
      "source": [
        "import os\n",
        "\n",
        "os.environ[\"KERAS_BACKEND\"] = \"tensorflow\"\n",
        "\n",
        "\n",
        "import numpy as np\n",
        "import tensorflow as tf\n",
        "import keras\n",
        "\n",
        "from keras.layers import Embedding, Input, Dense, Lambda\n",
        "from keras.models import Model\n",
        "import tensorflow_datasets as tfds\n",
        "import tensorflow_text as tf_text\n",
        "\n",
        "import sklearn as sk\n",
        "import os\n",
        "import nltk\n",
        "from nltk.data import find\n",
        "\n",
        "import matplotlib.pyplot as plt\n",
        "\n",
        "import re\n",
        "\n",
        "\n",
        "import gensim\n",
        "from gensim.models import Word2Vec\n",
        "from gensim.models import KeyedVectors\n",
        "from gensim.test.utils import datapath"
      ]
    },
    {
      "cell_type": "markdown",
      "metadata": {
        "id": "FuoGw0MdMlnR"
      },
      "source": [
        "Below is a helper function to plot histories."
      ]
    },
    {
      "cell_type": "code",
      "execution_count": 6,
      "metadata": {
        "id": "qvJ4iSOfNKmE"
      },
      "outputs": [],
      "source": [
        "# 4-window plot of loss and accuracy for two models, for comparison\n",
        "\n",
        "def make_plot(axs,\n",
        "              model_history1,\n",
        "              model_history2,\n",
        "              model_1_name='model 1',\n",
        "              model_2_name='model 2',\n",
        "              ):\n",
        "    box = dict(facecolor='yellow', pad=5, alpha=0.2)\n",
        "\n",
        "    for i, metric in enumerate(['loss', 'accuracy']):\n",
        "        y_lim_lower1 = np.min(model_history1.history[metric])\n",
        "        y_lim_lower2 = np.min(model_history2.history[metric])\n",
        "        y_lim_lower = min(y_lim_lower1, y_lim_lower2) * 0.9\n",
        "\n",
        "        y_lim_upper1 = np.max(model_history1.history[metric])\n",
        "        y_lim_upper2 = np.max(model_history2.history[metric])\n",
        "        y_lim_upper = max(y_lim_upper1, y_lim_upper2) * 1.1\n",
        "\n",
        "        for j, model_history in enumerate([model_history1, model_history2]):\n",
        "            model_name = [model_1_name, model_2_name][j]\n",
        "            ax1 = axs[i, j]\n",
        "            ax1.plot(model_history.history[metric])\n",
        "            ax1.plot(model_history.history['val_%s' % metric])\n",
        "            ax1.set_title('%s - %s' % (metric, model_name))\n",
        "            ax1.set_ylabel(metric, bbox=box)\n",
        "            ax1.set_ylim(y_lim_lower, y_lim_upper)"
      ]
    },
    {
      "cell_type": "markdown",
      "metadata": {
        "id": "OXGeoMS-MlnS"
      },
      "source": [
        "Next, we get the word2vec model from nltk."
      ]
    },
    {
      "cell_type": "code",
      "execution_count": 7,
      "metadata": {
        "colab": {
          "base_uri": "https://localhost:8080/"
        },
        "id": "h5wOh6KbMlnS",
        "outputId": "6f630be0-2e1f-486d-9d91-4d62161aac0a"
      },
      "outputs": [],
      "source": [
        "nltk.download('word2vec_sample')"
      ]
    },
    {
      "cell_type": "code",
      "execution_count": 8,
      "metadata": {
        "id": "9VySoBJYMlnS"
      },
      "outputs": [],
      "source": [
        "word2vec_sample = str(find('models/word2vec_sample/pruned.word2vec.txt'))"
      ]
    },
    {
      "cell_type": "code",
      "execution_count": 9,
      "metadata": {
        "id": "ZvvhhTYgMlnS"
      },
      "outputs": [],
      "source": [
        "vec_model = KeyedVectors.load_word2vec_format(datapath(word2vec_sample), binary=False)"
      ]
    },
    {
      "cell_type": "markdown",
      "metadata": {
        "id": "a--OJlw_MlnT"
      },
      "source": [
        "We can now build the embedding matrix and a vocabulary dictionary:"
      ]
    },
    {
      "cell_type": "code",
      "execution_count": 10,
      "metadata": {
        "id": "DvrOdsOcMlnT"
      },
      "outputs": [],
      "source": [
        "EMBEDDING_DIM = len(vec_model['university'])      # we know... it's 300\n",
        "\n",
        "# initialize embedding matrix and word-to-id map:\n",
        "embedding_matrix = np.zeros((len(vec_model) + 1, EMBEDDING_DIM))\n",
        "vocab_dict = {}\n",
        "\n",
        "# build the embedding matrix and the word-to-id map:\n",
        "for i, word in enumerate(vec_model.index_to_key):\n",
        "    embedding_vector = vec_model[word]\n",
        "\n",
        "    if embedding_vector is not None:\n",
        "        # words not found in embedding index will be all-zeros.\n",
        "        embedding_matrix[i] = embedding_vector\n",
        "        vocab_dict[word] = i\n",
        "\n",
        "# we can use the last index at the end of the vocab for unknown tokens\n",
        "vocab_dict['[UNK]'] = len(vocab_dict)"
      ]
    },
    {
      "cell_type": "code",
      "execution_count": 11,
      "metadata": {
        "colab": {
          "base_uri": "https://localhost:8080/"
        },
        "id": "19YExA5rMlnT",
        "outputId": "4e573390-c3ff-4d8c-f7ad-5c9f431e17b7"
      },
      "outputs": [],
      "source": [
        "embedding_matrix.shape"
      ]
    },
    {
      "cell_type": "markdown",
      "metadata": {
        "id": "7Sc3vGORMlnT"
      },
      "source": [
        "[Return to Top](#returnToTop)  \n",
        "<a id = 'creationOfDataset'></a>\n",
        "## 2. Creation of the Dataset\n",
        "\n",
        "### 2.1 Data Acquisition\n",
        "\n",
        "We will use the IMDB dataset delivered as part of the tensorflow-datasets library, and split into training and test sets. For expedience, we will limit ourselves in terms of train and test examples."
      ]
    },
    {
      "cell_type": "code",
      "execution_count": 12,
      "metadata": {
        "colab": {
          "base_uri": "https://localhost:8080/",
          "height": 155,
          "referenced_widgets": [
            "654191a4928a44a38a02ed1f64cb4ea0",
            "ab04fa2ca56e4c60b1f39fe710e33735",
            "37d57f4332694694af0a6388315534e4",
            "f5cc5f29f5b14e31976cb8f59421335d",
            "608caa2e914248d7a185ca0c7dc8b5d3",
            "9a9b232d9d9849c2b51ecd1a62c81db4",
            "249051ff30794bbdb084d7496a96b341",
            "c93c681bc2a347ea9b91cbf106fde0d5",
            "3c0457c738834aac88cf3dd4acaff1cd",
            "436f9ce692d7458493e9da02e8f85dce",
            "0c2c66b0982c465eb233519e17630461",
            "9ee75889ff794d098da2699560ac90f5",
            "615880b2a76444ae80a1d9becaf28bf3",
            "8738ef7efbbc43d8ac95112be4ba8963",
            "28e4122c95af4d8c81025c2debccf9df",
            "e76dc353667941e9b3718f686d569639",
            "cb50e4986b16467f934f9433e58793c0",
            "30a48f2c32eb446fb6277dcdc6fceb48",
            "a6bb29356a984ff689cda40d744896e3",
            "4b36ad93a66a4520a35a30a1148b71f5",
            "d27ded73045c49e18b5d11a497456a5c",
            "68d7a612a619453386245bffc8932997",
            "bf9f23d2a9764ef99404855dced1cdb7",
            "6ea3db06faf148bfb28ef758a74dfe9e",
            "93dc49e196e948bbb6591d4af2530760",
            "dd6f6291ae5e4429987b8272fecc65f4",
            "afbbfa05c712472a92126a6051715d2f",
            "dda47db0b9304cae84dac47cde58fe1e",
            "ee66199c73fd4e3aada8fd2d5baf46a7",
            "ed6a5fec645c483fac706b89f37537f4",
            "0d4aeb9df5be458bb9256419a90c9fa6",
            "a59531af64d34256a6da19039b816426",
            "ab6d451961004c878568138bedb65b2a",
            "822779969f774606befc6642c8479813",
            "0579113f332d49b38d7a59f05363ebe9",
            "7e8ccfefedbf405690c62da803eb9a74",
            "c4051bd41ba34a4b965baf9b6b6ac18b",
            "11e536ef921940b7875cbea611b26818",
            "ba8ae8dd058a40b288c9e53bdcbdb5d9",
            "4af5e1722d6c4723be64d20df5ca8fee",
            "2ae9413a30ab485bb1287e746f049502",
            "68ee807d4cc24c788fd632bb922dd05c",
            "8281c552060b49c69bd9dc5aa857e23a",
            "eb11b37d2ee24dc8bfdab32cdd40424a",
            "7cf8f8b63b494b3c88d189055638e757",
            "2c2ba1556c464288afdbeb2b4754595c",
            "5dd9903b3ab74b4199834182de95c59e",
            "e8fa3dd0d7cc4e3bb3a4fb11a0d6f321",
            "e397b200ab36490da8166d080cd5ac45",
            "ee900a6f7a03413bbc50c6eb6c4712a8",
            "07675532d58c4b31a4ee1ec4f8ee099e",
            "553a39ec717d47d7aeaadfabf930b56b",
            "f41db73e5ce149d4b27628f5697a89b2",
            "85dd7bb0da7a4dc3a8546e46c3ba7141",
            "f1cd435e0b244fd3abf55c221d4b5960",
            "f117b7b095ff4370b84be3fd68af1ab0",
            "834ee0f3ce9f41c5a88d213d215e22ea",
            "d9125bde74614a1ebdf3e749f5fc9045",
            "2b612f8452cd4e6784de8c8a4ccdfc61",
            "74787742eb2f431ea7f0357e70be3c6c",
            "61ad1916642b401d98b8072e1a490821",
            "e0740900a5d34052b25129ba5be333e0",
            "bb83d133000e4d7aa6fd0aed91d56e02",
            "bc55d399cb2546fcb07f5c49122f580b",
            "e38d9a8853cf4ebe8fa4569edb1e8020",
            "2b673a86683f4302b51e4701a127a6c7",
            "855ad761cc14462ca48712c3c8ad1919",
            "7db8097cd01e42089b5d8f5918415f06",
            "29d0c945292946d18de2079d18e9f785",
            "653e400af7824fb8a3166f2cd26e228c",
            "62d00d16dd24434996f59763a5e47d98",
            "7d1d0a6b59904fdea799ce0077aa6b85",
            "7ac405aca62e48019d486034de9c8806",
            "58487f5a31d246e98c67625693454df2",
            "247fa44207e6472281bedf8c245e19a6",
            "9047ef2e690c42b18d6b5bfd2ee08395",
            "9158ce71ecc3461c827e0d1438981cd2",
            "66d20dd00ddd47b282fd9039de643abf",
            "a521ec6cf38e4e7991e3cd6bea5cb6a0",
            "71a8aca3d8694a08b8653c4aca4177a2",
            "d643797dae944598987017d4e74a8a9d",
            "c1f8e81002a84128a50e34bd78100987",
            "6d97d1b3d6194c868f91bfbc89564ae7",
            "19a3f2e7ad7f433fba9fd579378a4394",
            "309abe18a944492da774eb7b91023c9c",
            "3030ca43f84a4795901a7282da3af1cb",
            "a5e5c78c19c04177b17fb5938140f8e8",
            "a4024151f1294527b6c913a7f2fad9a6",
            "8356e7dd56654ac38ad5299d572a85f8",
            "5dcf254abae14a17ae5bd6d9d370265d",
            "1d485cd86adf479e9c2810208727e0e5",
            "f90f273eab4d475ca960493676594b9c",
            "270645bcd4ad4bd3b80ff025e755037c",
            "035f92679f194724ad227b3e7e761df1",
            "330a8b4681424629898078a2ed623eec",
            "56b2a2524b78493ba662c6c979b66341",
            "973766af06e44b2a8ffebe5fd71c7bea",
            "373cbf70aecc46f78a14010f50fbc633",
            "60447cf1ebe24b8f9d0c72a8608fcc73"
          ]
        },
        "id": "_a5rAWnuMlnT",
        "outputId": "9cd870e0-05c4-49f2-e2a1-88add0047f32"
      },
      "outputs": [],
      "source": [
        "train_data, test_data = tfds.load(\n",
        "    name=\"imdb_reviews\",\n",
        "    split=('train[:80%]', 'test[80%:]'),\n",
        "    as_supervised=True)"
      ]
    },
    {
      "cell_type": "code",
      "execution_count": 13,
      "metadata": {
        "id": "2rwgO27KMlnT"
      },
      "outputs": [],
      "source": [
        "train_examples, train_labels = next(iter(train_data.batch(20000)))\n",
        "test_examples, test_labels = next(iter(test_data.batch(5000)))"
      ]
    },
    {
      "cell_type": "code",
      "execution_count": 14,
      "metadata": {
        "colab": {
          "base_uri": "https://localhost:8080/"
        },
        "id": "U8Rz5vdRMlnT",
        "outputId": "575d9f2d-73a8-488f-ef51-971b34ea5910"
      },
      "outputs": [],
      "source": [
        "train_examples[:4]"
      ]
    },
    {
      "cell_type": "code",
      "execution_count": 15,
      "metadata": {
        "colab": {
          "base_uri": "https://localhost:8080/"
        },
        "id": "d9sE7RYoMlnT",
        "outputId": "6da6f24a-2b43-4109-9cad-39ce850152f2"
      },
      "outputs": [],
      "source": [
        "train_labels[:4]"
      ]
    },
    {
      "cell_type": "markdown",
      "metadata": {
        "id": "pkasJbOpMlnU"
      },
      "source": [
        "Next, we tokenize the data:"
      ]
    },
    {
      "cell_type": "code",
      "execution_count": 16,
      "metadata": {
        "id": "AsJVAaCXMlnU"
      },
      "outputs": [],
      "source": [
        "tokenizer = tf_text.WhitespaceTokenizer()\n",
        "train_tokens = tokenizer.tokenize(train_examples)\n",
        "test_tokens = tokenizer.tokenize(test_examples)"
      ]
    },
    {
      "cell_type": "markdown",
      "metadata": {
        "id": "_8fiq7WVMlnU"
      },
      "source": [
        "Does this look right?"
      ]
    },
    {
      "cell_type": "code",
      "execution_count": 17,
      "metadata": {
        "colab": {
          "base_uri": "https://localhost:8080/"
        },
        "id": "XfWbd8UPMlnU",
        "outputId": "a4e8c911-38b4-4a25-aa59-a6f30db08ce8"
      },
      "outputs": [],
      "source": [
        "train_tokens[0]"
      ]
    },
    {
      "cell_type": "markdown",
      "metadata": {
        "id": "9qvhRJ2HMlnU"
      },
      "source": [
        "Yup... looks right. Of course we will need to take care of the encoding later."
      ]
    },
    {
      "cell_type": "markdown",
      "metadata": {
        "id": "bY4nDQaoMlnU"
      },
      "source": [
        "### 2.2 Data Preparation\n",
        "\n",
        "For the models we will use, we need to define a maximum sequence length (max number of tokens per movie review that we'll feed into our model). We'll cut off any tokens longer than that, and we'll pad shorter movie reviews with zeros at the end."
      ]
    },
    {
      "cell_type": "code",
      "execution_count": 18,
      "metadata": {
        "id": "CmHtHIw-MlnU"
      },
      "outputs": [],
      "source": [
        "MAX_SEQUENCE_LENGTH = 128"
      ]
    },
    {
      "cell_type": "markdown",
      "metadata": {
        "id": "bPJ6awp2MlnU"
      },
      "source": [
        "Next, we define a simple function that converts the tokens of each movie review into their word2vec vocabulary index values.   "
      ]
    },
    {
      "cell_type": "code",
      "execution_count": 19,
      "metadata": {
        "id": "O2wWKarvMlnU"
      },
      "outputs": [],
      "source": [
        "def docs_to_vocab_ids(tokenized_texts_list):\n",
        "    \"\"\"\n",
        "    converting a list of strings to a list of lists of word ids\n",
        "    \"\"\"\n",
        "    texts_vocab_ids = []\n",
        "    for i, token_list in enumerate(tokenized_texts_list):\n",
        "\n",
        "        # Get the vocab id for each token in this doc ([UNK] if not in vocab)\n",
        "        vocab_ids = []\n",
        "        for token in list(token_list.numpy()):\n",
        "            decoded = token.decode('utf-8', errors='ignore')\n",
        "            if decoded in vocab_dict:\n",
        "                vocab_ids.append(vocab_dict[decoded])\n",
        "            else:\n",
        "                vocab_ids.append(vocab_dict['[UNK]'])\n",
        "\n",
        "        # Truncate text to max length, add padding up to max length\n",
        "        vocab_ids = vocab_ids[:MAX_SEQUENCE_LENGTH]\n",
        "        n_padding = (MAX_SEQUENCE_LENGTH - len(vocab_ids))\n",
        "        # For simplicity in this model, we'll just pad with uknown tokens\n",
        "        vocab_ids += [vocab_dict['[UNK]']] * n_padding\n",
        "\n",
        "        # Add this example to the list of converted docs\n",
        "        texts_vocab_ids.append(vocab_ids)\n",
        "\n",
        "        if i % 5000 == 0:\n",
        "            print('Examples processed: ', i)\n",
        "\n",
        "    print('Total examples: ', i)\n",
        "\n",
        "    return np.array(texts_vocab_ids)"
      ]
    },
    {
      "cell_type": "markdown",
      "metadata": {
        "id": "Tpt4_70BMlnU"
      },
      "source": [
        "Now we can create training and test data that can be fed into the models of interest."
      ]
    },
    {
      "cell_type": "code",
      "execution_count": 20,
      "metadata": {
        "colab": {
          "base_uri": "https://localhost:8080/"
        },
        "id": "J9m_pOqVMlnU",
        "outputId": "1bddd005-fa18-48f2-ea47-4418adf213ea"
      },
      "outputs": [],
      "source": [
        "train_input = docs_to_vocab_ids(train_tokens)\n",
        "test_input = docs_to_vocab_ids(test_tokens)\n",
        "\n",
        "train_labels = np.array(train_labels)\n",
        "test_labels = np.array(test_labels)"
      ]
    },
    {
      "cell_type": "markdown",
      "metadata": {
        "id": "2ycaqQNyMlnU"
      },
      "source": [
        "Let's convince ourselves that the data looks correct.  We expect the train data to be an array of integer ids and the labels to be an array of zeroes and ones (since we are learning a binary classifier)."
      ]
    },
    {
      "cell_type": "code",
      "execution_count": 21,
      "metadata": {
        "colab": {
          "base_uri": "https://localhost:8080/"
        },
        "id": "NOY1newUMlnU",
        "outputId": "dc83c351-91b1-419e-d643-a181a45568b1"
      },
      "outputs": [],
      "source": [
        "train_input[:2]"
      ]
    },
    {
      "cell_type": "code",
      "execution_count": 22,
      "metadata": {
        "colab": {
          "base_uri": "https://localhost:8080/"
        },
        "id": "WcfkqFlvMlnU",
        "outputId": "bb1e68fe-4d8c-45f2-f0fb-4f5e979f2fab"
      },
      "outputs": [],
      "source": [
        "train_labels[:4]"
      ]
    },
    {
      "cell_type": "markdown",
      "metadata": {
        "id": "ePxwJP48MlnU"
      },
      "source": [
        "[Return to Top](#returnToTop)  \n",
        "<a id = 'modeling'></a>\n",
        "## 3. Modeling\n",
        "\n"
      ]
    },
    {
      "cell_type": "markdown",
      "metadata": {
        "id": "Cw9-emMXMlnW"
      },
      "source": [
        "\n",
        "<a id = 'modelCNN'></a>\n",
        "### 3.1 CNN Model\n",
        "\n",
        "Next let's build a CNN model. We'll also wrap the model building code in a function that takes some hyperparameters, so that we can adjust things like number of filters and filter sizes later."
      ]
    },
    {
      "cell_type": "code",
      "execution_count": 23,
      "metadata": {
        "id": "NhTOlX25MlnW"
      },
      "outputs": [],
      "source": [
        "def build_cnn_model(num_filters, kernel_sizes, dense_layer_dims, dropout_rate, embeddings_trainable=False):\n",
        "    cnn_input_layer = keras.layers.Input(shape=(MAX_SEQUENCE_LENGTH,), dtype='int64')\n",
        "    cnn_embedding_layer = Embedding(embedding_matrix.shape[0],\n",
        "                                    embedding_matrix.shape[1],\n",
        "                                    embeddings_initializer=keras.initializers.Constant(embedding_matrix),\n",
        "                                    input_length=MAX_SEQUENCE_LENGTH,\n",
        "                                    trainable=embeddings_trainable)\n",
        "    cnn_embeddings = cnn_embedding_layer(cnn_input_layer)\n",
        "\n",
        "    conv_layers_for_all_kernel_sizes = []\n",
        "    for kernel_size, filters in zip(kernel_sizes, num_filters):\n",
        "        conv_layer = keras.layers.Conv1D(filters=filters, kernel_size=kernel_size, activation='relu')(cnn_embeddings)\n",
        "        conv_layer = keras.layers.GlobalMaxPooling1D()(conv_layer)\n",
        "        conv_layers_for_all_kernel_sizes.append(conv_layer)\n",
        "\n",
        "    conv_output = keras.layers.concatenate(conv_layers_for_all_kernel_sizes, axis=1)\n",
        "    last_hidden_output = keras.layers.Dropout(rate=dropout_rate)(conv_output)\n",
        "\n",
        "    for dense_layer_dim in dense_layer_dims:\n",
        "        last_hidden_output = keras.layers.Dense(dense_layer_dim, activation='relu')(last_hidden_output)\n",
        "\n",
        "    cnn_prediction = keras.layers.Dense(1, activation='sigmoid')(last_hidden_output)\n",
        "\n",
        "    cnn_model = keras.Model(inputs=cnn_input_layer, outputs=cnn_prediction)\n",
        "    cnn_model.compile(optimizer='adam',\n",
        "                      loss='binary_crossentropy',  # From information theory notebooks.\n",
        "                      metrics=['accuracy'])\n",
        "    return cnn_model"
      ]
    },
    {
      "cell_type": "code",
      "execution_count": 24,
      "metadata": {
        "colab": {
          "base_uri": "https://localhost:8080/"
        },
        "id": "Jkx80zazMlnW",
        "outputId": "67a77676-7a15-4986-b212-d6952dbf0c4d"
      },
      "outputs": [],
      "source": [
        "# Now specify model hyperparameters and call the function to create a CNN model\n",
        "\n",
        "num_filters = [100, 100, 50, 25]\n",
        "kernel_sizes = [3, 4, 5, 10]\n",
        "dense_layer_dims = [100, 50]\n",
        "dropout_rate = 0.5\n",
        "\n",
        "cnn_model = build_cnn_model(num_filters, kernel_sizes, dense_layer_dims, dropout_rate)"
      ]
    },
    {
      "cell_type": "code",
      "execution_count": 25,
      "metadata": {
        "colab": {
          "base_uri": "https://localhost:8080/",
          "height": 776
        },
        "id": "7G0cH1a2MlnW",
        "outputId": "d3d7a1bb-46d8-463b-812f-a16df376cb0c"
      },
      "outputs": [],
      "source": [
        "cnn_model.summary()"
      ]
    },
    {
      "cell_type": "markdown",
      "metadata": {
        "id": "1W2eeXE4MlnW"
      },
      "source": [
        "The keras plot utility shows this probably a bit nicer:"
      ]
    },
    {
      "cell_type": "code",
      "execution_count": 26,
      "metadata": {
        "colab": {
          "base_uri": "https://localhost:8080/",
          "height": 785
        },
        "id": "rLxkEjKbMlnW",
        "outputId": "6aa85e7f-690a-4d53-e579-3d359d15ce65"
      },
      "outputs": [],
      "source": [
        "keras.utils.plot_model(cnn_model, show_shapes=True, dpi=90)"
      ]
    },
    {
      "cell_type": "markdown",
      "metadata": {
        "id": "9GSR6d5qo-qA"
      },
      "source": [
        "Now let's train our CNN and see if it can learn without overfitting or underfitting."
      ]
    },
    {
      "cell_type": "code",
      "execution_count": 27,
      "metadata": {
        "colab": {
          "base_uri": "https://localhost:8080/"
        },
        "id": "kA4LlSm5MlnW",
        "outputId": "fee17dff-11ec-4fb3-f4a3-b978bc0dabbe"
      },
      "outputs": [],
      "source": [
        "cnn_history = cnn_model.fit(train_input,\n",
        "                            train_labels,\n",
        "                            validation_data=(test_input, test_labels),\n",
        "                            batch_size=32,\n",
        "                            epochs=5\n",
        "                            )"
      ]
    },
    {
      "cell_type": "code",
      "execution_count": 28,
      "metadata": {
        "colab": {
          "base_uri": "https://localhost:8080/",
          "height": 829
        },
        "id": "OvE5kQYusZVs",
        "outputId": "21fc9f13-25f0-40c9-8d48-310d87a08371"
      },
      "outputs": [],
      "source": [
        "# Do the plots change how you'd expect?\n",
        "# Did the runtime change (in the cells above)?\n",
        "\n",
        "fig, axs = plt.subplots(2, 2)\n",
        "fig.subplots_adjust(left=0.2, wspace=0.6)\n",
        "make_plot(axs,\n",
        "          cnn_history,\n",
        "          cnn_history,\n",
        "          model_1_name='cnn v1',\n",
        "          model_2_name='cnn v1')\n",
        "\n",
        "fig.align_ylabels(axs[:, 1])\n",
        "fig.set_size_inches(18.5, 10.5)\n",
        "plt.show()"
      ]
    },
    {
      "cell_type": "code",
      "execution_count": 28,
      "metadata": {
        "id": "l_jUqx_jsY68"
      },
      "outputs": [],
      "source": []
    },
    {
      "cell_type": "markdown",
      "metadata": {
        "id": "J6bJvfz8Zwuz"
      },
      "source": [
        "[Return to Top](#returnToTop)  \n",
        "<a id = 'cnnExercise'></a>\n",
        "### 3.2. CNN Exercise\n",
        "\n",
        "A. The CNN model above is overfitting.  You can tell this because the training loss keeps going down while the validation loss is increasing. Can you make the CNN model overfit less? What parameter(s) might you change to make this model less likely to overfit? How good (or bad) can you make it get?\n",
        "\n",
        "> Hint: think about all of the options you can vary, including:\n",
        "* add/remove more hidden layers\n",
        "* vary dropout rates and dimensions\n",
        "* enable/disable retraining of embedding matrix\n",
        "* change number of filters\n",
        "* change kernel sizes of filters\n",
        "* change the batch size\n",
        ">\n",
        "> For the option(s) you choose, do you think it will make the model more or less likely to overfit? Try it, does it work the way you expect?\n",
        "\n",
        "Here is an example of the loss curve for a model that is extremely overfit:\n",
        "\n",
        "![Screenshot 2025-01-21 at 21.43.17.gif](data:image/gif;base64,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)\n",
        "\n",
        "and here is an example of the loss curve where the model is converging and not overfitting:\n",
        "\n",
        "![Screenshot 2025-01-23 at 16.31.48.gif](data:image/gif;base64,R0lGODdhOgQyA/cAAAAAAAwMDBISDhQUFBoaFhwcHCQkHSQkJCsrIi4uLjMzMzY2Kzw8MTw8PEJCJ0NDQ0REN0tLPExMTFNTQVNTU1lZV1tbSVtbW2NjT2RkZGxsVm5ubnNzXHNzcx93tCR5tTJ5qkN6oXR6dVh7kip8t2h8i3V8e3x8fH58ZIZ8fId8dHh9hJh9Z6h9Wbd9Tsh9QS1+uNd+NuJ+Ke1+JfR/G/x/E/9/Dy+AuTSAtP+ADjyBsmGBmoGBf/KBI/WBHP+BFDOCulWCpIKCaEiDsMmDSO2DK4SEhJ2EbP+EHDqFvHOFkeCFOvmGK/6GIz6IvsCIXe+INv+IHv+JJJKKf6+Ka0OLv12LrYSLj4uLi4yLcNqLTf+LLP+MM0aOwEqOwOmOSZOPif+POdSQWvOQRP+QL02Rwv+RNf+TPJSUd6uUfsmUZlOVxHKVro6VlJWVlf6WSf+XQ1uZxsCZeGuavIyapJybfV6cyJycnP+cTOOdZf6dU2OeyZ6elrmfiGegy6Ghn6SihLCildmidv+iU2yjzaOjo/+jXImktpqkp3KmzqCmq6unoP+oY3Wp0Kurq52stKysiP+sa3ut0r+tm/Ote46uw9+uhv6ucquvsbOvrLCxrISy1KuytLKyjbKysv+ydNyzlZ+1xf+1fIu21o652LC5wLm5lP+5hMG6o8S7sJS82ry8vP++jJm/27i/wf+/kZzB3fTBlL/Cw97Dq//DlMTEnMTExMnEvKPF37XFzv/Fmu3GpcPIyfXIpKbJ4P/JncrKodbKwKzL4svLy8zLx87Mv//Mo7LO4/7Oq/LRtv/RrLbS5tPTqdTUw9TU1P/UtNXVuvLVvcfW373X6eTXy9jYytrau//au8Tb69vbr9vb09zc3Ord0Mre7f/exM/i7uPj3uPj4//jzOTkt9bm8f/m0+Po6v/o1t3p8+rq5OvrvP/r2+zswePt9e3t7f/u4ufw9/Hw7v/x5evy9vLywuzz+fPz8//17PH2+v/38Pj4x/X5+//59P//zP///wAAACH5BAkAAP8ALAAAAAA6BDIDAAj/AP0JHEiwoMGDCBMqXMiwocOHECNKnEixosWLGDNq3Mixo8ePIEOKHEmypMmTKFOqXMmypcuXMGPKnEmzps2bOHPq3Mmzp8+fQIMKHUq0qNGjSJMqXcq0qdOnUKNKnUq1qtWrWLNq3cq1q9evYMOKHUu2rNmzaNOqXcu2rdu3cOPKnUu3rt27ePPq3cu3r9+/gAMLHky4sOHDiBMrXsy4sePHkCNLnky5suXLmDNr3sy5s+fPoEOLHk26tOnTqFOrXs26tevXsGPLnk27tu3buHPr3s27t+/fwIMLH068uPHjyJMrX868ufPn0KNLn069uvXr2LNr3869u/fv4ImH/7N1p9A2e+HTq1+f2t6qEwkaeHLHvr79+5ndw5dP/7S9bbY4cgcWRpxgBBaFrBIOevg16KBv+sU3H2rhrILFBQ8kUMAAByggwQkKPijiiLZFyB9qw5xAQQMSUHBBBhes2MAFbixI4o04rmbihKfZguEDGWBR3h0nPHBAARSEmOOSTIa2Y3+mbVNIgrY4s82Vw9yRwQENYGFLk2CGmd97EkIpkD3hODPMMLYMY6WZBLmzjZpsrmklgwOhSWebbm4DJ0hobrOmLW2+meecw5yXZp2J/umOmn6GI2idztjIkJ7DWFoQpv09Go5B/92RQAIZOCLmqahC9mRBwxTSAQUPPP8gQQZGrILnQO7YgsUGsMpKwQZYDIOnO1nyGusDFNDKY0j2OOPICRdIEGuybtjyqT/OGAGjG1IaK8EFWKxiZjgpSuCGJ45cKO2vjmia0DaO8GrerQI5UwiMnlxrD71netJAAhQUkurABB+2qkCPupHBAwo0rACLJ3iyTZyrGCFjww00ACSP9gyDRQYZO6wxjdeCROwdGzAs8gMb3DGxP8NkoEACF9zRgQQNzKwABUYIO9A2q1AQAAUndIDhvwkosIEjLysEr5Eg/ulJBw078qdBq/xLwR0Fd+21Xwf7o6sEBXi4QQcLFwCwqQM5s4ECXG5g4Am8SmC1P2jeofMFc6P/TXTTHnXshpEJsGzgBi+eMIxAMcMd368dqKhAAQ8U4szPQQdQOLKRpzzAzp5c6swFBdRc8kB3SODhKg15AvcFAn8t++x0HWxPIaqTei66RcJ9gp94ryLBAQ904MgqtqziiBtu+JzrCZ+fcMcq1HtSiBt3gxTOHRQkDezxyhdS3ssxJzBAAh864skqNo/agScMAk0BAAU08L0nnhjBcAJ38GtQOFR7wO8K4g4jFG4Di1NIs9yQNBDR7oEQZMuq7OEO6AEMfvsSnASGxjR/hMMR/6qVO9CTQTx9MAMDyIAzRljCfTHLGRlQWwZswcIWDqR8AXhAtTKYKwmgzw39kR/9/yQwnwzq6gEB+J3/4oQFH17gcnkKBwopwK2FuMMRMWyA5SLIxS6OZVXEykAAJIAFKCJsGB3IYc886Ai4ve9qAjnhAChgLZRUiGxUPN1BcHiBOrZNZg8wQhAz14AOmNEf2/CE0DowDDjmKV6FW5b8BtABcSkkVx341wwd6cVOejIqq4KX0DagJIK44XMXYJ07/IWkO+iRIOHwBAofcIcEmmQYbmjAAYxgiyXeMAPm6wC9ttG7EwySAgOA3ekelQEAZKCUCOkYFpJ2B2cwyGMNKAAW3GUQZ9whmzrk5CfHSU6krMqbGzzBCg1yhw4REW/D2EDOJLABI9zBE5kiyAIbBv8kI2DPFudxSAszyBBbGGFmbrDmQhpXgBMM0wiq68C1JlmqZW5jA87MF0M+mKH3MUiWOSuEL//jhu49wEu+LKdKVwqUVXkMiUbgpj8KgTG2be8CBxjA+VgWLnet4gIK0Gn9LmAEpqX0TJJyhlKV6qeUkikBhXilQRqXACPQKxxNTMAGJhq0AZDSTGjqAAAu0EGGDKN7VOyP3lbnNEWWbQMKZalc59pSMp3opQGIKb9o+jC2NcsTWDCatDLGt14OpEI2y8BgWWQ8cW7DZheIbGRPYB6FPDWqZgVZVa+a1a0KZJJf1ScAx1rWhWwjkwo4wYIKSDlGRtMddwBqai1J19r/2hYnLsUCEpVoEL4+gG1IJQ+0dKk2bt2KXIXQlpHUBteUOqMDyy1AAQ4ggTUm5D0zc+VRYxbC/3WWq8isJFhHS1bAJSQcJT3AEyWF0YCZ97Cr2JICUinO29r3viY5Z+oCwMg/3aFsFAidPuXkDFskN5tLOx0F52QLT5xgeHaT6mE94QYjWNjC05Mw47AAt2BtV7NG8K4PPYvIropXtGItb0NW2QHqrs8R8+vvQezhCKAm4H0axq+Odwwou04IaBcIgIqjaIQB2O9L57UFMqn43jxNrUMJVSCi1mQnmRJESkbawLIQwt2qilir4KUkbZGa4tIq0BkMbADzijQALIzw/3+2aPHOrHZUHtv5zhUB40UDUEhbelCWY4wy3ma8DRSaa2Iu3JSukpbQlPLQHTW0opLrZ4QmE6TLIS4IVkcc5hNHscyWBhUIlabYkM4YpAUoVajxzOpWQ8R20yxc867kLOimMESPSl6fsOQICSQzqrku1DYk1aoNxKeyHyHmzCRwhypdCVHrhBmIv0ziSXqazKRddUGUrIAH/KsBATYIseBzgAScoErhSLe66+zqdrc6bJ542wCK54YB4bTcbt6XvWJ0AjdMqRAPPpLi5GSzXwlJQFjoHpJoaDJI1i8D9b7eCQwERUxTu9Njxht5zbyQ5xppAGr0M+OKpDmiOkJ9+P/D3yoO6e6WtzxszpKnxlwkLfQ5EG/7ZpGLMlDqB5B1QVKCboteFCNvg0vbF3HWwh628xgBq+LT1vR3P2vijIc12w957AUGAICxSgxrFDgA/cDN87Jn4GwCdrna2x02vDl4eEKdr8tMaIsHw02ohavVtXLlhgsQdwBqY5lRR1IhiJoP8PExHvmiDsuplzi8Vt840nEVZ64DYAMBLYi/LA+AAHj+8wHgkFXXTvpWA01ImcfcgCbuT0f4LIqrKASBWC8kazEITQauMO3vmXpmjUf2Ez8BFs4V7Q+6IVziNjAW4IcwKRlBYvRa5QkcEe2GoKliHfDoQdBshOx7//uRq1X/6cdP/vKb//zoT7/618/+9rv//fCPv/znT//62//++M+//vfP//77//8AGIACOIAEWIAGeIAImIAKuICbkmgM+ID44YCY4Q7hAGkDdYEYmIEauIEc2IEe+IEgGIIiOIIkWIImeIIomIIquIIs2IIu+IIwGIMyOIM0WIM2eIM4mIM6CIOQZmWRQUGFsAFCOIREWIRGeIRImIRKuIRM2IRO+IRQGIVSOIVUWIVWeIVYmIVauIVc2IVe+IVgGIZiOIZkWIZmeIZomIZqaIWVxG6KgSbNFHo6NYd0WId2eId4mId6uId82Id++IeAGIiCOIiEWIiGeIiImIiKuIiM2IiO//iIkBiJkjiJlFiJlniJmJiJmjiIoZdvlkFBGyBkw8c8pFiKpniKqJiKqriKrNiKrviKsBiLsjiLtFiLtniLuJiLuriLvNiLvviLwBiMwjiMxFiMxniMyJiMyriMsqhbAwBEE7gBbVaBO1iN1niN2JiN2riN3NiN3viN4BiO4jiO5MiNFCiNbuCGiuEO6PhmEPiO6QGKz6iOicGO8wiP+Bge9oCO9IgY9piO+RiQ3bGP93gZ/9iPApmQyEGQAGmQ/KiQEFkdDImQhnGQEXmR0TGR0ViQGNmRy6GRDsmRHjmSxgGSlmGRJJmSxGGSlYGSKvmSv8GSlOGSMFmTuiGTk/9Bkza5k7WBk5KhkzwZlLDhk5EBlEJ5lDrykCHZkEjZlEkpkjOplE45lf4hlS1plVSZlU6ClTnJlVr5lZtBlJBhlGBZlp/olUWJlma5lj+olo9BlmwZl40hlm/plnJ5lwZjl40Bl3jZl4RBl0mxL5BmgfQomIPpjnlCQYc5mBSJMHrpl5DZF4B5FLkCcBuQAR3QU+wWS27QAZcpN9TXKbbgBpdpdphZRhTBl5G5mnsxmUUhTZqVNIEETYTmYCsyKg+jd3EUWxtyAL7pmw2QASL3EKrJmsZpF645FIIjKx3gT68yK7aiEOgFI7RSb8zjev2xPcC0Nf9WCMeTY5f0mMf/OZ5wkZxCEQ5BSDOuBy8nkDNzhxC5sjAQB1DEdie7CTKqtZiN6Q/FSZ7+2RbmGRTPRQEUsE0jRC7A9EZc5gYtwjQ1RFD32QDGtBH9+Z8WihYBChRnVTzMhzDtCXFSRWM3Q1bJQz2NAktaMl/g0yY+eCkVeqEw+kXiKRRZ0yV+5g4lxTNNZg85egFoEyv0VEsoSjpcMjJR44YtdI5QGaNMiqEz2lKu0wDVpE9aIgGGdBAFlDE+ByOSVTPF9ywEKlkESlna9h/sU4pYgAUNsKRN2qYyyqZIcUXdZma3swH0xHIemlMHwDP4cy+lI2i54gjemTzxMk/RmRBXZGx2GHpM/+mmjioWGeoTcvpbgENjdqpCWNpinxMutMag38I6GsdU6QYv+qMAjZYQHZNc3yeEQdWoj/qqXRGpPTGpdBovd5qpvkkBfuYxPgRchLYlCqpASSpFcAqrxloVssoT9hClW5Qn92KleMqfJ9AwmNo2uHMAsXNeVLMBmPVqL3qs4KoUycoTNdo8+tR3f4OlusUyh5RIFFAAXHNJH+pKEvGt4Xqvr/mkQKFkAtSh0hqcNTJjsTUjh+RNYZetCAFAStOtEGGv+PqwLaWvP/Fc31Ij6MFMN1ZEFOiOy5pJEiAuGfQeOJN2hBlcF5Cx9SVuEguxLLsT47oT2qkAGYBPsaRbpv9qTY/lb7aEZaklMYJiBODWAUgWS+uZbvaCWsZVryvbskxrEy+rE8Siph/ib9Dic9EZT5iZdh2TMhTQAXdwBwqjNGW1DVjQb94pPnZqtRTpsE3btjPxtFBrUH6XMxBTVraQAcniq6tkMRkzcwkWPxbjbVr6LT2VmkvrtojbEnCrExVCmjGSARFjKc5AINWiabqCOC9SVICDnicAIzvXbwxnuMWauKRLE4urEwv2bBUoWunGL4GiuoiJMJLybMMWu0o7uqWbuy9xun7Btrr7uyLBu33hu8BbvB0hvHxBvMa7vBiBvHuhvMwbvRPhvHoBvdJ7vQJ1uINhvdjbvaiqvYL/wb3eO776BL6BIb7kS77Umxfom77eu7540b7ui73wexfyO7/SW792cb/4y7z6Wxf827/G+790EcACDLwEPBcGfMC6m8ByscAMXLoOHBcQHMGJO8FwUcEW7LYY/BYavMFN28Fu8cEg3LIi3BYkXMIQe8JskcIqjK8svBYu/MLhGsNqMcM0fKw2nBY4nMOwusNo0cM+/KhAfBZCPMRuWsRmccRI3KRKXBZM3MQx+sRkEcVSfKFUPBZWfMX/mcViscVcTJ5eHBZgHMbHOcZgUcZmzJpo/BVqvMaR2cZe8cZw7Jdy3BV0XMd4ecdckcd6LJd8vBV+/MdsGchaMciEbJaG/5wViJzIYLnIWNHIjqyVkHwVkjzJVFnJVnHJmOyUmlwVnNzJSPnJVKHB+7APomycpDwVFYwP6PAN7YDKqQyZqywVEFwP36AKjYAL34APs2zH5gsYEEwOwrAHQEAIsNDLv7zHwfwXEIwNpLAGHwAEcZDMsrzMhdzMvavNCEEOvkAITkACx5zM9YDN2Yy7e8nNB7EP7fDNTjDN1fwN5ryWtRwVGvwN31wFJJAEe0DO8/zI6vy8AY0Q7UwISfABJBDP//yV9QwVH7wPxEwI+szPrfAN5bzQU9nQT5HCBQ0EHuABCo3RnjzQ7EvSCIEPEe0FH5AEcVDRFy3SQqnRTjHD6P/wzUDwAR7Qz/IM0zFt0vbr0yed0h7A0q3QDS/N0zUp09E0u1ayugJFgbR2JbarcVHt1KLrqifhzYQABCRAAjrty0id1ED9Eo2LOMkSuXX2H46gLTFyAS1TfR60Co571tB31ft5Ea4sDBK90i1t1GENk0pNQHIruHVbprV2NBpDRn7En4Pdt+kzeVg61grhzYmQBDAABHvg0n+tkoGNK9g0tQCHIamUUljldP4mqPfUSGcktWZbtUmytpKdEPjQDsKQCFUAz6rQDde82R3Z2fcpszQLWAxzqlgaXyxTS34yJ8PGIDE7s5liIcMdVw0b25Nd21Vw2XugChbN2x7p29j/Yqc182YY21gzNpotUkSJSRBuU7E2Mt7ZM93oTBLsbN0fAANxkNvc3dvUnRL8GjHD0p4kM2O2CjvW452roNo3BCv+jStAG+Deut/Vbdv7nN3bnd8Q6d3l6mc8ym9NhqNhijgzE5zBQhAZfq4cvhADRYEohNUtQduVjdD3vdMWnpC+vawP06xn8qxXKm5A+zAvIoSe6yX0YeNadEi3o1g7PmPOAFgXViDTGt8mAdG17QX7bAfafdQzDo++TauVaqvVSkCaWgDVRT1YNABkdDly2gC1eqnRijB+2nVw3nVQfhIu7tEgrd1ZHpBb3kaUqk9eHq3u0GL1Uy2jyj2fyp9t/6TmXc7mqLrkFdbk7TnnUU7MiaDSLJ3bWJ7nC7jnc1qpQXir4tZie7qrWWUqaU6nnw5XKD6sK37XIVHnOB3jmv6ONR6lU5onVZrkcXJQMluwhfCuAkPkt57jSN7mqErHeV3pQ33f2JDps26AGJ4xI44rOVpp6horqv4zMAavAmEL3jbtZ1LtkB0nEA4R6FDbXE0CVq7Mz56A3r2h2uehwUmvoFIIfncBfoZO2Mo4sBLv/wqit8viMjHbwtAIls7szt7uAejdA1qgTYWgKPsfUn0m78Ei+SKYUyMtAtbwWPDw5ROs8C3wM3HujWDZMLDuCa/w/ufd6GlsZJUoz+Ke5/+BZsO3s47QUdRXYNNKNAnU8uoJ8+2pAO8ZEYi8D/BQ8LdNzaqADWCt8gLo3QskAVbqnBQAnegRT26ttc7wYAZXYSDzPi8T9VPfmVX/TLAt6S1BzI1w3UBg5X7t9Atf7icBmzPTIbN5LT6St3EymhQwM0nTteh9Jh4jMwlg97o5EZJs9MIgCbcNA2tACtiw23DPf96NMAZWNHKjmZ8FtkIKS8IlhP32dYINcJ4pfArSmJxMDsdg8Jd9390AD5O/8nKfEoYpgWdi+4lJmCOlmLhP9LNPEfNwDJJw0B/w+NgQ+/1X+ZT5+xMB0atP5ZfeDe2A/Pqn/EYRygIBD8sw/B///fjdQP35Z/1Fgf3+sA/oIPxlsNLGD/vgX3/iTxTkLxDtsP0HDdKkoNvtT3/vPxTxX/7tABDHJJXxkGQNKWzz/C1k2NDhQ4gRJU6kWNHiRYwZNW7k2NHjR5AhRY4kWdLkSZQpVa5k2dLlS5gxPdrbMMCNPZk5dY50V/PmzpHolkkCQoJEHFLd8AFl2tTpU6hRpU6lWtXqVaxZtdK0iVPr15M9u4KNuK+dwDIfgBycppDsW7hx5c6lW9fuXbx5M3L9qdev2L51hUqqAgMG0m71/C5m3NjxY8iRJU9Wydcr5beAL9PdV2+oF7Vsl2ImXdr0adSpVa/WaJm1Vc15BxcG/4IY3mvcuXXv5t3bd0rXv5nGzuuZ8AcYa0ZN2yfc+XPo0aVPvxucukvisj/DqD0KW7vr4cWPJ1/ePEbr50tmLz7UyYcPazZhU1/f/n38+TGn19+RvfaBSFjLO/D6M/BABBNUMCf+Fqzov/YkScIDD+Sjz0EMM9RwQw4b5NAhCPHaZ7A1QiPwQxRTVHHF6DxUMcS82hkqiQ8qnK85FnPUcUceI3MxRRhFlFGSNQpSbprbelRySSabvOpHFIOMcUYY4ptPMSez1HJLLlGC8kMphVxmkxLX2mQaLLtUc00222zoSw7DjHEawgyzME0389Rzzxzh3FBOET3bJC0z0eTzUP9EE1XQTw0BlY1OL7izsEBFK7X00vAYzdDR9jYBLbkzccR0VFJLxU1TDDkFsAxJ56PUVFhjldUxVB1UtbhpNqkCvjIkmWZWYIMVVq5aF7x1SiIFVO67YZt19tmnilXwWFw3odGDXi+Edltuu/XSp81ypFZMMgUsY7lXvVV3XXYpkjbBcfOCJ9ckSKhQEmxGa3dfftl9F8F4yS2zjE2WSbdfhBMO9t8DA57T2irvVHhiimFl2ECHAx1z4ILdqvhjkA+9uL+MY8RGVyBAxSbJkFt2ucuR9Ss50GlGKfEGgpfB82Wee94x5vxmftgLIMxk1mekk0YRaPyExnUU0EjodRn/UZW2+uoDmb7P6YfXKFq+aQ7GemyyydPaPq6Lw2aUXT+Yumy4484U3B7T7po7gsOWe2++fTu7PrvVHuVaLxr5tW/EE1ftb/UCFzLXNQT0omCxFbf88sUYP89xta21twzD9cV8dNLt0tw8zkWc12a1Jje4dNhjf+v08lKX92QnquzVUNl7930q2smznWbWgfBCkmMq/3155lsKfrzhTfa0qN2Vb/567EV6Xrzo1SalRBiOP2bn7Ms3n6Ptw+te+jJSrv58+OO/KP3r1vc+LRIKX0Z0+fv3n37q2E96XgPC7tDhPwT2D4DTEaD3QPOBLjRiGQmk4PkWKJ0GmmwUceDO//GWccAKhpB5F4xOBovTDVLsygNVIMQERfjC3pEQOibUYBwEVAVJfBCGOySdDJ9DwxOyzV5dSMT+eHhExfnQOUAkXhxaJwlhWA+JU1SaEoXDxCBWAQgfKBzvqPhFrFnxN1hUmyqcaDwoShGMa/yYGFdiD3dsYxi2sMUwnBGOcD3EHuGYIx39SMdwvCkczvijH4exjTxehIzy+gbUiqI/NbJRkghzo0rC4QkjUOABDaDABhyByIk44w4XaEApTdmABziiIeG4wwY2ecoGXMAIzvAP3eyDD2yoAnyFEwb5JvnLhFUSJe5YxQkuIAFkPkACHSjENiRiD1sYQQEDaAAyrf9JAU80ZBtGkMABEqBMa27ADc7kyCL1Ao9u2CxlHgQhMN1JSVsyxh3RVMADjFAITJJSAp5IpD+gKc0G3KGQwwgkQ7apyQ6swpDOAGU543nLXJaIBFVIhDD4906MekuYJtmGGzLQgA2s4o6rcIMEFIAFZyTyn6hchT1c+lKHbPOYWMDjS13qEXP6BR5ri0PRupDDdmZUqNvaaEmGkQEJXOAO7liIPbaxgQR4sqAOWakEhkERmVIgMCHJqV/w0Q1VPJCFxxhqWaFVVJLYQgIPOMEqGuIOIzzgAuOEyD8VkIAOuMENd3DEMNyxmYMqgAJY2KsjVtHQjcDxofjZ6QaLhkP/HZpVssBC60hWUUo3XJUh9hglBU5ATqrSMwAFIK0CJIBSpho0rgUYwAAKkIBlriK1FXGpO2xr221kYCwGwsc3VKHCKvjBhZMlrqkqGxJ7eEIBDSgELTdbCKR2wLkPcUYhOpCBDpzgBBmgwAU2wE+GhKMQJ9hAdk/QgWNu4A6gjYg9hjHeDcQ3vhlIwG4NVA9skIKDQMChMIJaXAAr6rggcYcj6vnJNzliAxLIwHRjagtPeGIYE77DRwfwWa/MM8K2IKQnOtAAwbp1IgXewDRbe+IA2Pe+vi3MClvoywDH2E0D/kiBD8xeeyiYwQ5+kzvCEY7bOmMVGyhABhDszx///9i24VgFFh6ggPX205/bWEUh7nDlO7jBySq+by7P2N//yljMa6IxTg3MXBwXYsEb4HFF7pAAChhBsxFxxzAocAA5z/aZNvXxYlecwi2ycBnwqNqYDa2lMnfEHqtY7h0czFnuSlcjhXgABTpgC4qEIwMHSKieLaJYLhuoM17+wA2q0IgoHlrViPZzXmyxSSxgmiHuwEJ3jcBeizhCAp2UtUQ0zWlPeNoiXY1MPRrZvokWsR2FXnWz+9RqvAzjAg/w5GXccQIFZOAOU73IHQR7gjnX1RkXOMAJbCHsB0Gbt9hohRNhQFFhsMzZ815RojvijBNQQAKz/CuVL5CAttrWGf92nG04tgHkl8qxAwVQqnOduo2/wnGed5BAAtyQ0o0QWzLGVue7JRhmeoc8Q/bmSDgUDOdC2GIb1gXxtu3hDCOcINZNXcUdJLyNbTjDER14QAA64NeFbOPKHB5kNJ/8APBmXN0H+iosJMrCXopc6hoieWJFSYFOdsAIG8D6pXFiiw14N5v+dIR2T2AEtHcA6xcoxF/9CfMNnB0LMT9mBlBay1AvqB7p7KmpJUiOqQd+UUu/iyjpy9pvxjq1tjjmBVTpT+g24ACkPYBpjWALbg9jA5Jn7WslIFUpU0TjlOktLNLygSrsQRiCZ72Bql7OYThi7jIXKB6D7ohCOGK6Onf/Q8zlXvvNXLL3MTcCFmyOWKXn3UF7N+NjG3EMwLde+vV5PWlGj5netqJtTrDDMZg9ffBTp/qYuT5m8KuKPXDHCaiOfvjdP53xU6b85mdxlVI/vvfnHzrxn8z8zZ/LPVCLU/MFkNM/A3wN/pMM/zM/cgirQGuhZTtACTwVwouTCsSQpgvAd0sEXIikCfzAx0jAyFhA0qiHBlyDehG0CARBFtyPC2yUF8TAboAFG3o3QujAFsxByRBByCDB0jA2M0qCDYwsHSzCzInBVEFCDPwGXLChifIDXIAxI5zCuODBx/BB0wDCntpA6KNCL6QLK3QMLDSN3sKFyPkA7vOF7/tC/zZ8EiU0ljfMEObbAyC4ASeoqPZrQz20ijBsjDE8jX0gB1jwAhL4AIMQhjXcQ0Vkij6UpzjUkDm8gRtIgkTwhTxcREwEikZcjD9EDXwQRKJBQzvopUTMRFN8o0cEmFSExBncAxKwQw68xFOcRVRUPiBZRUhswFB0AtVbQVr8xW+xxSjBRQ35KlxwRRhwghssQGBsxpkgRpmBRjlEB12qF2X0r1J0Rm38NGlsmm7EkH1gQmRkIRzcRnNMrG9Em3RcvgaMAyG8RnLIxnOcx6Zax8axxwUJxCY0Cl6MQnr8x2fCR9QRSAUBwj14R0IQBlkEyH/cxL8gSAXRxzNMgjjABf95ZMhmdEi96MTdMMg6TAJCsESMZEiNzAuO3I0RwYUyKESD8IWLGkltLEm8OMmO/IZWoMNJvMGFhElglMm7oMndwAd0ML0tosh4u0ieVESftAugDMpuwAVCeEWQhIWdTEpTXMq6aMqgHMoyoJEkGEV0QEqr/EKspAutDEpxNIypZMax3MOynIuz3MpWQEESSALVi8e2PMW3lIu4RMlvEIb0gwG7hAW2zEsv3Mu46MuOJIdWsAMhBEmFFEvDZEHEhAvFRElyEAY7gIG6tANYILTJdEuIhJ7RTBETvMnHDMlvCE09rMzMKM0UGRFh4CBDXANceEnW1EHXJIvL7I1PhAX/QkiCnMSF1cxNKtxNsOjN3jALX1iDKikgfzROI0TOr1BO32RCQqhDICAEWChO6cxB6tQK61zOdjDDLVoLX/DF7/zA8MyK8VxO7ISBnKTK9aRM2Kyf+8wRfChPFDTEOPAv3KzP8GtPrHhP3whHYSAEtdyDVqhKAZ0+Ar0KA/WN/aTBerFLhQzQB2W9CIWN/NyRQEzQGxBMO1CFsNzQ9+vQqpjQ3xBKWNiD3LFL4pRMFF01FaUKFv2NQDyGPbiBuowDVVDPGhW8G52KHG1RQQxO7oDCb6DRIRWzIpWKI9VRdDgG2iwgWKgHJ33SAIvSqJhSJIVK4dzO7txSLiUuL4UK/zAVjnYQhjW4AbXogiw10zM1qzR9ijXVUXKASu30gzKtU3q7U6fIUx1tU69RizLoQA0F1C79UAxyVCcJRF8gBEkEgj1QhSZlVBuF1Bni1CYxCzOkkbXABXRYVE2VLEFtCkJ1jhDNTsG8VLw8VSj11CWi1U8tTzuoAgGpSHIwVVnNqFQdDlv9VHJYBlelSFWI1V8trqXco2FYBU9wBE9QudDzB3cQMkfIVm2VVlybsmGIMMPCvGodsWG91WOkjT0gTl9d1l9ayks6gSdLgFhqptAbhpI6AHzNV2+6g4cQus27K2pzBNtzKGHcFqGgQ2UJUjpl1yOSyT3yhLBbO30Tp/822yx6KoCkugCNvYAMELGmWjnuWjtkYqZuVaRyjVR0gEp0nVGGtdOTDYtiOoAHwAJHsAUsuIDlcgR086doKqVPwjmg1TOT24ADkACbiyYJqCaP1YhVpQ4ZoUNEVYV5WNiWFSGZ7ChSujSIey+TwoJhUKmefQBbsKmbagh80zc5O7gme7IoS76t2hd9TAQnuAFLhYVuoNqqpSCZPKoHyIBCsDao8ltus1gjqKZwgwi1aoC28gqnIrdOc9tx7RZ4sNLzrILPxNu8/Z+XNQm1sqelhSu5woKStasD2AC0Mz5x3SxPQCVHW6UOUIANKITBbS+bCofNzZIQTYQxvdS7zVz/YJJJRguoR+usz6orm22A10oAed03zAuvQqgnT+A2Wgvdkt2sOALanJO2glWXzphNUS0DwlxX37Xa2x2J5FquZnoT6Pq8ivUHnTuv4tu6tdPZKXuzB5Ctt6o1WapennWDsNtYrDuA7eXezGwE7bzUTB3fNSpJG0slHNOxBosIPlqFVbCj93KlC3OGv3IGN4CtsX0TN8C64qUzT4BX5VVefG2tt02Y7o2D9xjVXlVgMGJgA3PgBFuwCK4rHwMy3BqGhfNbROJgD94Mewhhz+Jff+CjaNVWK5OAAWaXYk2ElAECOyCFBJZhJCrJ80Uz9UUqNtMIb4uzrxU6D9Yzdwjh//2lLT6z3Sdel844111VVyzO4vK1rEYb3guwNCSGCF3jtSQuhG+K3vxNKtFtjaY9D6Fw1dogBWWd4xeSyVdrgMsb5DTOCErzY3dY3Qdorrc6gQbQttlNtzZmF1AlBNqwAzl25EeuY5GQtoC1ttcFZTCGM3BbiEg2gqXNLWDbWXIdZVJO5KJYC1I4UVUOoas1gmMCNyBzBk+gAAW4PNuiI4IyKIbi4WsdsiJLX/ddsMG6ozorhIq7uMgFEVZWk5RMBHS1W8wt5h4qZwLzsKK9A5GqMAVQgLbzh2E4r7ZqKk9wg5rFueraPJ/T4IVgJXKjgJrlYGdGunEmZ1/el6c9z/8uUFh2TiCHXbk8zoDyyuMLALevC7vvaqqd6wCSJmmu8y6dZdxhuAOs02j0YrC7I9gVDhnZbIQqoFveXeeKTiJ3DgmQra8AkNmLW7y6ezx7iLwCCIDRgi2vFTaFFuAAQLmBhdyk8Qw72KJkpOidjp+lvOYsKyygK+ho9QTQEjIr0ys3yD2/yqM684SvtjmMw7uZbpkQbQThhAHeFd+thp1gBYpD1o95OAbHjNPw3Wvz6eud+Gv9IIdjMGC6rWKlMOzsQWydUGzA1sxdwdJvkELJ5uueTg3L1g+hcOzu+Aa97mzEoeycCO386F4/0NW16E7ORu3LUW2ZYG3Rnga7lpT/UTBt2o6hz0YN3G5teEjQLuCOOLDb2f7tvrHtmBhu/WiHachOcxmFGGbudn7oaQluPjELYbBpugXSfMHu0XFumIDu/piH6d4iUyOFdjht8q4i7jYN9NYP2SSMOizR8Y7vxDHvl6jv/vCMg0SOJAhS+OZvnvFv7JjvREEHYZAEJ0iZOPCOA0fwllHwlgDw+1oGGEWOKkjW5bZwn8FwltBwAxmMJKjDCceGEBfxlzkbe4iH25pxGq9xG79xHL/xeGhoHGXwSqkHwNwVnMHUFnfxkNEaewCHalhyJm9yJ39yKI9yKX9ybQAHHpdSH68UdKCTMZ0UIw+jb3SHaoAGMi9z/zM/czRPczVfczQvBm248i/NckXpXkKIFJwZhWPAhm8gh3aABy398gT/xnRoBmgYB3VgB0RPdEVfdEZvdEd/dHZQh3GAhmqIB7iU80qR7t1+tzWIA0LYBFjIc3QockD3F0FvBmtQB3rQB1ZvdVd/dViPdVmfdXqgh0mvBl52T0z/8e/2mkKsyzLYg0YYBVgQhmnQcz7/81IPplO3BnbQh36Idmmfdmqvdmu/dmzvB3pgB0rP9QLd9Uw/mUOFDxLgjiRIgipYAz+QhFDvBiFddlPXbokYdGtY9Wy/d3zPd33gdly/dHm3mn2YF1gYBUlIhD1YAy+IcHJPgmBPhE1QBf9cOIZp6AZyGHWdhneRaXZ7z3eO73hp3/du9/e5tpx92M9vWAZVkIQ9KAz4aHmj6KA9kARVWIZvAE2MJyqNh3aP33l8B/l+50twH5XOQIdvmIZjwAVV2ARJIIQ4KIPcgQ87LANPl4RRaAVfWAY9H/WbFxatofeN53mwt3af93YJDfpZaYeTT/lc3aKWrxH4gIEusAN2p3ll3/pY6XpU//qw3/toH3uRh3OSrweix4ZlEAZYSHpCsIOurBK1cAKp3wOHJ4Vin4ZvQIeptXtMwft613m+53u/B/p/J5397IZjSPk9cPqi4cy2B4IuiPlWOIbKrwd8wIeLx/x6y/nO7/z/z09Ms3+WzmgHcugGwheGVtiERjh9IfwAAUkCL1iDPSCERnj4q+8Gi7d9PdF8vc99nt99y+x9dRF8bDD8pY8DL6iCc08Zci+gdVcFYdDzdmiHepB961cT7Od87d9+fid7Dw395fl9dAAIct2wHYM1qtGeMkBIfCABJEmVMmviEJJECteyb+3q+evo8SPIkCJHkixp8iTKlCpXsmzp8iXMmDJn0qxp8ybOnDp38uz50t6GAW7s3UzXzBo9ff2WMm3q9CnUqFL76WMHrZo7nzzdBR2q9SvYsGLHkhW5rx46grA2JdoTZ00VJ0BgfPgAI8kaP5JUCVvW7Ru6dvDq7Str//gw4sSKFzNu7Pgx5JpAhRK1aRSp0qmaN2+uejVr5JNcKYcubfq047P12qETuAwXqUZ2vACpSwLGwype1uxpNAqjRnyohxMvbvw48uTKdU72avloUs7Spzf1jFX5aOda+S3v7l1sPXLYlhmURMhtmSpJ6Np1ktcirmPY/gYm/P0+/vz69/PP37xyTZdFRx2BnVl1XXLZAcgTP/fcw11/EUpYkmrwtCOeMLHZUQV7DQHxkBO7EbIJLBm1MyGKKaq4IostgvRfUdBlViCNUFkHGnIK+nRPOcroosw14qzzoItF3gePeK+psol5e8C1Xl03VMGbb630NU035GxkJJddev/5JZg7wfgcZjWa6dSN2HW1oE7nGMPIFmcYcoox4sgTJp7D7YMPWthk2EgcTjBUl20O4TViieRwlCejjTr66IpjBiijdOoww0w29CylDjCQoIFGHbUMKF2aCa7pkzi04PGDFGbgwYgorPyijDflyAMhpLmShc+F3UwjDCxLtrWGF0kMCsSUeySyiSqw9IWNlovqOi211VpblqQ0CTijZszUAYkp4yyVDRoTFGDAAllkSl2pOZ7a0zWnrPoDvTXYgMQWg4hS553X+qvVPu34GdsaUBJ6MBBl+EHiNOTgU9i/EUs8McUiZTvTttJ1YgEatYyjjzqmWADBBBNAoAEawLD/eyCOx+nY0zveIMOKKIzgwQUSOXOBhyGXnEKLMUG+g2vFRavEKznfjCdMK6OYFwdtDDk0JUWSMBsfNsEZvTXXXRt5sUwZc4aGASjUog49zKCxAARZCGHBBBFAsvJnapK2Xcy/fGLIGVxs0QQS9OKr7y/eDJkP0V4rHlKff8ah3ocwDFpXEmUgamI9+Dy8OOede04c2DGJvVkWA6CQjTrqdILCBBzUUgsgGiAACN0Iunv3dvKsI841Pp5iM846w6EHIz7/8ow473zeOT7woKP0NMfgsiQhcXSxkIcRxbFHRaM4O43Wy4s/PvlghQ7T6JplEYAQ49AzDhoaaFBH6tmg/zAAGrW3bNzLY/GzjjeMUTM8wMFvgPsBEswwiE/Q4hnlWIc8iFQ+r80DQ6qQhJOqADnJ1QUG7rlcltqxEftMsIQmPOFJzveS9E2ldKdTh/0mgIJO0IMe9hNA/qbTLpe9iywNWkc5eGcMVkQCD1sIHL7OgAfiiYIWyrBT4lAYMT5d6Bu+Ytomqne9DuZmIspili/A1w7hSLGMZiSfCl3CQqmgAQEagEQtRBaBlNHDUhzAn/7sph3E/C+ArLiEIfRQwCMiUIEMpJWQInhGip2FHL+i3lu8sMG6IGsNI7JS1shRHzIuspOelFgaW7LGqEAiAhOwAAc4wLZOqKMf4zAFB/8QUIc8mgp3iWmQ7srhDWXQooiExBcXzvAGQ0SCFciA4if/dRYLPW88a6leFW5gmw85QTfbs0gYyTGPZHKzm5AKJUtGCZVaZAEDJLNABDQADE1lAxAckBstb7fHxvAjZrwURSQMgYcz/NIMeiimMZ5RqyFF0ZuQCpgjgXWQ6hGrCnNpiJQocrVlzEeT8OCkQTOq0QmBcyXifAoM64ABC1ggC6ZoZT+AkQUUmC2ePLTlYxp0j3fwjhafuBkSm7AFLoSBZ3TyxtA2Oq091WM1z3tNFtcgKNvgJjdliEMjSJFNaQm1qlZdTkdV8tGn0AMYgKgDIGqxLleaohOmyIZL+df/Q9PUUxzP+AXNIiFILjTBBk3YGSN+hoxreOMct7rqQduhNOkJCz0OlRqyqua9ZwFmjIB9LGQfk9WUbBUqNRzVUvShWQLtUK0wRc0PvaG3m+VAcEjQ6RkIB9TI5oqojsRFUpNwsIbc5iFrSIRUsYEOjLK2t77VymRRUlmmwHAc7ltK2kwBCEBAghmaSmtx+mccfshDiLQ4BSBv1gQE4jVWP7pGOYL62zCtRmnLYJrThuVQ2yShC1S6mjCwpCXejre+9l1JcE8y3HGZwhTAQOk4IMEBBpCMfs8lFcv0yKbkNEi0nxgEzuhFr3tJAQ+fKJx474snfLw2iwqZXF08QDlL/+Z2txo+MYpHkl+T7LcfpkCZx/oRMg2YMm4cAAQzoEsc6S6Hurp8hjFeMUAz5AwJXIADMUXxioAmr6ApVtFqBBK96W0CIXDB3l2SlQhJjEIVGIFWOyD25DH3dsUlaXEdEGA292WjDgtYAAdoHAELmELHw+ExfuQRQFEYYpAHROAWLEyLa0DwQU4mc4rCMw3YEuJJc+GgbaoAVVIIA8yZ24eYEa3pjJqZJC1GAwFQwIzUmUII6eyvSBdAOx0muJbzxM8PefcMXZyiiEQWHvF85sQmb5pFZ6ni0mBjHrhI0y4Q8eKyLkJRcsAj071+9hk7PZIWZ0EA7XtfHTSAATSkjv8ZHCBADhFcN1cvuD8xM0atBRmGvwXuBztjIPIKfWho82cf8PjGaw7ylrgkYS7HknRUgaOlwWyO3gYvn7RFQm0BnO59b0MBJNCWDQ7g0M6owXN/GvSOcwiRFQ+mK6CFSbxPsIJWGT54hJbZGvMK44KNXq9dkLWb7TWCRJXWprNRrvOuJTwknzYAB/xbCwzMUVQwpHi4OdPZ6K6VRTRVhscZoe5f7qyYexXSOyS48wjxCt/CZqgk+32sLtjBN1/+hiY3kvOts91aPQdJiwFBMg24jcCQ+Ng4asEBA8yS1eOWZ7lTxI983GMdAHyGTQdhhu0iQQrBfAPxfnrytuuHisD/bnlSncAe3EDEC0+tCF90S1XKkz5Xb/9Ii2uBAqKTFAIYEFU/2skBCMzN77Z76auLRF230gKfgSwg4wOd1+N5I5HzLr1yuj4NXxQ2kmKPeRnssCwrURTtG6Ev8rNfpNN7pMXjAIapIQCBG4srpULQdp1tvz+mf5ZLMpVHOa6hN8W3G5hhQLIofkHo42v/OESNcjeQh4fJFlM9BESUwR7sRaWZWP81YItwX0e0WB2ZAhpkQRZ0gnONCyRsIFr5XTEMwyoUQiHcQSF4gjOsX0nYQzjYAgmuwjZ8hDsMgyfcAQ3W4B04gi2gIEpg3Jfs3lvFVZ+BHL68ShMFVK38lQPe/wdafMOvlEdbxEEZyAVD3MXnXc0xTEPWoEPmJCEX6gcE+kOLZdZlHRhy1RBnWUUq3MEGKMABDEACSMAdOEPgiUQ4rMIGFIACXIAnfMQ2YIEEFEAABGIgDkADbMAwvAQP4onG7ZniSVjO6BQXLJD+rUMX5gemFRW+wQIGKcRskcBtQETZ8UU3hFklliJWNV3YUAqBjAMzAMPrAAMzlF+B6MM4oMIUVAAFXEAGbMAFUEAGGMEwzOFH2IMtdIAEHIACUMAeesQ2GIEEJMADbIA0bkAHYIEjhAMioqKj+Fjv0Non2MziCY8hfMIpfBevmeJyLOGUqYLTVE961IaxfR6Xtf9CfIAPOjQbOuZjaHxhGCIX7LiNEGQBIKwTjehDO2EAATyAG6yCM9xBBiiAAjiCDg5jONxBAyRAAzyAMvKhEVyABBjBNoSDSLqDOwijSSRirtyDOAiQIYSjhNkAq+BBJAza5OmjctRDJmJQF0AaoYgYCQCcKhzDKK6dTRYlWfCjKm5GHa0OBpSMU04ABgjBSZFhZzAD60DACQxDOLiDMzgCBSiAEeSgSVTkCfAiBZzlMnZEM3okFpSkPbylSZ6kNlKLPJyDNwDZdcnVGRTZkQ1CJMTK8QgJ/xnlY5xFM50XlQ2L5kVJEnjB9mzZYmGJFhImZX4FUpYJZ3xfLBmAARD/GAQwAGeq2X+xy9BFQAYUAoC4QwcowGliI0kQYwZcgBtgQQagJUey5TaQZEnGhD2gpLWoJDL8jp/lDL0E2kw+wzpkHT8MZmU+hmAJoB+kR79JzuTcANkpIDYIxqURZXN2J0tcJmZNheqNDAp8S39BQh3MngUIQS1QBz2YgsnwwCrAoB9eABa8oIrZghtcQAfYgiPU5kYyozNC4y5WYyHIoUrA5Vu6QzjMpb/E2l3CVSQMwhlIQcjxTCT8DK2sA3N6Z2L8WtIsjUFYmcF0EUUsi5f5xWR6KIvil4OqUVJqBiAwwARogCmQ4XtqgMnUnnTQQyc4AAS4wSF6hD3cQS92/wB+isQ2uIE03oE72KFtMiMWfGUCKEADNIAEnCaCnuQ2DIOXeqktrAIFtF/RVBfUTSgchAEXSEHg5IBxlhzW3QPitChq8EoAPhMUQs5DURICYmdjERx30ql3gie3TAUaFIAGdEIHNkU2QAIG8B11qI4DRMAfOMMwFkIGSMAGWCodrkJsHqg9QGmAdkQ4OAIWGAEW3IEbdGQDXIARcOprrgIWXMAD1KqtFgCZVozGcdw1IEPimYEU3MtODQ8jkJwxGM49CKpp/FprDIT0OE1CQAkJ3EDnTUT3fM98KaugEqp0VJuooVRT2FHFkYo6QMKkFkKS+oM9OMIGZCmsDqOsXv+AIRKFqKalP8TgKtjCMGyDM9iCEVAAlnqCMD7pv16pwTYAruae1+weL32jHrwBPwXfq9BJkJyDcmqraaDFnbKFk5SBF8gFe5BA5fSGzWEJ2m0SxlImt3JGtXHAaDoFp2jAuCpduZ5ruq5ru2bAu3pEOPzrCVxjR9Tri5AkXHKlIzyjG2zpSHBlmK6C066CJ4ypwiqOxu3ONegCn1UoAt3VGRBr/hFaPqRsaBAVa0gZ820i9sQcROjGezkLtJCQ2Objym5GmmFAHaxTZoAMMKABBsxOpP4opb6rPWCqpu6sujpDBhyAqxaCIziCETxAAyhAB3jCNsyhPTjDBRzACYj/pUkoaG82aK52ToO41S9gl9QBHwJJARzAyo8UHwSFbdxChmGOx9e5BbGAbAe5B8nyBUX9RbRgX+yW3txqBiTETQTUQQbKmNpEgCl1gnv+aJAOaUcU6ZGmK6naAgUEwAAUwAF0LyAGIh7eQTjMYYMmwOROpIr5pugSnu7sGd/UnxQM6wINGocGb2T834X4CfUo1eTUVhJ0nkTBgnwwoP1m3/BOxd5iAANgAApkQR3UwUpZAAPMT45NBz3UgsmcwHx6hDvU532GBFdOaS5eAAk/wAEUQAE0QAZ4AvpuQ+J2wCqg79K+6Pg0SPwZQ+/lEx4AK6DhHysYYXglawGnhjoC/8uSNMkavCNiaRl89a4mwe0QH9wBS8X7oAEEGEAACMAADIAABIABzNFx6VBpnmZqrmZrWsw22IIar7EbUECtYoFWpqAzUEABbK4Mi4T6ls/gqSRL7qUj4otx0m+HRrFYYBqfpEXLSUJ01oaIEYon4saUXE74EDK9TTEVA0MdrB5JkVRUDiRVVqUQTEADdMC+xmAhfCUwMijUuiAH66Zu/icFSEAh7Oa9emlukuQ2eMLjKsAdVG5L5HEJ3YNd+gjN2EyFBs4WIJnP6MLVrQPsUjJjNE/STFnTcCwUysU0JUv3eFl8QcuKQvOTWfJU0CIzlJVZxWKNGCQgIKRCmuB+Qv+kRPrDMHRABsBwSQjt9DoDFmDBKuyrDK7hG27wL9PwGamkMpwC37CphNGL6jJCAw0JOJcGPiDyBW1I2h6MiN2FJW0CRihKoEY0a4mzOtRCJ5S0SXcCJHxVBWYBqDBXSS+q0tUiGvRiLtZmlmIBgtpCbG6AvYYEPnfEMJyALmYAUccmBZwAumZj6HZS4fGOr9YahbJpEjGRrGzoM4O0YvDKYQrD9LQjFBpMlllrzXmPLyzblmB1SBO0R8Uoo2aB/Lw1XMd1XKefuKVhB1wkHlJAHFaGLfAiT5eELZRlBgi0PzjDCUgAGxZAlV6ABt8xSQCzJ/EI1DECHEQscbrp6rL/ggMp5yCj9Vco2tlG63Ty5AckltlhznZ6dlWJs7c9pWu/9lM6rwcOg386AuMyJI64Q5jagmsuLW3zNgzKYOMyriP0c2+7BGR3EoQCmccldOoqUZL9MKEJsWp/qFEJhIh6ddR00AFuDyHUXIqC2UdXdxmJczYIAQakt3qvN3uvN10rXasBnm/xCOLtTWX7Tbslc14hQ19lndaRt2II1vJdkJNIkhNM56A4BAIGnF9oiXYWHICXt1prFVszRdoAA4ZnuIZvuIbLInz/He7F5Ubdg+6Iwy71Ht9sQQ003pERT4ZOInVH+GEsUxUNxGuQwrDBnKGwrXdbRIlACzzIuBSJ//OZWNxpJLdQ0XfvSR3ECmFDU6w4PNB/C/lhTHQAni0h2AEUhl3aehBvcBnWnKx2jjeVFw2RF7m43Z5nTS1rVS3v/AKfwYGF/oBO3Z8eGMLXnkOMl3lZkG3ZBuD0DJvm+STn6cZTJaD3qOjo8TnPTThlVTiaG7lpIPlj8Yj8nYLDFpCFNh7+0cLV+dWeM3pZhMeVL0kjnEeePl9pT4leLJYT1weZi7rpObpwQXqkp7ljRwalP9ZykjgAoVuf1R8kwsH8PsM5dLas58T/OY8jhfaHOTLnHWDZJbpGxHqyN8qZ3/o4x3eIQ5swXwMOY5c+HTO+IJmxPkOQQPS1z3j+nv+XQbBFlq9BF/RbNucFeOMCY0WLta/79tG6ftm6tmvG0u2Yv9tXr4vDQTOCHwtOE+jUq2i2M/P7YuxJBS2fhmxRJ9ZWF0waLjTMokt8mGR7wNsIt6+5iI9Z4e0SXOGTHhzzD8SJX/4Mk6k7yI96r/xKV0vCsMz75jUmbyzLKNDjFYbQx9d8pBT8mR0FOxTqyBsIiJs86eXDOTwDKyj8Fiy0DeRAE5wBI0B8qBu9YYA2KSRCoMDjbPlkFZRdiUEx2KvIZaIN0zd9VOhDHT09+7G5wTV1N2JXVOdMnIxcOW7o17f9Z9+8u5u6k8z7sfg891hNs/RFCAEv4X8HUkLDOKD/zRhmvuZvPud3vuarwzhcRTwoWAMWHtUXUcQekA1IAdefwhMdDrJPvk3Ym9cdxGz026OBWMIkYOhFS2rLvnd8oTtUAzRAgzUcP/Inv/IvP/M3v/Mjf/Frw8lDxq4/20z9GA7b99U3nqtEd9DoOfCTBYhCz3k1TSP4wZUhls8/JpepQllnCduHP+ggPUnEgzZUQzPkv/7vP//3v/8DRDOBAwkWNNisGjh7/hg2dPgQYkSJEylWZOhuwwA3Cy129PgRZEiRI0mWNEny3rlntD4ZenOGyxYkP35IOWPolLFr5dbJu8fvZFChQ4kWNXoUaVKlFfGh67YM1qhGe9Z4qZIk/wkQGCQ+fCDhZI0fSaqETetGrl27evXw7Vv6Fm5cuXPp1n1rL+NGo/HcpfP7F3BgwYMJFw7sjqNdoRg1Jlb8GHLkovzkrSvn7ZkuUYzgbPmBpAkXOHgMRTr161m5e5JZt3b9GrbJffXaoSP3rdu0Y1ElUXXC1SuQJFW8rImzJ9EmVb6WdUNXL3Z06dOpV/eHt3FSe9u5d/f+HXx48dytd2Sst3x69Ufznbv2S1QkPXhgNvksBY4hUbqeieMpL5/1BByQwPX2mYccbKAipbc41iijCie0Au6GKtYgZCxclsHmG3LQUautAkUckUTYsEOvxBQjOs8xFV0UkJ973llHnP9rjDmFMyloamIL0Uj7hJbUVnuRyCKN/Gg22mz7RkFcpNqjjCSAI0G44YqLA8PlpvmmHXyO/BLMMBs6sUUxBWTRzDRfS8lGVj5hxBA4YrrvJiCRuUacc94ZUs0+/UwPn3YSXAYXUjZJZA8HIUzihq4+AKILLCUhBZeyOPRQLbf+3JTTyMjstDw0QR1VKX5irEwcZVjJcSbQejxDj0hYSS1AUm29Fa599sFnrdq+IVSqOKoAwlESYACiSgv3GMuXacipR1NcpZ02pE+pdU3Ua7Ud6Z51vFGGllMuYUSPM2T6YYszBrmEFV2UwXOdd96Rh9567b0X33v03Zfffv39F2D/fvMZOB9TDT4Y4YQVVnjbhkUKlElCVRlFEkQdvAqGrkhIogxJR2kFl2Om4fBD6Bw+mVRrUbYr25VdlijGcp5ZFQ4daULCVTgYyemZa3z+2ZughR6aaHGMPhrppI8uh+mmmT4H6qjPWYfqqq2++mp5tcb33oABJnjghQ1+GVddISZ0E0LWqAK4YkkwluNlycLmObLtFlPlu99qWW+7uxXnGWNeiW+QzmZKVw9GIrmE8cY/eRzyyCMXhfLKLb8c88xP2Zzzzj3/HHTPWRmd9NJNPx11Vl5ZnfXWXV+dlthln12X2m2/Hffcdd+dd9t/+R344IUH3pjijS8eGWWUeaZn/5+DNrocqKmeV9+CqZ1NUAWFgUWVTSQhxI61teoKCCc6JqQR5WARZsMOu+wb/gLzjv8ovum3m591rmElks5o+r8GARRgAG1QQAMeEIEJVOACGdhABz4QghGU4ARtkIMc/A+DGfwMzjjYQQ9GIQpSEOEISVjCLZwQhSlEIRlYSAYzmOEMoxmEIRihuE+I4hSsoMUvjLE85+WpJz9BWTt+BYu0rSEJGXNUVzxAvjLITRjdeN/9qEid+VVxMXkpExZX9rdrKEMXboqTGVRYxhSWEI1pRGMTmuBBN77RgxqU4xwzaEEK3hGPBbQgHfk4Rzj+EZCgYSMbRdgjLsAwhqPBg/8e9GAIGtYwEou7BOU4RzrZ/a54ymOe87wBvanFyyc/AQqRZmOb3BxjexRDlPg0BoQqdAw5khiFKkK2pedEi4u5nMsVdUkS+/XSZd26BksMMQhjHtOYeFDmMpnZTGcuEw7RlOY0qVnNM1wTm9nU5jaxyQVvfhOc4RTnOMlZTnOeE53mNOM62dlOd6ZwkIN8owYPeDMpbAGRMqRhJG+Yw9jx0Ied9A8ovRa2haknUE8xotqugqytAMcDMEjChTYBi2PQDR5sCREwOVoUXnb0I78EqcP48Y5z1OhnKVXpSlna0mswD6YxlelMaVpTm94UpzJFxk552lOf/nSnxxPqUIn/Wrzg9Q6ptZvdUpkqu9eljhWnoNzjIgmnYioTDtck4xakgDOaGPBmOCukIfOpyEXqYYaPVFwkG1e5zY3un5lcXvMEyhOCCjE2vBIUk3SDi+6t0gmNCg5x1rCHWJJifbY02UgZC5KPNpYiIoXsZM0ktoSBLR9e0+w9uEYvrX12RlgTLdakVlqnNc1oQXup8ozxi9hFVRRUraEjGYmHN7yBmtcMQxjCeUZ5chCDYL3PPWGoyBlCsp/+1EUm6eofu2ZNXvbyV8EOtpR6JGh7abMDhK6SFSV+oEJY2kQrhEGytKwFl5SF7GPV+xDJthe++LPsfOlLX8wOLGCetRrUmJY0/6K99BnKKJ4uXru52H4iElYdBFa1ytWu/qCeYQXNPU/4TWxK8w3KZGQjHalWtj4OhznUISY12bO6Tm1PeDWKXpeEjWkIoxWbmEqUlHis4ZTBOOgbb1m4lN74ApO9P37vj4lc5MjESEZUK4c4VMs8Abe2wFKlaoKtStvaKhO30tTtN1EowjZ69at63OA9uXBN4z4yEiAWMS10wUNkbPJ5SWua9KoW3VDuq7oSyV52p+Igq3i3lZFKDlnM0qGSecnIVAxyfIecaEc/Gi4Hy2y/PCsv0p6Wyd5YLTKgTAvYyhZOC8ZDVskowplAWMwSHmQKwxkGM2M4wxpGqyORm9wRA/8Uzp20q0+sBxFezaM2t8FGdhNhhy4Qqys2dgJh90AI5ZSFHPDwMaRdtmj4Npra2dY2bPiRWXnM6BxLZrLPAvxk13o6qlI98CUiSeUqbxirWoaJNx385VOj2gb2JK6ZlZnWtd4Qh3CtHfI2mdKhJY0awZBFKUJxCDY83ApWGMIQdPA2r3DMDoPWEDYuBaJtN8za7cX2x0le8iMjbNIAq9dnLbNkTTOP064dnZSpfFVSl/rUEf6fB+NZxlbvdreJ7Pdx+RliVsQiFrtQ+ixmkYpUcOIRdGADxUGgsWMJh7BZKm/dTC6tkKt35F0X+9irYyp9fVvJqdU0gJXB6U6ju3P/lGtcVWdriCvLm94OBjO+b9YECudTw/7+MCUEIQg5yIEKR5hCChifghU8HvJKuAId7lAITaTiFsUIRjWqQQ1upOMd8agV2c30dcqGnfSpV/167MvZGbl8tUb1NM0VPOozlPrBCKwBHf8Yz0H2oAczAH4RiL+EGLzgBS5QfgtacATnOz8NfZgEKmbh+XeMcvVHMv1kUZ99739/QGZ3PdXCrfafOfnJrVUqLV4xc3V/gnF0tzKDrxkTvc8kBwa84A984IMZzEAGAjAGBhD5XoAIiEALtEAM8iAPLoESTmF1aqcXekHpkiEadC2IsA/8qmP7IKv7NhAEQ1BMTmUdTmrt/wIMyj6tqmzu9u7PjfoIgAhI92igB5ZgCbSAAQXBEmKhF67BG/RExUTQRLRI2z5QCI8QCUvEVCYN7chP3DLt/NDP7QaMwNov3aZK/uwOD8ZgDKDAC4ugB2iAgALIB3qgCLwQCjKskYrurY5OF3rhzXwQiHxCA5NQO4gw24zQDveQD//kVF5v3GLv3KLqEhgwDxJQC5bAC2OCCRqxCYDPB5CABsRQBnfPDKFgDBInEkRBh4yhZ8QhXvqFusamD0eiAxtLD0tRFVfRSJZwX5rQCY8maKKBFpMhGXZqF0DBEixBENRADZ7gAI0vACnRBnYPNJiAC1xtNDhsrSYp4Haoh/8+kSf2pA5ZESJOkbFS0Rq3kRs3ZR7MYRuq4RZSARUmoQ/6QA58UQy04AvasQvRkPj+bwYmkRJrIN9cJYYGQXFwaIfeDAOnZ17ujLpKERtHShu7ESETEkzwwR7coS/8wvO4QSITLhicbhICoQ/SgAo2sgVcAPliYBgJqO8qTBmXkRkX54ZGrIfkMBSrUQQLEqQOUiFnkibFhFfQgUmOIRdKgRMcYRECARDQMR3VERETcAAHMAD/bxIF6B6loMzgYIbSjBNpwRj8sa6iZ3ruzFRUDyY7SiZrEizD8kV2ZR7K0iHNIRzCARy2wRmGwRZcoRQeARHogA6uwAhUAAVYgAX/OtIjQVIGxDDfwopHDKkkb2uR9ikld2h5OgkIXZLkupKjvlIsJ5MySYk2bmMalkEYcKEVKqES5BIR+AAQACENNJIKngA1n6AAP/IoZUApifEzXgUOGmkf/akq6SrOPol6es3IIBOYJLMyg1M4R8Rsfq0s58EdzOEbpOEYcCEUQqESHI4NrGAERqAESsAE8HIvOxL5AnAMVW0wDcmblBEPovITcoiHPlFPRo/IfLOXgHM441M+SQQf4MGUMnMzuWcUPPMQDoEu26ANpkBAs+AItlP5lG81kdI1acAH7PFmZLM8S6OfdGi5kifX/APF9MUxq8g9dQk+5xNEQ1REdIUs/4moSSbme+LAC4YgBEAABEIgBKqzBEQABfKSO0GyBxq0gDKI53ouXaBSQk+BKt8FFOVhQ++nQ3PpQ0WUSZvUQJSEHLpBQVCJMyfGexIhER6ODZSAS5VgBU4gBVRAL7eTLz3yBQZwCcAwEiHMnp7yMBVnknLoFdiMuUxsoDLQbpKUi5bUSfvUTwdkV4joxWCBQcCnDCRkibziRWN0Rmt0L4NRTZdygCbVHusJCdKlPBnhPFnhF97lB6nxZfQUi/j0T0vVVKmDxYQtM6m0Fay0EQhhD+Yg4oIgCKrTOkvg8RpPTPWS+VzgABPxC+2DTe8DQmmTrYyOzXBNDqeGDm1FVP+riFRPVVqn1Tr2wT6fYnsKNXy6C1m04qFIYFGt0wQI9DSfIAFtEArkEQyBj42A63+aElP1MSWX6xNDUWAQpvTwkNqilVr71V9dI0mCDTdcbBk0kzNHwXtg9UGqgEVhNEZv1UshbwUYjwWOoFzXsR29cAvaiE3FSjaXkdaO9RmVdaCa1UielYr49V9XlmVjYx5wUkF8gVArJlHKwCoiBCsciivA9UV3QPLAoA7SYCjX8VzRFR4d0d6+6j7KLFM3UUh/wR/vNF4Ccl8GUkBQ9n5UtmW3lmsfI2CD7TakVHu4J2GpoguyQlEXNQSCwAp2wG134DpL4GeFVg4EwRDnAw7/yEhYBbPCXu2sQvYSEjM9WdJkywNr6Udru1ZxFzcyAgUzl0FmDeVVE2UNHsQqnCArxsdRcGAIrODhKA8jhVIdibYdv4ALz2C37K+rcm5p81FCp/I24+xpshLPjjQuDjd+Epdxd5d35WJX1gIe0sI2hM1gu+dV46AMjm2J3oYEdGDiJo5W2dZz2YAuC2ESJkEXLYESxsUQRo2MZiIwN2gwxzORDNNYEzMaOymIPEVfIU13exd+43cuSilKM1NmUTQRYJVybbahgKBtjuWV4mAOEqE/FWERfvIc0dFuDTEPaCveYOKEOLZjZZM247QT45CTzsFIb7d9H+195ReEQzgp/4pzLeoheAUlNzbTeM1WSj6giTSGeXVAhp+3c61gDg6hEkKhFGQhGGZhF3ohjE4Bwbo3b8+lGMEThcCJPKOSFq7hHTg4O8DEHrbBFgrhDirPE5zBHRwrHGyh8lZhGyDCHZxhFaz4DhwBjLfIIz5YhNvYjUdYSfiqeA1FEioGVhUlQjQ3OJKgC4wjljwzFB4BEzLheq93F3eREraX3WYLb28vJh5s517lE5RhHaAYRY5kGxxhAxTgAAYgASTgDpxBjSMiHDxhAwpAAS7AEyDCGdzgAhKgAAYglQshHEa5Itj4jXNZl5GCRPHhZb9hUBmkEbYrsFz4hZeXed9GB5QlEf8qYRRCRhq6IRzeYcm+yBjCJT6I2AxyL3x/wBB+oRws2ZZJZIodIQMo4AIyYAMugAIywAiGYZwZwh5soQMe4AAUgAJWeUyc4Q7YOQPUmQIkYAPcwBl8qYN3GaET+kn3Kjc00xeqFGEnN3wWxX8d5VicoI+PA31kaRSeU4dLwelSgel8uAqvcJFZ4RoqGS5wFzLcYRU6oAAewA1WgZ8zQAEUwBG2uCLsIRzuoAESoAEeIJ8dIhwKIQMOgAIKwRacAQskQAEewBPieUUOWqGr2qoBtR5wMphTlMYS1as9oImoRFnSZzk2JNq8JLMsAzN0Yh34ZClY+jG2AQsu4AFOYBj/wmGMHYECFMAIbEGnJ2Ib7uAE1pkCClufGcIZOkACKAALnAGvvdipCVqq3Yuqr9qyL3s6ArbFVnUzW/VKFXZRMiasse5K7KDZGkESNmGWQCYXcoEXiEEbEEOcv2QY6HoDHCEx3KEDFCADaJki5jkDLsANsOCch7ohbEECGsAIVsEhtuGoO2AV/tojGrKyMdu6r9s6HDdmecNQudWhHsqrYcB8PKYVluFZZvtIbOEBlNsWHMIdmvoCsCCMJWKeXbkDbMGcDbsh3METgjqUifoEGmADfHunu8MdwqG6sVvBFxxgTVhgpZSz/SqiwacqJOR/se6V1mATjgEd0NtIVkEB/xrgv8eknymgA+Y7IrbBDTZgA+7ApTdAvxmiqBMAqsPBveFbviNrG9zSFnrcFlaBAqKYwYecyMujlIBZYihGYb3gZvtXK/YAFsjBw4nEHjwhxAsBxa/DqAW6oEl5FYK7EER5FWDcuKf4Dj7Zr93bDdDZCLL8IexhFeb6AeaczmP5koscz/P8NXiFNgR2YPuKUGWMwjdhGTp8pRN8RNzBEZ7aEbLcHjRZAjKgy988zi9gA+DZH8Y8xu2hldHcMexhzSngBNzcvVfBCCigAVJd1e18svXc1V/9MS7zlA5WGM770IWcSBSd0R0d0iWdlE/9BBzBxjOdzPWZ093A0x0C1P8Le9Qjyxl+fBWifRU8IcjvHNavHdshw2x6pTbmAdFu3dpVpMqv3NG3fAMmfZ+P+gKMoBAcwRGMYL0VoAM8YRvcIbBpPLrVnM1J/RoNHMFxPdsDXuDTBK4VA8RFHN3tocRPHCK6mAICYAAK4AAmvgACwOJR+Q62YRsK4ak9YdgvAsf5/bdxeeBL3uTlouDtArkfYLlvXALim9THGAsK+wJqnq4PoAAKoAEywBMcsr8fYMRlfLcH/ONDCtFPHumT3nCPXkRq+wEyALf3e7d7u+jHhIqHAeuxfs3nHAvumiGQuwFOgLkbwrkPALqle42ZXunXnu1bI+XrQq7pugOGod7/h6EQ9vqdD3zawXi/HdLvFf2cJaAQZNsfEnuxjcCx3cEW3CCyt6HV91vt217yJ3+XIn9AXLoDDkCmPWEYXDnEc9ofhqEDMgC6KULTjVvGjRqpC2EVhqGpFUACxl4kSJ7ya9/2r8PyrzYcNJnmAz8DGnshbCG4N+CwI+L0i5/TC4Gdaz7wOyDjDRrgb1/6p/8o3t4udr8DfvqeKSCUOWIY1pn4KcIWBjsDZJ/s78CmE+AAdl7YH9+9c5/641/+J8L662KKbcETHKHdwfivFX8VAMJWOH8ECxp0N8yWQIME7Tmz5chRIU+2ttljiDFjQXcbBri5qDGkyJEkS5o8iTKl/8qVLFu6fAkzpsyZNGvavIkzp86dPHv6/Ak0qNCh/ux1/Eg0qdKUHD2CXAo1qtSpVKtavYo1q9atXLt6VWrU6dexMZsiJYs2rdq1bNu6fQs3rty3Yc/OfWv26d29fPv6/Qs4sODBhA3W1Vt4a97EjBs7fgw5suTJcA9Trrr4subNnDt7/gyaseXQQzOTPo06terVrFurHO06p+nYtGvbvo07N1vYumHO7g08uPDhxIuX5G385O/kzJs7fw49MvLoGZdTv449u/btVadvt849vPjx5Muj9K4dvPn17Nu7d44+u/r39Ovbv486Pvb5+Pv7/w9gYPpdx1+ABh6IYIJbDf9IXYEKPghhhBLmxGB0Dk6IYYYabphRhdBdyGGIIo4YoIfPgUhiiiquSJ6JzqHIYowyzpici83BSGOOOu7omo3M4chjkEIOeZmPyQFJZJJKLvmXkcYhyWSUUk6JlpPFQUllllpuGZWVxGHJZZhijomTl8OBSWaaaq55kpnCoclmnHLG6WZwcM6JZ55b1gncnXr+CWiSfPbmZ6CGHjrjoLoVimijjoaoaG6MPkpppQ9Gituklm7KaX+Y3qZpp6KOut6ntoVKaqqqZmdqbaiuCmusNR6FGHevyoprrrm1Stutuv4K7Gq8xuZrsMYe29mwrhWLbLPOPqZsa8w+S221gEX/y9q01m7LbWW0lqdtt+KOOxa2q4VLbrrqWmWuauiuC2+8RLWb2rvy3ouvTvSiZm++/v4L076n9QtwwQabJDBpBB/McMOGfUvewg5PbHDCoUlMccb5Wgwaxhp/DC/Hn3kMcsnjiuwZySavbC3KnanMcszNuswZzDLfDCzNm9mMc8+y6qwZzz4PnSrQlwlNdNKcGl2TO8544gYWRrhRyDDu1GpQOMM4EjUWXt/hiTPuHGRLIVIbgTbaYA+0EtJKv/0o0zRtc0cGCRQQwAEPuGG1SMPcccHdAwxQQAIZ3OGMQdsY8UAAADz+eAAKbDAMS27DjbmhcsdkzzaFUEBBBh2c/5ABBRecMAzWBDnjCBYnnIB2BxtcIIEbFhG0uAQKSAB72mtbDnHmwv+7OUzheLLBARLcUVEhGyigQCFsZ7SNLaus4sw21X8eQAarsL047Vhs40755ate0uXDr09n8HMtToEERjgTjjvbeBL4CauM3WE4/l9tD/sZ4QAXQBzujCA+ANoDfSZRH/seSKbivWQYF3jABhzxFHd0QAGHm95x3JCAC7ghcf6A3wNQl71thIOBIwmg+yAIw25J0CW2eEADsGCLg2BBAhcwwjaU44wODCADnvhhCY0ggQQowHQZOMEdUtemBS7QHeF4YQyvSK0ZssQeq1BAAwxYEHsAjgIdIP9hSBByPa5lQAHz49823FDBBjzgARIIHd/4J5JwOGMVnuijJyQiAbFgcZBZtCJePOHFQhixIYXIgAQ2YMYO2SIDDWiAAhJAASOs4inh4Job7iARN1BSAh2onEjc4YkT6A560EvA4OxCyFgaS4ttc4QCHuCIRRbFERuQQAYiiRF7DKMDEpDAA3a3AU9crSEPGQb9nDEMUcrREXiUpChBB7piHkCQsuzmr2ipEnfYEpe6tAcvfQlMjKDRE3c4AQUOgDo8SvEiC7yfBA6ABWcwkIrbcIY/oWmLC3DTmwSNFThTYg9ENqAQkbRHIx+ZTnX6b48n4CAYNeKQC8DTFtUMyTz/7VHFgRZ0pKQ6aEpWUcmLFmWMJ9BlSfBnulWMhCMJ6IAyw2lIkuq0UiZFiS2Mqb+DMO4C40uJJ0pHAZl6dBsZOEAH9odTke50qnHLqVuG4cgMFIKTG0jABqRnVNol9ZTDoEABTsDRqMKSqmxFVE9P8kZKbqAi4bDFHXSHhdQdzxFhK8geh6HC8j3kBJg0ginruorAhsNzHbDkHVaoVha2dbLtkypc3GELwj4AC45YBRYuIMebDlN0nmiIJ7AANoVABIlDzGVRnCG1zlqPl5W8QA7bZlXK6nZNb0XY8TpAuzoWcwNgnGToSrtL0l0Am6DLwAVv549huJO5oOuhJzyI/xIH7na7/+ntSY6HREv6UpEgke4GglqUVRghAzb0Ig+xkFiDOAOB7W2AL3HY0ezmlrv81ZJ3ffuQ69liGJAliNOcOb0DX0/AtqCfXhxivQUPWGwu0W5/L+ye//7FwhjucHk07BcOe3jE3AFxX0RM4hRfx8R8QbGKXwyf/TZIxjCuMYlYvBcX23jHwcHxXXTM4yDjxsdzAbKQjxwbIsvFyEhusmqUHBcmO3nKoYHyZWlM5Szfx8p4wbKWv5xhL79IzGAuc4vI/CM0m3nN2uGyW6TM5jgPxs1tgbOc7+wXOrPFznju81z0vBY++3nQbgG0WgRN6ESnxdBpQbSiH+0VRv+jxdGQrnRWJE0WSlt601TB9Fg0zelQL8XTXwG1qE8tFFJ7xdSobnVPVN0VVrt61mVS85NsTetciwbXX+K1rn8tIF+/SdjALvZeYM0VWRt72W0idp+czexorwXZioG2tK9dLmtLStvY7rZWqK0VZXu72+DOirjHfe1yY+Xc6I62uq/C7nYv+91Wibe8i01vzHD73vweSr6pYu9+5/rfUwm4wGdNcKkY/OCtTnhUFs7wUzscKhCPeKgnvpSKW3zTGFeKxjde6Y4n5eMgf7TIiULykif65KXZt8pfvkWXu0rmMK85wmhOLJzbfOcY1bm0fM7zoDcE6OciutB3znKhpPz/6GZOelCWznQwOx0oUI+6lqf+k6pbncpY94nWt+7krvfk62BHsqQli1G0h7EsRi/7xumMkEIY4QQdmJpAGFjXO8y9A6MzQtWw649wrKKdfDfCE/OrnLa7PeJudogoFXCAwm02rSH5GyUTcIADJKABGeAbQ4RpBApgvgC7uyPwLLv41IuEyw656yNPgIUNgG6u6GOdG4yABTfcvgMUuCGF/YHZHZIR9448nSkjq/rkH0fxPulkVylQiIo4orEKeKzqtpGQBqtwaxfo3nVxB0cOegKwdaskNXGLeuWrvyjM74kzpju+q9U1f1DtkPmkSMUBipCEWH1AB692P6KXV2p3/xDtt37jxmVl9QA2lUEnwHmPlV0gtH8EsQo2hENZ01U2hXirR3YHmGJcVkM3dFsG5gag40PKMUwDkEwDIU63pEgH4YAdRBIfRUUG6IHYZmUJ5UUqJUaOVEYjIXgRoXeglU9jEw6FkAAP8D069F4uZRjV4wh3IIVS6AYPkH43uHhW1oLkZBjOA1GrZwvvlHkFQAE4RE9vlAASQHkNUYKZ5IQbMX0KUABzSIcBcIVYWHZaOE6uFUbn9EsjMV8XQDt0lAGOsEKOl4a28GBt2FIe9TcdkAGRGImBc4d4uHV6eEt82BB+GFFPmBCtY1YdwFGIqIaLCDqN6FHl4z/+008ZUP+Jlhh1OahQDNWFPtiJhsFPtmAEnJdPnXMHSVh/BrZDRPWGHGiDsGhsXIZSDeB5YcRSxRgSRwU6MrWFhihU/ucGgEcSHYiM/AWCQKVUBjZUtmNUSCVTXFRJzUgQ4bBBF6SNM3WM3fhrXOYMvVRAy9Q5XeWORQFAYbRAhmFO8XMBSqWAHXB+wEdBG7WBpxSP8jhwDXkT4VA3HIQ9gocFxzRCnVMId0CLBDEM46dCE7UKHXAAmWRKJiSK9JNKNiQ9BLgREOmQrsZlmGUEu2N4jkBfFOAJFzEMG0BappV7E9FHevdOK7iOnrBBZVgIjqBK/jeCTAGTMYlqbuYOq3ACFTT/R3TUAS/oD8ZViJsIXMY0R8XURNcFEiCFlBQwR3IkP9+HfmsllbEYlTZhkcvFQwYJXfMFO7dlD7bgBmFZTBewAW6whAzRSQhElvqzTG/pknFZcnpGRf7kTOTzFJ2jPXjET9A0DM5EP4uJi/20mdmzkOkzl47JcaU5GdxomlQldjyhmqu5U625E68JmyQlmzpBm7VZULcpG6ipm4TGmziRm7/ZTcF5E8NJnLFknDaBnMk5SMvZNL7pnHcGnTTRnNMZQ9U5E9eJnRCknTLBnd3JPt/Jdq8onvJGnr4hnedZZun5EuHJnpnjnhW2nvF5dfXpGPBpn28zny2hn/uZNP15/3pwCaD3JqCMWaAMd6DIl6ACt6BQaZ4NymwPql8RKqHJiJ+N8Z8XKjMUmngWyqHzmKGMsaEhujIe2kAjaqIvhqKkCaIrinAqWhglCqMf06LbKKM16mE3Co8vqqMSl6ODQaM/OjE8ypA+SqScZqRnFKRJyl1LqhFD6qQHA6XV0aRTqltVqk5XiqWTpaUMIaVdSjxcumFkKqZT9aUFiKRnCpxmemJuyqYjlaYvuaZx2mdzamBwaqfehKfAp6d7Kkt9GqaAui6C+qeE+pyHumSKiqjZyahXVqeN2nSP2mWRKqlSR6lvlqmXKjyGaqmcmmWeSqCgunKbumemSqpKI6qNmf+q7Ymqh/aqreozqyqrkEartapot4qrbfqpz9aru7pjehZAq1g/aBdAVLSKnomLxJqso9mjowqsbAZ3dgWJgqlJBaYRT+MGJ+CTomMEuVRNh5kBgkiuF9ABdwCNz8qq0dpkjTcMn2VJStSW75he69VeXrSAHXlADzCHCeCvSkQBJ3CL6squfjaT0aSVqMV7vrRJGOU8sPNJcjeId4BH8MN5SxkRfNU3CFqweMZlR/g8F+AIgOUJjFN90PV5p1UI2KNCnhVIAutGiIkF9XN/65qnv9qxH0ipQQQ62ThFWFVTN1Ud/4N/23AC3gc+CEQBbuCsFQqtOXufOEsVBbmTGxH/g9mYEljQPXxosVrVRwNGrzM4qFCbK8qYjsdXFIyYrsFkBN1TmLmTefiaAUagiAhDgyH1tGQ7ZbK4gw31UD9oEoLXETC7jncAXBcwiSZojau3R3fgNY+7i1KrtxeGiVzYh70ESSeRWfdkF1W5lOO3Co5gNwpgWzMlugcQAKmrugAguZPrjY9ajeXEienzrg9wOk/ZOf4UkqxzAiyJrcG0NXP3OnS3Qa3ruttVuZq4S5g7sH4FRwVQRk2LEGZlWCz0UcPqinl7vELGt1/kt7Y4U9FkOiegTJLVOU2lmAg1tttbNJS6jOqYtqeYro63RnMVtmCagULrtDbLviOWgGrJ/4BWy3lYi1HiG7CGqHado1HpC6Ha2782Ro+8t7SHiBB2o4Eg5T+V6QzSdAFFhDXH+o/15An3NIAM+sBhp2kgS7rjB14YaRF080mmJExuIAENQFydeT6cFBGAtVjRdAFedJANrEDXS8RFbMRHjMRJrMRLzMRN7MRPDMVRLMVTTMVVbMVXjMVZrMVbzMVd7MVfDMZhLMZjTMZlbMZnnMU1aLwUV7u8g1ruxEMN25M/WRSFoFEHkAFYgLERURFj4xBG0AEReweipJVo2yYcEQAXxFd+xMiN7MiPDMmRLMmTTMmVbMmXjMmZrMmbzMmd7MmfDMqhLMqjTMqlbMqnjMqprP/Kq8zKrezKrwzLsSzLmQxIHtG00/auoHVJ9kW+bBNQoeMIBkZYAxAABaB5/2o46OqRxGRJ0GNfh7OxCFVFAFA4yGzN14zN2azN28zN3ezN3wzO4SzO40zO5WzO54zO6azO68zO7ezO7wzP8SzP80zP9WzP94zP+azP+5zOg4MFylpk1DquG2AEZrk6UdOMDjU75VquBQ0+7eSTiEvQDGWzAUTD1IXRGa3RG01d/DoADcDRIS3SI03SJW3SG+3RIH3SK83SLe3SGN0Ag/MAL03TNW3TMC3TN63TO93SNVzMM83TQS3UHK07eVNHQ43USF3UypPUTT3USQQATO3UU23/07oT1UdN1SJ7y7uBrEQLpuezEczKrMra1c3Kv7jDmf+k1mvN1m3t1mq9NQ2QAE/01nVt13eN13mt13kd13Od1nsN2IEt2IPd1n+TSH9N2Imt2IsN13dw2IwN2ZGd2NGkN+Mn2ZeN2Xg9DEZAhhOW2Z8N2tDE2UmF2KFt2pAtXd0TmqfN2oud2hew2qe9mfeLHQFExph1TOWLxrt9xJilO7rN28FNxKgkR6Mo3Mc9RSilhEOM3MItTphkNc3d3O5wBwWQARYh3c5d3ded3cjtDlq7Aczd3Wb83Soo3mCcI8JUww0rGeqtAOw9Gej4AFDU3spdt5RhTpikT0Wy3b8L/y2FYN3+DRn24AYB0AFn/WduMAAH7ijq3QDwPeDDoDsQLh3KTd8VXtwI/meOoN8aLhdiFOD4DeAZQNuFQeAG7uGVoeAM3igOTuGO4d4vDi0WnuKFZt81ThccTgH7jd/9LeIhXiQFzuLtveI4LiUubuS4POFJvhs0Ht83XiQ6zuPx7ePxPeIlThgnPuTSUeQNroAyLhrOoJZg3hh9OdMXPuA/JQFoLh2e0AAXgLLtjYThLeJeheVz5gZnxeRqAeInsOdLsjgCexmBbsiS8X4nSBmHvraMMUwzqxlc1HlbLSC2MJiSLhgJdQFbhd/4cwd/riSotLip+Ud3PhidpL+Scf88pz4Z29BZli4YzhB9no4WnkPmjuEMzKMZt/6UjZLBmtHrj/7r8R3s+F0/nAFSrn4txb4ZnYPsTUI+Jwzt0S7t007t1W7t147t2a7t287t3e7t3y6mU0Sskj6sySrrP1HuXt1CZT3ubSHu6q4c4/6PhaaK8L6NYv0/u5Hu9n4cZQ3QVVLv5n7I+C7gkbbvNJvA/n7ur3bw/bjuBL/wQTGs/45RCk8lrGME3bqVv5dHAu1c8LXoXIHxGs9Qo1lXcMTQgujoh4bx1ao/IQ98sC471uoIU64WWiN31Xqt27jBKa/yBd8VrIMFkBiJHYAFBl0S2+BZGu8GC8Hnw2A2RC//OvAF9IqTSj4vsmoh9FJ/XiVPEoLnBkzv9LiMk93qXCdQ86N5P1fp88EsF/eDQA7dQnCv8YcXJSDlhaz0gIX+ebYAr6wUsG65aCC7Sl4EzSLhORdAzdasAB0A81eh9O70AAkgOfArEre+AfGKTOTFFmtfw6j7ACqlEfO3+Nbs+BFvE0gZR/jKO0WUPiXbe85MVLX+bdOnls5MRwW96O/aAHnD+HewaJ61+vg6mHxvGOoV+140+6h/nOpVQXq/gKLPENHU+8f8rwrgBh8+kjEtP83bScSk953H5kNyP5Q0t1FTOnuzkPaDBUtk9H9ZQXPV7FFR/pw3NViQ/kx7fXYc/wAim7EA4ciRLXv+DB5EmFDhQoYNHT48uM0Tlg4nNhxQ4GYYRHvu7jSQkMHIHSMZGlzwtA3iSpYtXTpzZKRDyQIP7jiDGM7WhQAXChUSKNCWO5dFjRa1d+dCByxu7pCkIIFCoYIO3Q3rcPKEG4oUGpzYRvToWLIK3bnJwPTpnRMSpHqCOAxLgwQnggbFWVYvWXvDCt1x+hPLBgkN3ISratbZCQUXtrrp4PWEM7F7LRu1Z6uQGzc/C5WU8KAQYobD3Dw4YPeuo7yXXY+1t21uggQUjLReGG6VyQxbB0vISPr1cOLFjR8vu8pIYSy2nNlSWmDDsMoJtznKMCCDo2HOPP8xtokbOXFbyxU0fx59enWE2wrxNOJO/vzE443rdFTI050EGTc+vKqDAS64w5ZtbJmrASNWqc++4Q7MbxUsDggvp50CMCKc+eRr0MHXPDGiEOe22UY5CQrIsEOEnCmEggQ68MSZYRy5CCWVPHzNns9EJFGiEx4oAAt3VDxIrgca8GRDDnF80JbutglHpxYD6IA6hlik4AAYnYGpgwMocORGJl2z57nuotTpjhONsHIh0x5QwBElhxwTORY7KOyk2xx6swEsVjnwvQE2WCWcOg9FNFHj1KSA0CHdCceNL29iyJbIGrhjyI5WoeCBDhwhUtGVGHXUHnsirY3ShdzjCQv/UYkzFVJ3VmnAP4icceOCA7DQsCNbCCMw1Fc5kk9DRxKo8CGdWqVzWMvcgVLTU7EKYD2HPNmAAjA1daeQByQ4YRVnjYKWQ1PDGWYDKinjE4sjxR1XL1PnNejUE7RLiaFVspVAzlgd+TbceDGbtypIN5DOE0PdPE0BuAYm05NG79jggQv2ZEjHDEIa6lw3Erj4P4hHJhlHI0B2Q0x/AKagA3gVkpiCDB42yJnIKHBD2JKxQFllTx5o+WXr3gtgZk88WWUY4Up2yZZaNYLI0k4LQSjSC75ij+mHPEFWVYeWLVogpJXWWeuFOjICgAzaZMjblkX2x5YMtHXE7JZO7QCA/yqzRkguuow42hPn+LY743DuJXRhhdzuwBaE5NaW6sJZig1hlwl/8wDAjx68bLuvwkKC24ywGOOF3An9YpUdkSoDoSeHPXaHBNxAYYR205bmhBxRwDa4t0FLQc8hRtz2g3CnQPf23gPggFoboCBcxWVXyGlbH+JUZt3d8aSDBDYgXHauk/16p+YVUAD6E/KlviF7AdiA3YY+vsAN3IYx4gIF7mj/7G02AMBkwucPvwUgAbWymP0GGDuJ8KQD8lOIpOqHG2fkzzD9Y8h1KIAiZxDJNA0wIAInuMDCVXADGwDVaS4mHoS4owMK2MBobheZBygPgzfUmjs2MIDGVUdqD/+o20IKMSnchKMQG1DACUgIMXt0gEpDeRwNg6iQcHzHYhvIwAUosBQZ4jBuT4MbQ34WPaHN6gQHyMD0MDg+rzXkKqS7QAayuMUN3GEbw7PbdTKAoqUtBAsFyEAhVIYrXbnBizV7z66adaUjSiCOc+wNg/pXJkdwxggb0GIhFpkQLAxIkCvKVQJcdcMybcYNJ8jiBeTUEBYBS45a7I0n8DiyUzniAjHEiQpNZ5YNvChJfTMCBeJ0SGLSMhw7PAHbCHiCq0lOIXcowFSKSKMXLTFep1JXMquDP/05MyFX2Y/gVkEj1FAAiji0HtQe4gjoGcFxB3FHeQpwAZWtsWssNIv/RNwgOFs4oi3RLBQx5XYk/j3ECEUznkFYFSRieuICDwAiRCBUiFXYYhW5UkABTtDHyZ2qEA0YQAAGgK96JuSgqlSZe/ZoBFICLwEhHWnt1GidflLUohjVKEdhNyvSbdQgusSnQdyxx8v1zQ0u8mYxlSoqbA5Am31jpgKSehBoSrNq1OyANceFzQA8tUj5k6rhtuEMKIXDO0ZowAPUecN0hnEh7LTNO4UqT3oeko1BRUhHtjGMspZoLhJojhfjCUcsuFUhB53Z9BY6yhvq5gQNyMBa3WhWZ6BpRgibWUkLB7oTPrRRSSISYsO0vJXicLAn7FTQwgcpLlmWRmhkn+z6/2IRu1QFqG4k6iq2edQETHWpvx1TU71qkGEwswG+9UdVCzHNXmY1dlwdLgHBityGDONqKJwlydoKEbi6s4V01Sz17kqWYWzMJ16soATqckeIIDah/lisFy2l3hSRpRAJAJdcZUvZmJxIgAwRbUoLUVocnkpGhfjRrtjrkkIoIL/t4963wjQvXRpWqLndLVKBu2FE6ZCH5zTID6eYkCFSoI1GRKISZevEHkaxUyNeiTMIE8jsjmy7WwOawOC5ijOm0a73JMtiolLQ/sUTC1tckOf+GMhB5uoAhsQgTx35pxojhGWEwmBHoGULxsQwvJ30SZMvIMpDavlAWelAF1viCf+pYFm2zriDAg4QkhNWrAAHrJ9mdejLbQZzmBwGNJNo917k2dAgvKNAYdsTPCNU+VXFm16hiyLkYKETjBDJ3sxa2L3vaVVr4x2LM7DwUCi3r0zBbMDeWEI/+wFTf0Sm3myFCRZHHyRmriMm4ywswVYfRNRXK3UxVTiZoqxCiyiJ9QcLsGxmBwAAARApBQzrQhiq2R+roKGhA71t4pwsz1YGmsvEqC1c+/oE2soZ9Xj2bVuH+3W3ysADaGzp6znkh960GtZ+TD6jYGXIk5SQthakVV0/bm5gKrKJLkDlvbBTAm72IuP0ixCJGzxyvz1N9PDKEIA9/N2FSxMWRD7yLDn/OM0z9Qfqprw6cn+c2y+/DKN66DEipjxKlZEaprhlbE+Binqk0q3HUoUTSGnoIFo2lT/OxeZUyzLLmalVcxZZdOEQcleI6QhWHHmHWm/VHlzD1DDqU/TKIL0gsZJYSGA8OXeIulOu06lQb27rbG0rVm7TsezieW5PKTOvaEqM2ZUOKZ4l2sJMo0+9CN+7ZNrc6AbBFt241fG8U89cig8HWhfeQTSV/fIdQZXvihyOHvUIrS1T2LmiVBWNcYxb9GMTzGU/HBP5yUDQuYB0qPP1pvwSvtiRDnckYgQF8Bt25WGOgYZxhz2uh/f7FMt1PMFX0i+/l8aH3alIxLu6xKhX/3G7Axa6GE8BEej2bkhrkrNM+m3cASNYSEmv7LGK8K/y9xUta5eQJVnY1f5TlU28gwgHR8CCO5Akf8CS7uOS17KRWLOiB7CLsAhAgzCiApQrv1gFsiK9gNOOgMo+zXCOKAmUC9COMHEHAjTAqsASLYmRLvmS0YKwcTIQEaS/LJGpCiyQIqEoDSyRowIkDzS1gjGVCiuI9nMKkemTP9krQUmc2XNCy5AI3jACrpgbtdKUXNmAlBEq2egdpjilh9oAEGMgT5BCKuwUN7jCW9JC6TKCAvwLNyCMBwhDT7umKuIML4mmrXCEQrEHGnGMvOiIj5CZkSiJk4itWNMnOCyAA/9wDDcYCA05ootZGNMQuTv4CcjwiiaUrdM4gAPIQqAIClsQjm3InxgSiwDRijuUjLCwPHe5sw7ojLsgm5rpgFuaou9oCkskiQtgjrhjGh05ATcUDMI4D8rIvFvSJKFajMZ4jEv5r/YJB7YQRpKIQ/spE2bCLsgLxsDYxV7supG5LQLCotoRwN2QtxMIv2wJjm98Qif0KGJEH8i6g/+wh9TBAjHJjFGrlfSJnvd6LhQDjnjMgHmsl9QxghsprqtBn/SRNzfQrf7RjV5KgAOAtgHoRAlwmdaLn76hmH10MC9jR0VpINoogGdbxNpgk7PgRbAgLiwwiYVMqwz4EzrcKgH/gbY7o42chJEb2QY8IZDK4B5Ui8eFO0DZCYfsuMmcpI0k8sB0kRlnohGviMdvSTOx0zulKIypxMh5LMK2qJ+yUw6pTJ+LKUrqsZoj0coOuImCkLGQoArIy5Z9TCuMLASrVKpwhJztuCo8gcnIsst2BMxQiwlMSovlEouvm0JHmJ40waJbUkIcgolLiiO1lB/ExALFVCgCbMwM2AB09LvYAZ0LEM3RFE1Y3Ahb4Io7mJ62K4QOyKINMALWCElF0Yn8Ic3RRMcOuqgQib6J2MzOLBCUK5ykuM3bbI6FMaIpLEu/wiLOdANRLLJcKc7RfM7oC7/nLBK22MyZMMFYuyiL/xDNtIhN+ekW5awP3YBDOcpC6IyyiXDNR+JO+YnGprhA7cwi8ezOpVKOfVoY4KHPvBo+wlTLzwzMAl2JWEGT7zu6JUkI0Ou82WQqB725+kC6vKK6m9skU7vQBP0+LeObC9UUL5JQDu3Q+bBQEs1QvSPRBN2kCVxQFoXQDlvRB20hBh28DU3R7NtQ+avRFB3RHJWtHc3QCdQyDgVSEbXRlEtSzKNRA3XSJ4XSKJXSKaXSKrXSK8XSLNXSLeXSLvXSLwXTMBXTMSXTMjXTM0XTNFXTNWXTNnXTN4XTOJXTOaXTOrXTO8XTPNXTPeXTPvXTPwXUQBXUQSXUQjXUQ0XURLBV1EVl1EZ11EeF1EiV1Eml1Eq11EvF1EzV1E3l1E711E8F1VAV1VEl1VI11VNF1VRV1VVl1VZ11VeF1ViV1Vml1Vq11VvF1VzV1V3l1V711V8F1mAV1mEl1mI11mNF1mRV1mVl1mZ11meF1miV1mml1mq11mvF1mzV1m3l1m711m8F13AV13El13I113NF13RV13Vl13Z113eF13iV13ml13q113vF13zV133l19cICAA7)\n",
        "\n",
        "\n",
        "Your task is to fix the CNN model so that it is no longer overfit when you train it.  You should modify the specified hyperparameters until the model no longer overfits. We define your goal as a case where after each epoch, the loss and val_loss value is lower than the epoch before.  This will be reflected in the shape of the loss curves as shown above.  "
      ]
    },
    {
      "cell_type": "code",
      "execution_count": 29,
      "metadata": {
        "colab": {
          "base_uri": "https://localhost:8080/"
        },
        "id": "nxTaZIeDiO2F",
        "outputId": "615a8bf8-8256-4be8-a75a-f3d1f58cc437"
      },
      "outputs": [],
      "source": [
        "# CNN model hyperparameters: Change these\n",
        "\n",
        "### YOUR CODE HERE\n",
        "\n",
        "#num_filters = []\n",
        "#kernel_sizes = []\n",
        "#dense__layer_dims= []\n",
        "#dropout_rate = []\n",
        "#embeddings_trainable =\n",
        "#batch_size =\n",
        "### END YOUR CODE\n",
        "\n",
        "cnn_model2 = build_cnn_model(num_filters, kernel_sizes, dense_layer_dims,\n",
        "                            dropout_rate, embeddings_trainable)\n",
        "\n",
        "cnn_history2 = cnn_model2.fit(train_input,\n",
        "                              train_labels,\n",
        "                              validation_data=(test_input, test_labels),\n",
        "                              batch_size=batch_size,\n",
        "                              epochs=5\n",
        "                              )"
      ]
    },
    {
      "cell_type": "code",
      "execution_count": 30,
      "metadata": {
        "colab": {
          "base_uri": "https://localhost:8080/",
          "height": 829
        },
        "id": "PUReh7zOiZi9",
        "outputId": "d10478f8-d43f-4156-c16e-20a7238e4ab5"
      },
      "outputs": [],
      "source": [
        "# Do the plots change how you'd expect?\n",
        "# Did the runtime change (in the cells above)?\n",
        "\n",
        "fig, axs = plt.subplots(2, 2)\n",
        "fig.subplots_adjust(left=0.2, wspace=0.6)\n",
        "make_plot(axs,\n",
        "          cnn_history,\n",
        "          cnn_history2,\n",
        "          model_1_name='cnn v1',\n",
        "          model_2_name='cnn v2')\n",
        "\n",
        "fig.align_ylabels(axs[:, 1])\n",
        "fig.set_size_inches(18.5, 10.5)\n",
        "plt.show()"
      ]
    },
    {
      "cell_type": "code",
      "execution_count": 30,
      "metadata": {
        "id": "pJ2qtBJCpL9Q"
      },
      "outputs": [],
      "source": []
    },
    {
      "cell_type": "markdown",
      "metadata": {
        "id": "5LISME3_xlef"
      },
      "source": [
        " **QUESTION:**\n",
        "\n",
        "1.a\n",
        "What is the val_loss value you have after the 1st epoch of training?  Copy the value in the output to the answers file.\n",
        "\n",
        " **QUESTION:**\n",
        "\n",
        "1.b\n",
        "What is the val_loss value you have after the 2nd epoch of training?  Copy the value in the output to the answers file.\n",
        "\n",
        " **QUESTION:**\n",
        "\n",
        "1.c\n",
        "What is the val_loss value you have after the 3rd epoch of training?  Copy the value in the output to the answers file.\n",
        "\n",
        "\n",
        " **QUESTION:**\n",
        "\n",
        "1.d\n",
        "What is the val_loss value you have after the 4th epoch of training?  Copy the value in the output to the answers file.\n",
        "\n",
        " **QUESTION:**\n",
        "\n",
        "1.e\n",
        "What is the val_loss value you have after the 5th and final epoch of training.  Copy the value in the output to the answers file.\n",
        "\n",
        "\n",
        " **QUESTION:**\n",
        "\n",
        "1.f\n",
        "What values did you use for num_filters = [] to stop the overfitting? Copy the values into the answers file.\n",
        "\n",
        "\n",
        " **QUESTION:**\n",
        "\n",
        "1.g\n",
        "What values did you use for kernel_sizes = [] to stop the overfitting? Copy the values into the answers file.\n",
        "\n",
        "\n",
        " **QUESTION:**\n",
        "\n",
        "1.h\n",
        "What values did you use for dense__layer_dims= [] to stop the overfitting? Copy the values into the answers file.\n",
        "\n",
        "\n",
        " **QUESTION:**\n",
        "\n",
        "1.i\n",
        "What value did you use for dropout_rate = [] to stop the overfitting? Copy the value into the answers file.\n",
        "\n",
        "\n",
        " **QUESTION:**\n",
        "\n",
        "1.j\n",
        "What value did you use for embeddings_trainable = to stop the overfitting? Copy the value into the answers file.\n",
        "\n",
        "\n",
        " **QUESTION:**\n",
        "\n",
        "1.k\n",
        "What value did you use for batch_size = to stop the overfitting? Copy the value into the answers file."
      ]
    },
    {
      "cell_type": "markdown",
      "metadata": {
        "id": "MrC0htXp9PTi"
      },
      "source": [
        "You're done with this portion.  Continue on to the next notebook."
      ]
    }
  ],
  "metadata": {
    "colab": {
      "provenance": []
    },
    "kernelspec": {
      "display_name": "Python 3 (ipykernel)",
      "language": "python",
      "name": "python3"
    },
    "language_info": {
      "codemirror_mode": {
        "name": "ipython",
        "version": 3
      },
      "file_extension": ".py",
      "mimetype": "text/x-python",
      "name": "python",
      "nbconvert_exporter": "python",
      "pygments_lexer": "ipython3",
      "version": "3.11.5"
    }
  },
  "nbformat": 4,
  "nbformat_minor": 1
}
