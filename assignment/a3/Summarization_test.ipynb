{
  "cells": [
    {
      "cell_type": "markdown",
      "metadata": {
        "id": "e-k1jXQHLyFU"
      },
      "source": [
        "# Assignment 3: Summarization Tests\n",
        "\n",
        "**Description:** This assignment covers summarization outputs. You will compare three different types of solutions, all using an encoder-decoder architecture. You should also be able to develop an intuition for:\n",
        "\n",
        "\n",
        "* How well summarization systems work\n",
        "* The effects of using different pre-training and fine-tuning checkpoints on outcomes\n",
        "* The effects of hyperparameters on outcomes\n",
        "* Evaluation of output using ROUGE\n",
        "\n",
        "\n",
        "\n",
        "This notebook should be run on a Google Colab but it does not require a GPU. By default, when you open the notebook in Colab it will NOT configure a GPU.  Summarization commands can take up to five minutes to run depending on the hyperparameters you use. This notebook will NOT run on your GCP instance as the summary models are larger than the avaialble memory.\n",
        "\n",
        "\n",
        "[![Open In Colab](https://colab.research.google.com/assets/colab-badge.svg)](https://colab.research.google.com/github/datasci-w266/2023-summer-main/blob/master/assignment/a3/Summarization_test.ipynb)\n",
        "\n",
        "The overall assignment structure is as follows:\n",
        "\n",
        " Setup\n",
        "\n",
        "1. T5 for generic summarization\n",
        "\n",
        "2. Pegasus for headline summarization\n",
        "\n",
        "3. Pegasus for longer generation\n",
        "\n",
        "\n",
        "\n",
        "\n",
        "**INSTRUCTIONS:**:\n",
        "\n",
        "* Questions are always indicated as **QUESTION:**, so you can search for this string to make sure you answered all of the questions. You are expected to fill out, run, and submit this notebook, as well as to answer the questions in the **answers** file as you did in a1 and a2.\n",
        "\n",
        "* **### YOUR CODE HERE** indicates that you are supposed to write code.\n",
        "\n",
        "\n"
      ]
    },
    {
      "cell_type": "markdown",
      "metadata": {
        "id": "0QDMDB_KqT8m"
      },
      "source": [
        "## Setup"
      ]
    },
    {
      "cell_type": "code",
      "execution_count": 1,
      "metadata": {
        "id": "Gl5EZTtfK5jL"
      },
      "outputs": [],
      "source": [
        "!pip install -q sentencepiece"
      ]
    },
    {
      "cell_type": "code",
      "execution_count": 2,
      "metadata": {
        "id": "xp3SaiO8LXrC"
      },
      "outputs": [],
      "source": [
        "!pip install -q transformers"
      ]
    },
    {
      "cell_type": "code",
      "execution_count": 3,
      "metadata": {
        "colab": {
          "base_uri": "https://localhost:8080/"
        },
        "id": "KzQBFiaPnr4j",
        "outputId": "17259fec-a13d-4b7a-8876-eb7c1e0a2a94"
      },
      "outputs": [],
      "source": [
        "!pip install -q evaluate\n",
        "import evaluate"
      ]
    },
    {
      "cell_type": "code",
      "execution_count": 4,
      "metadata": {
        "colab": {
          "base_uri": "https://localhost:8080/"
        },
        "id": "Lsz88WynuVkn",
        "outputId": "6f5ebed3-e49b-46a3-bdbe-ef9bc3c4d524"
      },
      "outputs": [],
      "source": [
        "!pip install -q rouge_score"
      ]
    },
    {
      "cell_type": "code",
      "execution_count": 5,
      "metadata": {
        "id": "M9Z1Xt8YIS-6"
      },
      "outputs": [],
      "source": [
        "#let's make longer output readable without horizontal scrolling\n",
        "from pprint import pprint"
      ]
    },
    {
      "cell_type": "markdown",
      "metadata": {
        "id": "CE4JuNugLura"
      },
      "source": [
        "Let's leverage the pre-trained and fine tuned models on HuggingFace to demonstrate some capabilities with abstractive summarization and language generation.  They include models/checkpoints that were fine tuned on a particular dataset.  In our case we'll focus on one dataset that emphasizes a one line output and another that emphasizes a multi-line output."
      ]
    },
    {
      "cell_type": "markdown",
      "metadata": {
        "id": "_UUcHy8gPpHT"
      },
      "source": [
        "We'll use this same toy article as the input to all of our summarization attempts.  That way we have the ability to compare. We'll also create two references for evaluation.  These are the targets you are trying to meet.  One reference is for the longer output. The second reference is the short one for the one line output."
      ]
    },
    {
      "cell_type": "code",
      "execution_count": 6,
      "metadata": {
        "id": "BO8pkrxNLYIz"
      },
      "outputs": [],
      "source": [
        "\n",
        "ARTICLE_TO_SUMMARIZE = (\n",
        "    \"Nearly 800 thousand customers are scheduled to be affected by the shutoffs which are expected to last through at least midday tomorrow. \"\n",
        "    \"PG&E stated it scheduled the blackouts in response to forecasts for high winds amid dry conditions. \"\n",
        "    \"The aim is to reduce the risk of wildfires. \"\n",
        "    \"If Pacific Gas & Electric Co, a unit of PG&E Corp, goes through with another public safety power shutoff, \"\n",
        "    \" it would be the fourth round of mass blackouts imposed by the utility since Oct. 9, when some 730,000 customers were left in the dark. \"\n",
        "    \"The recent wave of precautionary shutoffs have drawn sharp criticism from Governor Gavin Newsom, state regulators and consumer activists as being overly broad in scale.\"\n",
        "    \"Newsom blames PG&E for doing too little to properly maintain and secure its power lines against wind damage.\"\n",
        "    \"Utility executives have acknowledged room for improvement while defending the sprawling scope of the power cutoffs as a matter of public safety.\"\n",
        "    \"The record breaking drought has made the current conditions even worse than in previous years. \"\n",
        "    \"It exponentially increases the probability of large scale wildfires. \"\n",
        ")\n",
        "\n",
        "LONG_REFERENCE = (\n",
        "    \"Many PG&E customers could be affected by public safety power shutoffs in response to forecasts for high winds and dry conditions. \"\n",
        "    \"The record breaking drought exponentially increases the probability of large scale wildfires. \"\n",
        "    \"Despite being criticized by Governor Newsom for being overly broad, company officials defend the cutoffs as a matter of public safety. \"\n",
        ")\n",
        "\n",
        "SHORT_REFERENCE = (\n",
        "    \"California's largest utility is set to turn off power to hundreds of thousands of customers in an effort to reduce the risk of wildfires. \"\n",
        ")"
      ]
    },
    {
      "cell_type": "markdown",
      "metadata": {
        "id": "2gImnMrnCzHa"
      },
      "source": [
        "How long is our article to summarize?  Obviously our summary should be shorter since it is supposed to be \"abridged.\""
      ]
    },
    {
      "cell_type": "code",
      "execution_count": 7,
      "metadata": {
        "colab": {
          "base_uri": "https://localhost:8080/"
        },
        "id": "yg7Hf_VdaQj-",
        "outputId": "d9f29232-73c7-481d-d4ec-0cefbbc7e4eb"
      },
      "outputs": [],
      "source": [
        "len(str.split(ARTICLE_TO_SUMMARIZE))"
      ]
    },
    {
      "cell_type": "markdown",
      "metadata": {
        "id": "C9xudUadMrFA"
      },
      "source": [
        "## 1. T5 for Generic Summarization\n",
        "\n",
        "T5 is an encoder decoder architecture that has been trained on multiple tasks, so not purely summarization.  You can read more about it [here](https://huggingface.co/docs/transformers/model_doc/t5)."
      ]
    },
    {
      "cell_type": "code",
      "execution_count": 8,
      "metadata": {
        "colab": {
          "base_uri": "https://localhost:8080/",
          "height": 344,
          "referenced_widgets": [
            "bc4a187f6a9846cd9b27069ed0ab72a9",
            "e7244363511943ff9b0e4bf7d3a0e21b",
            "8e7069957fc64244987f3ef1706ca5df",
            "88d2095120124f989a12f4489d289ed9",
            "dd0599bdaff14312b549033f43d4204c",
            "d4dda1654db14e16863f985564ac05b1",
            "59d03aee217e4e4591abc018f0cca249",
            "1c911fd2ae454a029cae7862cf5ac0b4",
            "7f46bd52a988413e9df04d4e8f4fab57",
            "a2c03a649212448cb372ce8c4904cea1",
            "366c9ec9eeab42b58a7cb0addc75f8bd",
            "93fa4d2461084b82b9234c49e1e4b8ed",
            "fe750d24f9d8491ca844e44fa48c4bce",
            "ae799688eacf48e7aa23308c8824bca4",
            "0556a487612b47a3855a42130d024c2b",
            "0d03604121054d2ea673ce623f56f4f7",
            "6efa62a5f9464b91b4bb96e73e521238",
            "045144edf70840149ddbf53423875ee2",
            "0537d162b6cc4a07a83b836ddf99e1d2",
            "0fa4f64a94504197bb8d704f1c963379",
            "d42205bd47a84aea88e85637b6f287ac",
            "5fb9b2fd71c3462b950f6331ab0a53bf",
            "0b606fddae8c4f639a4833dcc84d2c3e",
            "1bee5e5f5fdb420bbdbed1c19a0d6489",
            "2b89afe36f884040aa8595bdaf42f286",
            "b4861d2bc435412f85af8c0db460019b",
            "6b5158582dfd40d2aa4d2a8ff2ed7b51",
            "3d03f8083b124a8eb9975b63dceb90ac",
            "73f229f795af46fd82ccff926426c300",
            "8f7c15b0d69742d5895da623ebd6a516",
            "c48f4d46cfd44f059f7e49ad96f4f610",
            "a125369bb9714250ad596ef94960f3dd",
            "2bc98ddb10464acbb0072ffc2de7181b",
            "ec5e248f9902464fa5ebf14117cd3abd",
            "4f390df5273449afa31711c11e3783ad",
            "c7880631ef214d2eb5ba519fa52e739e",
            "ec20b0be2a534a7585910d8b477a1d5a",
            "384879fb855a47a196acd00c99bb7dfc",
            "bd1ce276fc8b4d3ea882ad04ce360ea0",
            "9e659d736d2c4adf8958bda637f3c1a8",
            "d7a0cc12a9fd4f38ba666bbdf0a4e1a0",
            "048a3ebdcf8d434fa1f45374e7ccec91",
            "04a4c209651f48b19a036c116a654618",
            "23489802199345b4819493f77e54163f"
          ]
        },
        "id": "acxPLRJiSzXq",
        "outputId": "fbe0499f-4ca8-4a08-d8c2-b2014a9469c1"
      },
      "outputs": [],
      "source": [
        "from transformers import T5Tokenizer, TFT5ForConditionalGeneration\n",
        "\n",
        "t5model = TFT5ForConditionalGeneration.from_pretrained(\"t5-base\")\n",
        "t5tokenizer = T5Tokenizer.from_pretrained(\"t5-base\")"
      ]
    },
    {
      "cell_type": "code",
      "execution_count": 9,
      "metadata": {
        "colab": {
          "base_uri": "https://localhost:8080/"
        },
        "id": "9bA8lh3lEO0C",
        "outputId": "a1ccda69-7359-46ab-f14b-618e297f5481"
      },
      "outputs": [],
      "source": [
        "t5model.summary()"
      ]
    },
    {
      "cell_type": "markdown",
      "metadata": {
        "id": "tYrpx6lSQu6K"
      },
      "source": [
        "Since T5 can perform multiple tasks we need to tell it what kind of output we want.  Therefore we need to prepend a \"prompt\" to our article text to make sure it does the right thing."
      ]
    },
    {
      "cell_type": "code",
      "execution_count": 10,
      "metadata": {
        "id": "haKG84-iNe9k"
      },
      "outputs": [],
      "source": [
        "PROMPT = 'summarize: '\n",
        "T5ARTICLE_TO_SUMMARIZE = PROMPT + ARTICLE_TO_SUMMARIZE"
      ]
    },
    {
      "cell_type": "code",
      "execution_count": 11,
      "metadata": {
        "id": "EKgvAz84SzSH"
      },
      "outputs": [],
      "source": [
        "inputs = t5tokenizer(T5ARTICLE_TO_SUMMARIZE, max_length=1024, truncation=True, return_tensors=\"tf\")"
      ]
    },
    {
      "cell_type": "markdown",
      "metadata": {
        "id": "yoDo-7DzQCQl"
      },
      "source": [
        "What do the inputs look like?  How does it compare with what we've seen from BERT?"
      ]
    },
    {
      "cell_type": "code",
      "execution_count": 12,
      "metadata": {
        "colab": {
          "base_uri": "https://localhost:8080/"
        },
        "id": "il9ui27nSRID",
        "outputId": "3aa65e7c-ff38-4863-9c84-8ebbb6f1f069"
      },
      "outputs": [],
      "source": [
        "inputs"
      ]
    },
    {
      "cell_type": "markdown",
      "metadata": {
        "id": "S6NT_ADVQCQm"
      },
      "source": [
        "Let's just run T5 using it's default hyperparameters and see what happens.  We'll hold on to the output in the candidate variable.  What do you think about the output?"
      ]
    },
    {
      "cell_type": "code",
      "execution_count": 13,
      "metadata": {
        "colab": {
          "base_uri": "https://localhost:8080/"
        },
        "id": "wQzPxfCutzsl",
        "outputId": "2a2f3d36-cb9c-44f1-c594-08b0eec7d508"
      },
      "outputs": [],
      "source": [
        "# Generate Summary\n",
        "summary_ids = t5model.generate(inputs[\"input_ids\"],\n",
        "                               max_new_tokens=30\n",
        ")\n",
        "candidate = t5tokenizer.batch_decode(summary_ids, skip_special_tokens=True, clean_up_tokenization_spaces=False)\n",
        "pprint(candidate[0], compact=True)"
      ]
    },
    {
      "cell_type": "markdown",
      "metadata": {
        "id": "6JSmlLkqtHQ5"
      },
      "source": [
        "### 1.a Checkpoint Configuration\n",
        "\n",
        "We're using the `t5-base` configuration and we know we can run out of the box to do summarization which means it has some hyperparameters set as defaults.  These may or may not be what we want to use.  How do we know which values are set as defaults?\n",
        "\n",
        "HuggingFace provides access to the default hyperparameters via the AutoConfig object which we call below.  We simply pass in the name of the checkpoint we're using -- `t5-base` in this case.\n"
      ]
    },
    {
      "cell_type": "code",
      "execution_count": 14,
      "metadata": {
        "colab": {
          "base_uri": "https://localhost:8080/"
        },
        "id": "E-DC5UoBscv4",
        "outputId": "36bae513-175b-4898-96b1-717acd01c747"
      },
      "outputs": [],
      "source": [
        "from transformers import AutoConfig\n",
        "\n",
        "config = AutoConfig.from_pretrained(\"t5-base\")\n",
        "\n",
        "config"
      ]
    },
    {
      "cell_type": "markdown",
      "metadata": {
        "id": "eqhE0DpTvmQP"
      },
      "source": [
        "Look at the `task_specific_params` for summarization. You can see that this `t5-base` checkpoint has some values such as min_length and max_length as well as no_repeat_ngram_size and num_beams.  You can affect the size and content of the output by modifying these parameters which you will do below.\n",
        "\n",
        "You can also look at the full set of possible parameters in the [TFGenerationMixin](https://huggingface.co/docs/transformers/v4.18.0/en/main_classes/text_generation#transformers.generation_tf_utils.TFGenerationMixin) class available to all of the pre-trained models.\n",
        "\n",
        "HuggingFace has also written [a very helpful blog post](https://huggingface.co/blog/how-to-generate) that explains and discusses various strategies for text generation and how to manipulate the hyperparameters.  They discuss the two approaches of beam search (which we have discussed in the async and live session) as well as sampling (which tries to randomly pick the next word within a k-sized distribution of highly probable choices).\n",
        "\n",
        "**Please read the blog post before you proceed.**"
      ]
    },
    {
      "cell_type": "markdown",
      "metadata": {
        "id": "MMFFnkUwRWKi"
      },
      "source": [
        "For your reference, here's a more complex, technical, and thorough [HuggingFace guide](https://huggingface.co/docs/transformers/main/en/generation_strategies) for controlling generation of text.  The blog post above is all you need to read to complete the assignment."
      ]
    },
    {
      "cell_type": "markdown",
      "metadata": {
        "id": "C89LpeBj7i4F"
      },
      "source": [
        "### 1.b ROUGE for summarization evaluation\n",
        "\n",
        "ROUGE is the metric that has been traditionally used to evaluate sumarization results.  The ROUGE metric expects a reference as input and it will evaluate a candidate against that reference.  ROUGE-1 calculates the number of words in the reference that occur in the candidate.  ROUGE-2 performs that same calculation but for bigrams in the reference. ROUGE-L calculates the longest common subsequence of reference words that occur in the candidate.\n",
        "\n",
        "HuggingFace provides a wrapper around [a library](https://huggingface.co/spaces/evaluate-metric/rouge) to calculate ROUGE metrics which you will use below.  Let's calculate the ROUGE score for the candidate you produced above."
      ]
    },
    {
      "cell_type": "code",
      "execution_count": 15,
      "metadata": {
        "colab": {
          "base_uri": "https://localhost:8080/",
          "height": 87,
          "referenced_widgets": [
            "d5e5c12b9d5342d2bb94e569eaa4b326",
            "b26daaa4cc2b49d891c54fa84d3b129c",
            "d181c99ec8934303af54f0c4ee64c60a",
            "b68cb98558b34c82a5fbda9aa60b00af",
            "32eebd103c7744eab0649cd7303c5df0",
            "974b1781ec394022bcd28d1333edf8ac",
            "fcd37bf365154f85b4126f48448f588f",
            "42ddd9e3ecd84f0393300e37c8fffc55",
            "9fa45cf3c1484e468bb561adbc203d3c",
            "3b3a63f5aa6b4253a90c00cf520254c5",
            "0b79d556bd9743c7bb4b9ddcc8607e92"
          ]
        },
        "id": "Ae6-_06inr44",
        "outputId": "561cfd25-ba2d-4963-e8ee-9f266fe6ba5b"
      },
      "outputs": [],
      "source": [
        "rouge = evaluate.load('rouge')\n",
        "predictions = candidate\n",
        "references = [SHORT_REFERENCE]\n",
        "results = rouge.compute(predictions=predictions,\n",
        "                        references=references)\n",
        "print(results)"
      ]
    },
    {
      "cell_type": "markdown",
      "metadata": {
        "id": "V8OQmtGeQCQp"
      },
      "source": [
        "Let's experiment with the hyperparameters shown above.  Please experiment in the cell below.  The `num_beams` value is like a beam search.  It indicates the number of tries the model makes before showing you its best output.  The `no_repeat_ngram_size` is designed to help reduce repetition in the output.  `min_length` and `max_length` (or now `max_new_tokens`) set boundaries on the size of the summary. You are free to use other hyperparameters as described in the [blog post](https://huggingface.co/blog/how-to-generate).\n",
        "\n",
        "*There is no one correct answer to these questions.  There are ranges that tend to work better than others.  The goal is to have you experiment to help build intuition.  Please enter the values that you think are generating the most readable output.*\n",
        "\n",
        "*Your readable output should consist of at least one complete sentence but does not have to end with a period and you must also have a ROUGE-1 score above 0.30 and ROUGE-L score equal to or above 0.25 when compared with the short reference.*\n",
        "\n",
        "You can use the two cells below to come up with your answer."
      ]
    },
    {
      "cell_type": "code",
      "execution_count": 16,
      "metadata": {
        "colab": {
          "base_uri": "https://localhost:8080/"
        },
        "id": "buSASaloC305",
        "outputId": "88919d0e-78da-4b83-8e25-00c84cf97420"
      },
      "outputs": [],
      "source": [
        "# Generate Summary\n",
        "summary_ids = t5model.generate(inputs[\"input_ids\"],\n",
        "### YOUR CODE HERE\n",
        "### END YOUR CODE\n",
        ")\n",
        "\n",
        "candidate = t5tokenizer.batch_decode(summary_ids, skip_special_tokens=True, clean_up_tokenization_spaces=False)\n",
        "pprint(candidate[0], compact=True)"
      ]
    },
    {
      "cell_type": "code",
      "execution_count": 17,
      "metadata": {
        "colab": {
          "base_uri": "https://localhost:8080/"
        },
        "id": "ckbLXpnbQCQq",
        "outputId": "74f87da5-7469-4c6e-8344-7feed2ecfbb5"
      },
      "outputs": [],
      "source": [
        "predictions = candidate\n",
        "references = [SHORT_REFERENCE]\n",
        "results = rouge.compute(predictions=predictions,\n",
        "                        references=references)\n",
        "print(results)"
      ]
    },
    {
      "cell_type": "markdown",
      "metadata": {
        "id": "ml2BkDi4UtvM"
      },
      "source": [
        "**QUESTION:**\n",
        "\n",
        "1.1 What num_beams value gives you the most readable output that meets the score criteria?\n",
        "\n",
        "1.2 Which no_repeat_ngram_size gives the most readable output that meets the score criteria?\n",
        "\n",
        "1.3 What min_length value gives you the most readable output that meets the score criteria?\n",
        "\n",
        "1.4 Which max_new_tokens value gives the most readable output that meets the score criteria?\n",
        "\n",
        "1.5 What is the ROUGE-L score associated with your most readable candidate?"
      ]
    },
    {
      "cell_type": "code",
      "execution_count": 18,
      "metadata": {
        "id": "RIY8uph4iyjW"
      },
      "outputs": [],
      "source": [
        "#In order to not consume all of the memory available in Colab we'll free up the memory we're using for these large language models\n",
        "del t5model\n",
        "del t5tokenizer"
      ]
    },
    {
      "cell_type": "markdown",
      "metadata": {
        "id": "EiloUXq4SIOB"
      },
      "source": [
        "\n",
        "## 2. Pegasus for Headline Summarization\n",
        "\n",
        "Pegasus is an encoder decoder architecture that has been explicitly pre-trained as an abstractive summarizer.  You can read more about it [here](https://huggingface.co/docs/transformers/model_doc/pegasus) and [here](https://arxiv.org/pdf/1912.08777.pdf).\n",
        "\n",
        "We'll first use the `google/pegasus-xsum` checkpoint.  It is trained on a [summarization task](https://aclanthology.org/D18-1206.pdf) that reads a news article and then [emits a one line summary](https://huggingface.co/datasets/xsum).  This doesn't mean that it is limited in its output length.  It does mean that it works well with news article type inputs and tends toward shorter outputs."
      ]
    },
    {
      "cell_type": "code",
      "execution_count": 19,
      "metadata": {
        "colab": {
          "base_uri": "https://localhost:8080/",
          "height": 332,
          "referenced_widgets": [
            "5b26cc4a5c894fda8307f35b292cf58d",
            "418544cc8a2f4d6b844b4fb035148ad1",
            "ab7579b4a28848478e8ff4f01874bca5",
            "3151662ed76c43e2885d49699aaa372e",
            "2d2eca1f54b9425986af99e993012293",
            "84fbda05d3b84d7da4d73bc8083f424e",
            "6e33cb51810548b68b5d984c2fa44daf",
            "580e06e3cbbc43359f06d8ab96f15691",
            "9f319c5750814782a74be334e9dda923",
            "f181e0fd4b98493385ae39ce28706546",
            "83380ae24e1549b39cd0e6c526cbac24",
            "3606dbfa130f484b966e4a59d33c2b0c",
            "7dfd54b96d7442a2ba70464e664470d2",
            "03929bbc0fd346359f1539a87fdc8d3c",
            "982b5e801fdd435487b5882c5c1fe1ef",
            "2b46e2e01bc74ce9a3d07b62351adbde",
            "fe08f994f35c42e681de40da512a6ab6",
            "f01cd7bef27041e8bab0a2fbdfc9a7f6",
            "56cdf1dd3f064f8f9396e107493d4ff6",
            "dcdc4707a8a7437eaac96a47473baf66",
            "93837e30fe1149268e33a9bcf9e3a8f3",
            "06d8d031332c4a02870ed23a3420eb59",
            "d05245a9c89a40f2ab3a79fc5807dda0",
            "4b85c763dc6b41da845d96688e56fb63",
            "409d3b97e25944c6b925ce8247996a96",
            "a067ab0e070943eb9154897e094bfefa",
            "cb39b896608d4f8da6d8cf7ea398f5b0",
            "63954b87024749f59fba60bfef90ef80",
            "a2a31cf527ba4a75bec3a1bb7e368fbf",
            "a8a10d6a9e074513807c6f4ae969d364",
            "232d84f664ca4ceb9664ded5e8ed4c31",
            "8fda86296cd047759d418a55197db0ad",
            "1d123dfbb8b9450a904be2fd28c336d8",
            "a4fb08d4090c4a80899067a6d18cbbf6",
            "2f56f86692b941ed9bd7809f4ac29fd0",
            "339f14b454f34aa3bebe88a6c16fe1f3",
            "4a1b31b351cb4cfc874d5eb09578776d",
            "46e487469ce74841b8def953ecbca6f1",
            "e2cc16a053ce4b38ab90cd826c04d967",
            "e27102406fa04d21b3406b9d7ca4e081",
            "ad7300a4477445a991f8b3c3ec9c2dc4",
            "df0a3dfed57b48b2b2dc68b34a0f57d0",
            "4b835fe147ec44fe818f19503bb651ce",
            "f5e29e94952044d3a957b5c17907986f",
            "3587857e67744a2f9f8d753997f71f25",
            "5cc975aae2aa4c72b62b71f86454bf7c",
            "8be27224513049d689ceb71d92ccd3a6",
            "84d927bf7b354fc7b6d08c2666aa192e",
            "2c9d015b63844036a04e353a2f2e92e4",
            "ba9662c40d804c3e92dbf6e60ced3828",
            "d30913ba20f1481fbce3f86bdc48bc75",
            "7af13450161f4837a9786c730197d782",
            "6af48f4f15764b67b38713e54360a534",
            "794fcd496c934acab80229a4ce5adfec",
            "2ddf3c498d0948298a68e39effa0643a",
            "37163d85988d4630b7fb1eb477935d45",
            "f1c6920bcb7f4e5d80b24eb758d2b26f",
            "4cfef4ebbfd248bd8ced10653a6769ad",
            "93db74ed4b704ae29cbdb1573b179f01",
            "14a8272ffa8c49709a36d52de3affdae",
            "282fd200be164bbdbfc7e0dd800016e2",
            "a4dcede89ebc45b9bc4d94a5bc613da4",
            "a955b06e986c40c3a399dd455afbb51e",
            "fa43246cd3d24aa2b3ff42063ab5a6e5",
            "48e74b49c5134ee893eeae8c7026f1fd",
            "fec871649251482d979af5db1afb1a99",
            "d145b2fd0de44908bd3e874a05c28a54",
            "c6fb3711cbfa4826926d2372bfd89766",
            "7ddffdf03e274dfaa06c741bed111e7f",
            "371794e2401e4fa79d231c88809ce1e6",
            "4fb0c58bdc3d4906acbf75795c817e98",
            "1e0478d2b8b24a2eb5d23e07031e4af1",
            "41758cb915224af199149401aba71d30",
            "d25ad0f96f93483d900473a7ac0120a2",
            "dbe978be094a491ab1d69b37c8ba173e",
            "ff55786897984b4ebb47d3512ecc9aaa",
            "a60789d5dc734f19a90f6562b7ffbaac"
          ]
        },
        "id": "aL_vm5XBLYCa",
        "outputId": "345575d8-8541-4695-f931-0f640906d500"
      },
      "outputs": [],
      "source": [
        "from transformers import PegasusTokenizer, TFPegasusForConditionalGeneration\n",
        "\n",
        "pmodel = TFPegasusForConditionalGeneration.from_pretrained(\"google/pegasus-xsum\")\n",
        "ptokenizer = PegasusTokenizer.from_pretrained(\"google/pegasus-xsum\")"
      ]
    },
    {
      "cell_type": "code",
      "execution_count": 20,
      "metadata": {
        "colab": {
          "base_uri": "https://localhost:8080/"
        },
        "id": "ihtp3HlGSRZF",
        "outputId": "c071e1e8-7582-4605-f10a-52755ceea4be"
      },
      "outputs": [],
      "source": [
        "pmodel.summary()"
      ]
    },
    {
      "cell_type": "markdown",
      "metadata": {
        "id": "4ymuHNVDQCQt"
      },
      "source": [
        "Let's see what kinds of default parameters are configured in to this checkpoint."
      ]
    },
    {
      "cell_type": "code",
      "execution_count": 21,
      "metadata": {
        "colab": {
          "base_uri": "https://localhost:8080/"
        },
        "id": "bOP1XnpyLKNM",
        "outputId": "231f56de-0e7d-4ba9-d5a1-5e6cd7bb6129"
      },
      "outputs": [],
      "source": [
        "config = AutoConfig.from_pretrained(\"google/pegasus-xsum\")\n",
        "\n",
        "config"
      ]
    },
    {
      "cell_type": "markdown",
      "metadata": {
        "id": "IelLGg6jQCQt"
      },
      "source": [
        "Generate the inputs using the pegasus tokenizer for this checkpoint."
      ]
    },
    {
      "cell_type": "code",
      "execution_count": 22,
      "metadata": {
        "id": "WiqSwOmD_ms_"
      },
      "outputs": [],
      "source": [
        "inputs = ptokenizer(ARTICLE_TO_SUMMARIZE, max_length=1024, truncation=True, return_tensors=\"tf\")"
      ]
    },
    {
      "cell_type": "markdown",
      "metadata": {
        "id": "FU_DtcjjQCQu"
      },
      "source": [
        "Let's get some output using just the default values and see what we're working with."
      ]
    },
    {
      "cell_type": "code",
      "execution_count": 23,
      "metadata": {
        "colab": {
          "base_uri": "https://localhost:8080/"
        },
        "id": "xibRiEDW5SoG",
        "outputId": "cc73f2d8-a6c7-425e-9c19-5c80fbde0876"
      },
      "outputs": [],
      "source": [
        "# Generate Summary\n",
        "summary_ids = pmodel.generate(inputs[\"input_ids\"]\n",
        ")\n",
        "pprint(ptokenizer.batch_decode(summary_ids, skip_special_tokens=True, clean_up_tokenization_spaces=False)[0], compact=True)"
      ]
    },
    {
      "cell_type": "markdown",
      "metadata": {
        "id": "bUExOejWXQRl"
      },
      "source": [
        "Let's experiment with the same set of hyperparameters for the Pegasus system.  It is designed for abstractive summarization. Remember that the checkpoint we are using was trained on data that generates a one line summary for the input article.\n",
        "\n",
        "*Your readable output should consist of at least one complete sentence but does not have to end with a period and you must also have a ROUGE-1 score above 0.30 and ROUGE-L score equal to or above 0.25 when compared with the short reference.*\n",
        "\n",
        "You can use the two cells below to experiment with hyperparameters and generating and scoring your outputs in order to answer questions 2.1 - 2.5 in your answers file.\n",
        "\n",
        "**QUESTION:**\n",
        "\n",
        "2.1 What num_beams value gives you the most readable output that meets the score criteria?\n",
        "\n",
        "2.2 Which no_repeat_ngram_size gives the most readable output that meets the score criteria?\n",
        "\n",
        "2.3 What min_length value gives you the most readable output that meets the score criteria?\n",
        "\n",
        "2.4 Which max_new_tokens value gives the most readable output that meets the score criteria?\n",
        "\n",
        "2.5 What is the ROUGE-L score associated with your most readable candidate?"
      ]
    },
    {
      "cell_type": "code",
      "execution_count": 24,
      "metadata": {
        "colab": {
          "base_uri": "https://localhost:8080/"
        },
        "id": "UzwtfRgFLYPD",
        "outputId": "2f273faa-4bd1-4041-bf42-133d97128e83"
      },
      "outputs": [],
      "source": [
        "# Generate Summary\n",
        "summary_ids = pmodel.generate(inputs[\"input_ids\"],\n",
        "### YOUR CODE HERE\n",
        "### END YOUR CODE\n",
        ")\n",
        "candidate = ptokenizer.batch_decode(summary_ids, skip_special_tokens=True, clean_up_tokenization_spaces=False)\n",
        "pprint(candidate[0], compact=True)"
      ]
    },
    {
      "cell_type": "code",
      "execution_count": 25,
      "metadata": {
        "colab": {
          "base_uri": "https://localhost:8080/"
        },
        "id": "HsZHkhZ0SzM8",
        "outputId": "85731134-b820-40d5-c6aa-f002684396f4"
      },
      "outputs": [],
      "source": [
        "rouge = evaluate.load('rouge')\n",
        "predictions = candidate\n",
        "references = [SHORT_REFERENCE]\n",
        "results = rouge.compute(predictions=predictions,\n",
        "                        references=references)\n",
        "print(results)"
      ]
    },
    {
      "cell_type": "markdown",
      "metadata": {
        "id": "DcCCWke-ulaz"
      },
      "source": [
        "Delete that Pegasus model and tokenizer so we can load the next one."
      ]
    },
    {
      "cell_type": "code",
      "execution_count": 26,
      "metadata": {
        "id": "00Ka26vgk_FT"
      },
      "outputs": [],
      "source": [
        "del pmodel\n",
        "del ptokenizer"
      ]
    },
    {
      "cell_type": "markdown",
      "metadata": {
        "id": "6eXBMGbxtkkh"
      },
      "source": [
        "## 3. Pegasus for Longer Generation\n",
        "\n",
        "Now let's try to produce a longer summary of our article.  In order to do that we are going to use a different fine-tuned checkpoint for Pegasus.  This checkpoint is fine-tuned on the [CNN/Daily Mail](https://huggingface.co/datasets/cnn_dailymail) set of news articles.  The references are on the order of several sentences long."
      ]
    },
    {
      "cell_type": "code",
      "execution_count": 27,
      "metadata": {
        "colab": {
          "base_uri": "https://localhost:8080/",
          "height": 268,
          "referenced_widgets": [
            "a1a8e6f4f7604128943b2ecb260b95c7",
            "053e65934c024448ab39a865ef9ab4cb",
            "f4db86027f7044f995ce25c021abee0e",
            "3b99523c2b044fa8aae92eb7c024c92b",
            "12c056e1bb91481bbb601db60b7c3754",
            "f2d3e188448e4371ba1f17be5835e145",
            "2e6d060e3fb847778869c731b615bad0",
            "b972fe69145c4b7c93b6c8c208a8b17e",
            "5bd31a151fc4445b902f1bb1b4fc6288",
            "d61b33dc73de421980c9ac6fba51dd30",
            "740609384ba04208b25d073d250f4a0e",
            "8829c42815324500ba53e8018e9762ae",
            "2dcb756cb4a74d2f8fa3b98b22824374",
            "aed18901a6d84aea997848218f42de82",
            "a3e1dfb5987c415eb24d889438adcbe4",
            "26487d06ef58444da13f62287bd6c64e",
            "bc10d2a732d24e14b6006f655571ccf2",
            "ae59585f68514e38a58c81f0dc85a119",
            "ded0ca26bb84452ca2ff4429289b5ffc",
            "51554727d39f4b039f4b20fe9a5cc593",
            "4cd1342b01d94a0cb957b9a0b9aefe25",
            "c1f774abf0744f6194b190c979f9afbc",
            "a572da43b46f4414acb79aeab5877297",
            "577453d49774401d96abebefb1e062db",
            "2bc8938b8f444001b08a2365decfe4d0",
            "bda7c7212f204cb78f35632c91ac474c",
            "eeb05c9586634ef9abfeb5731df6326a",
            "80ac0c7541584bfba05d87a1c7178b14",
            "09931e4c053a42968a52d8475510a0d9",
            "51b77ae39da44eb59198df3f3ca1bfa3",
            "b489dd74019f42e6b1f10ce37f652766",
            "4a8ab21ff4bf43ecb4cf328cf44f723e",
            "05373a083aae46c095302b45c902c52d",
            "76a46fdfdba343158a799ff351f6b623",
            "b864664ef2604e28878bbf89c6643167",
            "51930f66b44e4be7a32c0fec0b0126d7",
            "6ca0dcd41a4c4d66b33ed369f9e0b708",
            "5489978f97664f4985eaa754a67c8875",
            "a0879a24952840beb4def67eedf7e344",
            "8a1e2d6412e44eaca4bc23381155acfe",
            "5a194f6dbd0e436094d44f63b5b1d7f2",
            "09c42351e00d403ca630d3deeda317da",
            "44c998bf89f743ae915d91ca926f2a79",
            "bd38a37b05ab4463b5a4a59496c41163",
            "bbeb22824a8443e891315dbdf42907b3",
            "2fde4f7ab6c14f2aadc5328cb8d7d62f",
            "44b3f8ef75f54d81bd8ef96f5484af86",
            "d25f5c109f604fa485f52829b629887e",
            "050d3201e69a40f48cb12b5f01ab6067",
            "66a6726296f54525a1c5bdd37e5a69a8",
            "e4b470aaff2a46b7909b6ca336cb19cd",
            "c51e547b720f498784828f0e39b534c5",
            "d97d61450cca482ab32a987038fc061f",
            "ca95b14c4da44828897826d0cf8e7d4d",
            "8c3ef3d2bd1946238867ac595337d3fa"
          ]
        },
        "id": "OME5_uYKbvwL",
        "outputId": "7617b0f9-25be-41b1-de5a-da433df965a4"
      },
      "outputs": [],
      "source": [
        "from transformers import PegasusTokenizer, TFPegasusForConditionalGeneration\n",
        "\n",
        "cnnmodel = TFPegasusForConditionalGeneration.from_pretrained(\"google/pegasus-cnn_dailymail\", from_pt=True)\n",
        "cnntokenizer = PegasusTokenizer.from_pretrained(\"google/pegasus-cnn_dailymail\", from_pt=True)"
      ]
    },
    {
      "cell_type": "markdown",
      "metadata": {
        "id": "jNeNhSWSQCQx"
      },
      "source": [
        "Let's see how this checkpoint is configured by default:"
      ]
    },
    {
      "cell_type": "code",
      "execution_count": 28,
      "metadata": {
        "colab": {
          "base_uri": "https://localhost:8080/"
        },
        "id": "9EOe_hLKLaOR",
        "outputId": "ea256e9d-1ba8-4ecc-9944-c3e828988294"
      },
      "outputs": [],
      "source": [
        "config = AutoConfig.from_pretrained(\"google/pegasus-cnn_dailymail\")\n",
        "\n",
        "config"
      ]
    },
    {
      "cell_type": "markdown",
      "metadata": {
        "id": "FcedEgr2QCQx"
      },
      "source": [
        "Let's tokenize our input for this checkpoint."
      ]
    },
    {
      "cell_type": "code",
      "execution_count": 29,
      "metadata": {
        "id": "FWl1UypibvkS"
      },
      "outputs": [],
      "source": [
        "cnninputs = cnntokenizer(ARTICLE_TO_SUMMARIZE, max_length=1024, truncation=True, return_tensors=\"tf\")"
      ]
    },
    {
      "cell_type": "markdown",
      "metadata": {
        "id": "7HxZ7jOSQCQy"
      },
      "source": [
        "Run the summarizer with the defaults and let's see what it looks like."
      ]
    },
    {
      "cell_type": "code",
      "execution_count": 30,
      "metadata": {
        "colab": {
          "base_uri": "https://localhost:8080/"
        },
        "id": "wx0og8kI3tOE",
        "outputId": "8ad11f22-8202-4a4e-f5e0-b085364e19c5"
      },
      "outputs": [],
      "source": [
        "# Generate Summary\n",
        "summary_ids = cnnmodel.generate(inputs[\"input_ids\"]\n",
        ")\n",
        "\n",
        "pprint(cnntokenizer.batch_decode(summary_ids, skip_special_tokens=True, clean_up_tokenization_spaces=False)[0], compact=True)"
      ]
    },
    {
      "cell_type": "markdown",
      "metadata": {
        "id": "eY8StZx9R1Kx"
      },
      "source": [
        "Let's again experiment with the same set of hyperparameters (but possibly with different values) for the Pegasus system.  It is designed for abstractive summarization and this checkpoint is based on multi-line outputs.  We'll evaluate it against the long reference record.\n",
        "\n",
        "*Your readable multi-line output must have a ROUGE-1 score above 0.25 and a ROUGE-L score above 0.15.*\n",
        "\n",
        "You can use the two cells below to experiment with hyperparameters and generating and scoring your outputs in order to answer questions 3.1 - 3.5 in your answers file.\n",
        "\n",
        "**QUESTION:**\n",
        "\n",
        "3.1 What num_beams value gives you the most readable output that meets the score criteria?\n",
        "\n",
        "3.2 Which no_repeat_ngram_size gives the most readable output that meets the score criteria?\n",
        "\n",
        "3.3 What min_length value gives you the most readable output that meets the score criteria?\n",
        "\n",
        "3.4 Which max_new_tokens value gives you the most readable output that meets the score criteria?\n",
        "\n",
        "3.5 What is the ROUGE-L score associated with your most readable candidate?"
      ]
    },
    {
      "cell_type": "code",
      "execution_count": 31,
      "metadata": {
        "colab": {
          "base_uri": "https://localhost:8080/"
        },
        "id": "UZ3IeglUcpu8",
        "outputId": "cf9df821-5e46-4d19-c588-3267f8261bed"
      },
      "outputs": [],
      "source": [
        "# Generate Summary\n",
        "summary_ids = cnnmodel.generate(cnninputs[\"input_ids\"],\n",
        "### YOUR CODE HERE\n",
        "### END YOUR CODE\n",
        "                             )\n",
        "candidate = cnntokenizer.batch_decode(summary_ids, skip_special_tokens=True, clean_up_tokenization_spaces=False)\n",
        "pprint(candidate[0], compact=True)"
      ]
    },
    {
      "cell_type": "code",
      "execution_count": 32,
      "metadata": {
        "colab": {
          "base_uri": "https://localhost:8080/"
        },
        "id": "wtrDFoIKbvG1",
        "outputId": "46fd05a7-b299-4b8a-b35d-6413035d9f2a"
      },
      "outputs": [],
      "source": [
        "rouge = evaluate.load('rouge')\n",
        "predictions = candidate\n",
        "references = [LONG_REFERENCE]\n",
        "results = rouge.compute(predictions=predictions,\n",
        "                        references=references)\n",
        "print(results)"
      ]
    },
    {
      "cell_type": "markdown",
      "metadata": {
        "id": "G_8izqsFbQU0"
      },
      "source": [
        "Okay, you're done.\n",
        "\n",
        "Which model do you think produced the best summaries keeping in mind that best is in the eye of the reader?"
      ]
    }
  ],
  "metadata": {
    "colab": {
      "provenance": []
    },
    "gpuClass": "standard",
    "kernelspec": {
      "display_name": "Python 3 (ipykernel)",
      "language": "python",
      "name": "python3"
    },
    "language_info": {
      "codemirror_mode": {
        "name": "ipython",
        "version": 3
      },
      "file_extension": ".py",
      "mimetype": "text/x-python",
      "name": "python",
      "nbconvert_exporter": "python",
      "pygments_lexer": "ipython3",
      "version": "3.11.5"
    }
  },
  "nbformat": 4,
  "nbformat_minor": 1
}
